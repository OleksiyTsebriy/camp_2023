{
 "cells": [
  {
   "cell_type": "markdown",
   "metadata": {},
   "source": [
    "# Syllabys:\n",
    "\n",
    "- [Projects workflow](#projects-workflow)\n",
    "- [Web API](#web-api)\n",
    "- [FastAPI](#fastapi)\n",
    "- [Flask](#flask)\n",
    "- [Additional web frameworks](#additional-web-frameworks)\n",
    "- [Gradio](#gradio)\n",
    "- [Web Sockets](#websockets)\n",
    "- [Event-driven architecture](#event-driven-architecture)\n",
    "- [Homework](#homework)"
   ]
  },
  {
   "cell_type": "markdown",
   "metadata": {},
   "source": [
    "# Projects workflow"
   ]
  },
  {
   "cell_type": "markdown",
   "metadata": {},
   "source": [
    "![ML Workflow](https://images.datacamp.com/image/upload/v1662726672/image2_2daaea8e04.png)\n",
    "\n",
    "The usual ML projects workflow consists of such steps:\n",
    "\n",
    "1. Project setup:\n",
    "    \n",
    "    * understanding of the business goals\n",
    "    * task formulation\n",
    "    * discovery of the feasibility\n",
    "    * solution planning\n",
    "\n",
    "2. Data analysis and preperation:\n",
    "\n",
    "    * data collection\n",
    "    * data cleaning\n",
    "    * Exploratory Data Analysis (EDA)\n",
    "    * Feature Engineering (+ additional EDA of new features)\n",
    "\n",
    "3. Modeling (prototyping):\n",
    "\n",
    "    * models' research\n",
    "    * experimentation\n",
    "    * training\n",
    "    * tuning and evaluating\n",
    "\n",
    "4. Deployment\n",
    "\n",
    "    * algorithms development\n",
    "    * deployment\n",
    "    * monitoring"
   ]
  },
  {
   "cell_type": "markdown",
   "metadata": {},
   "source": [
    "`Deployment` involves transitioning an ML model from an offline environment into an existing production system. This step is pivotal for the model to fulfill its intended purpose and effectively tackle the challenges it was designed for.\n",
    "\n",
    "In general, there's two approaches to the data processing that would influence further architecture style of the deployment.\n",
    "\n",
    "<img src='https://serverlessland.com/assets/visuals/eda/batching-processing-vs-event-streaming.png' alt='Data processing styles'\n",
    "style='width: 80%'>\n",
    "\n",
    "Those approaches are:\n",
    "\n",
    "- batch processing - processing of the large amount of data in cases where real-time processing is not required;\n",
    "- event streams or real-time inference - processing of a single sample immediately (in real-time)."
   ]
  },
  {
   "cell_type": "markdown",
   "metadata": {},
   "source": [
    "Usually deployment means to create some interfaces to communicate with model and other algorithms. Such interfaces could be used in any mentioned approach. They are:\n",
    "\n",
    "- scripts - executable files that takes specific input and returns specific output (usually some storage action - saves to the memory or updates some DB), generally used for batch processing;\n",
    "- modules - Python code with packed functionality that could be used as development kit (interface to be used by other developers);\n",
    "- application programming interface (API) - provides cross-platform functionality on some remote server, usually in web or RPC form (generally used for real-time processing)."
   ]
  },
  {
   "cell_type": "code",
   "execution_count": null,
   "metadata": {},
   "outputs": [],
   "source": []
  },
  {
   "cell_type": "markdown",
   "metadata": {},
   "source": [
    "# Web API"
   ]
  },
  {
   "cell_type": "markdown",
   "metadata": {},
   "source": [
    "API is the most popular form of deployment as it allows to move operational (processing) side to some remote server with access to it.\n",
    "\n",
    "Pros:\n",
    "\n",
    "- global accessibility\n",
    "- centralized deployment (allows to automatically update and manage software and hardware)\n",
    "- scalability\n",
    "\n",
    "Cons:\n",
    "\n",
    "- security\n",
    "- depends on internet connection\n",
    "\n",
    "\n",
    "Simple architecture design:\n",
    "\n",
    "![API schema](https://blogs.mulesoft.com/wp-content/uploads/apis-versus-web-services-1.png)"
   ]
  },
  {
   "cell_type": "markdown",
   "metadata": {},
   "source": [
    "<h3>REST</h3>\n",
    "\n",
    "A `RESTful API` (Representational State Transfer) is an `architectural style` for designing networked applications. It utilizes `standard HTTP methods` (GET, POST, PUT, DELETE) to perform actions on resources, which are represented as URLs.\n",
    "\n",
    "<h4>Why it's used:</h4>\n",
    "\n",
    "- `Interoperability`: Allows different software systems to interact and exchange data seamlessly using standards.\n",
    "- `Modularity`: Enables developers to decouple frontend and backend components, fostering easier maintenance and updates.\n",
    "- `Scalability`: Supports scaling of applications to accommodate growing user bases and evolving requirements."
   ]
  },
  {
   "cell_type": "markdown",
   "metadata": {},
   "source": [
    "## HTTP overview"
   ]
  },
  {
   "cell_type": "markdown",
   "metadata": {},
   "source": [
    "`HTTP` is a protocol for `fetching resources` such as HTML documents. It is the foundation of any data exchange on the Web and it is a client-server protocol.\n",
    "\n",
    "Clients and servers communicate by `exchanging individual messages` (as opposed to a stream of data). The messages sent by the client, usually a Web browser, are called `requests` and the messages sent by the server as an answer are called `responses`.\n",
    "\n",
    "<img src='https://developer.mozilla.org/en-US/docs/Web/HTTP/Overview/http-layers.png' width='50%'>"
   ]
  },
  {
   "cell_type": "markdown",
   "metadata": {},
   "source": [
    "<h3>HTTP messages</h3>\n",
    "\n",
    "There are two types of HTTP messages, requests and responses, each with its own format.\n"
   ]
  },
  {
   "cell_type": "markdown",
   "metadata": {},
   "source": [
    "<h4>Requests</h4>\n",
    "\n",
    "Typical HTTP request looks:\n",
    "\n",
    "![HTTP Request](https://developer.mozilla.org/en-US/docs/Web/HTTP/Overview/http_request.png)\n",
    "\n",
    "\n",
    "Requests consist of the following elements:\n",
    "\n",
    "- An HTTP method, usually a verb like GET, POST, or a noun like OPTIONS or HEAD that defines the operation the client wants to perform.\n",
    "- The path of the resource to fetch; the URL of the resource stripped from elements that are obvious from the context, for example without the protocol (http://), the domain (here, developer.mozilla.org), or the TCP port (here, 80).\n",
    "- The version of the HTTP protocol.\n",
    "- Optional headers that convey additional information for the servers.\n",
    "- A body, for some methods like POST, similar to those in responses, which contain the resource sent.\n",
    "\n"
   ]
  },
  {
   "cell_type": "markdown",
   "metadata": {},
   "source": [
    "<h5>HTTP request methods</h5>\n",
    "\n",
    "HTTP defines a `set of request methods` to indicate the desired action to be performed for a given resource.\n",
    "\n",
    "- `GET` - used to request a representation, doesn't have a body, all parameters (variables) are passed in the path;\n",
    "- `HEAD` - used to get representation without response body;\n",
    "- `POST` - used to sends data to the server for processing (creating entity or modifying it), has an encrypted body;\n",
    "- `PUT` - used to create or replace resource with new one;\n",
    "- `DELETE` - used to remove resource;\n",
    "- and several others (OPTIONS, CONNECT, TRACE, PATCH).\n",
    "\n",
    "<br/>\n",
    "\n",
    "Example of methods application (CRUD-oriented systems):\n",
    "\n",
    "![Methods example](https://1.bp.blogspot.com/-NES44rDk7aY/XpsSeVDaRdI/AAAAAAAAHqc/BQ4NIgGXBtEVmilZbvazluMNAd06L5o6wCLcBGAsYHQ/s1600/api-list.PNG)\n",
    "\n",
    "\n",
    "\n",
    "\n",
    "Note:\n",
    "\n",
    "Of course, it's possible to use only GET and POST methods for modification or removing entity. But it's more clear way to use different methods without creating extra endpoints.\n"
   ]
  },
  {
   "cell_type": "markdown",
   "metadata": {},
   "source": [
    "<h4>Response</h4>\n",
    "\n",
    "Typical HTTP response:\n",
    "\n",
    "![Response](https://developer.mozilla.org/en-US/docs/Web/HTTP/Overview/http_response.png)\n",
    "\n",
    "Responses consist of the following elements:\n",
    "\n",
    "- The version of the HTTP protocol they follow.\n",
    "- A status code, indicating if the request was successful or not, and why.\n",
    "- A status message, a non-authoritative short description of the status code.\n",
    "- HTTP headers, like those for requests.\n",
    "- Optionally, a body containing the fetched resource."
   ]
  },
  {
   "cell_type": "markdown",
   "metadata": {},
   "source": [
    "<h5>HTTP response status codes</h5>\n",
    "\n",
    "HTTP response status codes indicate whether a specific HTTP request has been successfully completed. Responses are grouped in five classes:\n",
    "\n",
    "1. Informational responses (100 – 199)\n",
    "2. Successful responses (200 – 299)\n",
    "3. Redirection messages (300 – 399)\n",
    "4. Client error responses (400 – 499)\n",
    "5. Server error responses (500 – 599)\n",
    "\n",
    "\n",
    "The most popular response codes are:\n",
    "\n",
    "- 200 OK - the request succeeded;\n",
    "- 307 Temporarily Redirect - the request is redirected to another URI with the same method;\n",
    "- 400 Bad Request - the request cannot be processed;\n",
    "- 401 Unauthorized / 403 Forbidden - the access to the resource is not granted;\n",
    "- 404 Not Found - resource is not located by server;\n",
    "- 500 Internal Server Error - the server encountered an error.\n",
    "\n",
    "\n",
    "The list of all response codes is [located here](https://developer.mozilla.org/en-US/docs/Web/HTTP/Status)."
   ]
  },
  {
   "cell_type": "markdown",
   "metadata": {},
   "source": [
    "## Web-servers - WSGI and ASGI\n",
    "\n",
    "\n",
    "Usual Python web applications are written with the use of high-level frameworks (such as, FastAPI, Flask, Django, etc). \n",
    "Such applications describe functionality of the applications - it's processes and business logic, what happens when application gets a request.\n",
    "But for correct functioning of web apps as servers, they need to be wrapped into web-servers that handles whole web functionality - communication with client, web protocols, etc.\n",
    "\n",
    "Such web servers are categorized into two types (by used protocols):\n",
    "\n",
    "- WSGI (Web Server Gateway Interface) - specification that describes synchronous communication of the server with web application (Gunicorn, uWSGI, etc.)\n",
    "- ASGI (Asynchronous Server Gateway Interface) - specification that describes asynchronous communication of the server with web application (Uvicron, Daphne, etc.)"
   ]
  },
  {
   "cell_type": "code",
   "execution_count": null,
   "metadata": {},
   "outputs": [],
   "source": []
  },
  {
   "cell_type": "markdown",
   "metadata": {},
   "source": [
    "# FastAPI"
   ]
  },
  {
   "cell_type": "markdown",
   "metadata": {},
   "source": [
    "FastAPI is a modern, fast (high-performance), web framework for building APIs with Python 3.8+ based on standard Python type hints.\n",
    "\n",
    "The key features are:\n",
    "\n",
    "- Fast: Very high performance, on par with NodeJS and Go (thanks to Starlette and Pydantic). One of the fastest Python frameworks available.\n",
    "- Short: Minimize code duplication. Multiple features from each parameter declaration. Automatic parameters validation.\n",
    "- Robust: Get production-ready code. With automatic interactive documentation.\n",
    "- Standards-based: Based on (and fully compatible with) the open standards for APIs: OpenAPI (previously known as Swagger) and JSON Schema.\n"
   ]
  },
  {
   "cell_type": "code",
   "execution_count": 1,
   "metadata": {},
   "outputs": [
    {
     "name": "stdout",
     "output_type": "stream",
     "text": [
      "Requirement already satisfied: fastapi in /home/work/Work/custom/.venv/lib/python3.10/site-packages (0.109.0)\n",
      "Requirement already satisfied: uvicorn[standard] in /home/work/Work/custom/.venv/lib/python3.10/site-packages (0.22.0)\n",
      "Requirement already satisfied: pydantic!=1.8,!=1.8.1,!=2.0.0,!=2.0.1,!=2.1.0,<3.0.0,>=1.7.4 in /home/work/Work/custom/.venv/lib/python3.10/site-packages (from fastapi) (2.6.0)\n",
      "Requirement already satisfied: typing-extensions>=4.8.0 in /home/work/Work/custom/.venv/lib/python3.10/site-packages (from fastapi) (4.9.0)\n",
      "Requirement already satisfied: starlette<0.36.0,>=0.35.0 in /home/work/Work/custom/.venv/lib/python3.10/site-packages (from fastapi) (0.35.1)\n",
      "Requirement already satisfied: h11>=0.8 in /home/work/Work/custom/.venv/lib/python3.10/site-packages (from uvicorn[standard]) (0.14.0)\n",
      "Requirement already satisfied: click>=7.0 in /home/work/Work/custom/.venv/lib/python3.10/site-packages (from uvicorn[standard]) (8.1.3)\n",
      "Collecting uvloop!=0.15.0,!=0.15.1,>=0.14.0\n",
      "  Downloading uvloop-0.19.0-cp310-cp310-manylinux_2_17_x86_64.manylinux2014_x86_64.whl (3.4 MB)\n",
      "\u001b[2K     \u001b[90m━━━━━━━━━━━━━━━━━━━━━━━━━━━━━━━━━━━━━━━━\u001b[0m \u001b[32m3.4/3.4 MB\u001b[0m \u001b[31m16.0 MB/s\u001b[0m eta \u001b[36m0:00:00\u001b[0m00:01\u001b[0m00:01\u001b[0m\n",
      "\u001b[?25hRequirement already satisfied: python-dotenv>=0.13 in /home/work/Work/custom/.venv/lib/python3.10/site-packages (from uvicorn[standard]) (1.0.0)\n",
      "Requirement already satisfied: websockets>=10.4 in /home/work/Work/custom/.venv/lib/python3.10/site-packages (from uvicorn[standard]) (11.0.3)\n",
      "Collecting httptools>=0.5.0\n",
      "  Downloading httptools-0.6.1-cp310-cp310-manylinux_2_5_x86_64.manylinux1_x86_64.manylinux_2_17_x86_64.manylinux2014_x86_64.whl (341 kB)\n",
      "\u001b[2K     \u001b[90m━━━━━━━━━━━━━━━━━━━━━━━━━━━━━━━━━━━━━━\u001b[0m \u001b[32m341.4/341.4 KB\u001b[0m \u001b[31m45.2 MB/s\u001b[0m eta \u001b[36m0:00:00\u001b[0m\n",
      "\u001b[?25hCollecting watchfiles>=0.13\n",
      "  Downloading watchfiles-0.21.0-cp310-cp310-manylinux_2_17_x86_64.manylinux2014_x86_64.whl (1.3 MB)\n",
      "\u001b[2K     \u001b[90m━━━━━━━━━━━━━━━━━━━━━━━━━━━━━━━━━━━━━━━━\u001b[0m \u001b[32m1.3/1.3 MB\u001b[0m \u001b[31m34.9 MB/s\u001b[0m eta \u001b[36m0:00:00\u001b[0m00:01\u001b[0m\n",
      "\u001b[?25hRequirement already satisfied: pyyaml>=5.1 in /home/work/Work/custom/.venv/lib/python3.10/site-packages (from uvicorn[standard]) (6.0)\n",
      "Requirement already satisfied: annotated-types>=0.4.0 in /home/work/Work/custom/.venv/lib/python3.10/site-packages (from pydantic!=1.8,!=1.8.1,!=2.0.0,!=2.0.1,!=2.1.0,<3.0.0,>=1.7.4->fastapi) (0.6.0)\n",
      "Requirement already satisfied: pydantic-core==2.16.1 in /home/work/Work/custom/.venv/lib/python3.10/site-packages (from pydantic!=1.8,!=1.8.1,!=2.0.0,!=2.0.1,!=2.1.0,<3.0.0,>=1.7.4->fastapi) (2.16.1)\n",
      "Requirement already satisfied: anyio<5,>=3.4.0 in /home/work/Work/custom/.venv/lib/python3.10/site-packages (from starlette<0.36.0,>=0.35.0->fastapi) (3.6.2)\n",
      "Requirement already satisfied: sniffio>=1.1 in /home/work/Work/custom/.venv/lib/python3.10/site-packages (from anyio<5,>=3.4.0->starlette<0.36.0,>=0.35.0->fastapi) (1.3.0)\n",
      "Requirement already satisfied: idna>=2.8 in /home/work/Work/custom/.venv/lib/python3.10/site-packages (from anyio<5,>=3.4.0->starlette<0.36.0,>=0.35.0->fastapi) (3.4)\n",
      "Installing collected packages: uvloop, httptools, watchfiles\n",
      "Successfully installed httptools-0.6.1 uvloop-0.19.0 watchfiles-0.21.0\n"
     ]
    }
   ],
   "source": [
    "!pip install fastapi uvicorn[standard]"
   ]
  },
  {
   "cell_type": "markdown",
   "metadata": {},
   "source": [
    "```py\n",
    "from typing import Union\n",
    "from fastapi import FastAPI\n",
    "\n",
    "app = FastAPI()\n",
    "\n",
    "\n",
    "@app.get(\"/\")\n",
    "def read_root():\n",
    "    return {\"Hello\": \"World\"}\n",
    "\n",
    "\n",
    "@app.get(\"/items/{item_id}\")\n",
    "def read_item(item_id: int, q: Union[str, None] = None):\n",
    "    return {\"item_id\": item_id, \"q\": q}\n",
    "```"
   ]
  },
  {
   "cell_type": "markdown",
   "metadata": {},
   "source": [
    "Example of FastAPI application is [located here](fast_api_demo/app.py)."
   ]
  },
  {
   "cell_type": "code",
   "execution_count": null,
   "metadata": {},
   "outputs": [],
   "source": []
  },
  {
   "cell_type": "markdown",
   "metadata": {},
   "source": [
    "# Flask"
   ]
  },
  {
   "cell_type": "markdown",
   "metadata": {},
   "source": [
    "Flask is a lightweight and flexible Python web framework that simplifies the process of building web applications. It provides tools, libraries, and utilities for routing requests, handling responses, and managing application logic, allowing developers to create web services quickly and efficiently. Flask follows a minimalistic approach, giving developers the freedom to choose components and extensions based on their project requirements, making it popular for developing small to medium-sized web applications and APIs."
   ]
  },
  {
   "cell_type": "markdown",
   "metadata": {},
   "source": [
    "```py\n",
    "from flask import Flask\n",
    "\n",
    "app = Flask(__name__)\n",
    "\n",
    "\n",
    "@app.get(\"/\")\n",
    "def read_root():\n",
    "    return {\"Hello\": \"World\"}\n",
    "\n",
    "\n",
    "@app.get(\"/items/<item_id>\")\n",
    "def read_item(item_id: int):\n",
    "    return {\"item_id\": item_id, \"q\": q}\n",
    "```"
   ]
  },
  {
   "cell_type": "code",
   "execution_count": null,
   "metadata": {},
   "outputs": [],
   "source": [
    "!pip install flask"
   ]
  },
  {
   "cell_type": "markdown",
   "metadata": {},
   "source": [
    "Example of Flask application (same logic and structure as in previous example) is [located here](flask_api_demo/app.py)."
   ]
  },
  {
   "cell_type": "code",
   "execution_count": null,
   "metadata": {},
   "outputs": [],
   "source": []
  },
  {
   "cell_type": "markdown",
   "metadata": {},
   "source": [
    "# Additional web frameworks"
   ]
  },
  {
   "cell_type": "markdown",
   "metadata": {},
   "source": [
    "- `Django` - high-level Python web framework that offers a comprehensive set of tools and libraries to facilitate rapid development of web applications. Django includes features like an ORM (Object-Relational Mapping) for database management, a robust admin interface, authentication, and URL routing, making it suitable for building complex, database-driven websites and web applications efficiently.\n",
    "\n",
    "    * `Django REST Framework (DRF)` is a powerful toolkit for building Web APIs with Django. It provides a set of tools and libraries that simplify the creation of RESTful APIs by leveraging Django's features. DRF offers serialization, authentication, permissions, and view classes tailored for API development, allowing developers to build scalable and maintainable APIs quickly and efficiently. It follows best practices for RESTful API design and integrates seamlessly with Django, making it the go-to choice for building APIs in Django-based web applications.\n",
    "\n",
    "- `Falcon` - minimalist Python web framework designed for building high-performance APIs. It focuses on speed and efficiency, offering a lightweight, asynchronous architecture that prioritizes resource optimization. Falcon's simplicity and emphasis on low overhead make it ideal for developing fast and scalable web APIs, particularly in scenarios where performance is critical, such as microservices and backend systems handling large volumes of requests.\n",
    "\n",
    "\n"
   ]
  },
  {
   "cell_type": "code",
   "execution_count": null,
   "metadata": {},
   "outputs": [],
   "source": []
  },
  {
   "cell_type": "markdown",
   "metadata": {},
   "source": [
    "# Gradio"
   ]
  },
  {
   "cell_type": "markdown",
   "metadata": {},
   "source": [
    "Gradio is an open-source Python package that allows to quickly build a demo or web application for machine learning model, API, or any arbitary Python function."
   ]
  },
  {
   "cell_type": "code",
   "execution_count": 1,
   "metadata": {},
   "outputs": [
    {
     "name": "stdout",
     "output_type": "stream",
     "text": [
      "Requirement already satisfied: gradio in /home/work/Work/custom/.venv/lib/python3.10/site-packages (3.44.1)\n",
      "Requirement already satisfied: gradio_client in /home/work/Work/custom/.venv/lib/python3.10/site-packages (0.5.0)\n",
      "Requirement already satisfied: requests~=2.0 in /home/work/Work/custom/.venv/lib/python3.10/site-packages (from gradio) (2.28.2)\n",
      "Requirement already satisfied: websockets<12.0,>=10.0 in /home/work/Work/custom/.venv/lib/python3.10/site-packages (from gradio) (11.0.3)\n",
      "Requirement already satisfied: numpy~=1.0 in /home/work/Work/custom/.venv/lib/python3.10/site-packages (from gradio) (1.24.2)\n",
      "Requirement already satisfied: ffmpy in /home/work/Work/custom/.venv/lib/python3.10/site-packages (from gradio) (0.3.1)\n",
      "Requirement already satisfied: pyyaml<7.0,>=5.0 in /home/work/Work/custom/.venv/lib/python3.10/site-packages (from gradio) (6.0)\n",
      "Requirement already satisfied: huggingface-hub>=0.14.0 in /home/work/Work/custom/.venv/lib/python3.10/site-packages (from gradio) (0.20.3)\n",
      "Requirement already satisfied: pydantic!=1.8,!=1.8.1,!=2.0.0,!=2.0.1,<3.0.0,>=1.7.4 in /home/work/Work/custom/.venv/lib/python3.10/site-packages (from gradio) (2.6.0)\n",
      "Requirement already satisfied: pandas<3.0,>=1.0 in /home/work/Work/custom/.venv/lib/python3.10/site-packages (from gradio) (1.5.3)\n",
      "Requirement already satisfied: python-multipart in /home/work/Work/custom/.venv/lib/python3.10/site-packages (from gradio) (0.0.6)\n",
      "Requirement already satisfied: fastapi in /home/work/Work/custom/.venv/lib/python3.10/site-packages (from gradio) (0.109.0)\n",
      "Requirement already satisfied: altair<6.0,>=4.2.0 in /home/work/Work/custom/.venv/lib/python3.10/site-packages (from gradio) (5.2.0)\n",
      "Requirement already satisfied: importlib-resources<7.0,>=1.3 in /home/work/Work/custom/.venv/lib/python3.10/site-packages (from gradio) (6.1.1)\n",
      "Requirement already satisfied: httpx in /home/work/Work/custom/.venv/lib/python3.10/site-packages (from gradio) (0.26.0)\n",
      "Requirement already satisfied: packaging in /home/work/Work/custom/.venv/lib/python3.10/site-packages (from gradio) (21.3)\n",
      "Requirement already satisfied: pydub in /home/work/Work/custom/.venv/lib/python3.10/site-packages (from gradio) (0.25.1)\n",
      "Requirement already satisfied: matplotlib~=3.0 in /home/work/Work/custom/.venv/lib/python3.10/site-packages (from gradio) (3.7.1)\n",
      "Requirement already satisfied: uvicorn>=0.14.0 in /home/work/Work/custom/.venv/lib/python3.10/site-packages (from gradio) (0.22.0)\n",
      "Requirement already satisfied: semantic-version~=2.0 in /home/work/Work/custom/.venv/lib/python3.10/site-packages (from gradio) (2.10.0)\n",
      "Requirement already satisfied: aiofiles<24.0,>=22.0 in /home/work/Work/custom/.venv/lib/python3.10/site-packages (from gradio) (23.2.1)\n",
      "Requirement already satisfied: orjson~=3.0 in /home/work/Work/custom/.venv/lib/python3.10/site-packages (from gradio) (3.9.12)\n",
      "Requirement already satisfied: markupsafe~=2.0 in /home/work/Work/custom/.venv/lib/python3.10/site-packages (from gradio) (2.1.2)\n",
      "Requirement already satisfied: typing-extensions~=4.0 in /home/work/Work/custom/.venv/lib/python3.10/site-packages (from gradio) (4.9.0)\n",
      "Requirement already satisfied: jinja2<4.0 in /home/work/Work/custom/.venv/lib/python3.10/site-packages (from gradio) (3.1.2)\n",
      "Requirement already satisfied: pillow<11.0,>=8.0 in /home/work/Work/custom/.venv/lib/python3.10/site-packages (from gradio) (9.5.0)\n",
      "Requirement already satisfied: fsspec in /home/work/Work/custom/.venv/lib/python3.10/site-packages (from gradio_client) (2023.6.0)\n",
      "Requirement already satisfied: toolz in /home/work/Work/custom/.venv/lib/python3.10/site-packages (from altair<6.0,>=4.2.0->gradio) (0.12.1)\n",
      "Requirement already satisfied: jsonschema>=3.0 in /home/work/Work/custom/.venv/lib/python3.10/site-packages (from altair<6.0,>=4.2.0->gradio) (4.17.3)\n",
      "Requirement already satisfied: tqdm>=4.42.1 in /home/work/Work/custom/.venv/lib/python3.10/site-packages (from huggingface-hub>=0.14.0->gradio) (4.65.0)\n",
      "Requirement already satisfied: filelock in /home/work/Work/custom/.venv/lib/python3.10/site-packages (from huggingface-hub>=0.14.0->gradio) (3.12.0)\n",
      "Requirement already satisfied: pyparsing>=2.3.1 in /home/work/Work/custom/.venv/lib/python3.10/site-packages (from matplotlib~=3.0->gradio) (3.0.9)\n",
      "Requirement already satisfied: kiwisolver>=1.0.1 in /home/work/Work/custom/.venv/lib/python3.10/site-packages (from matplotlib~=3.0->gradio) (1.4.4)\n",
      "Requirement already satisfied: contourpy>=1.0.1 in /home/work/Work/custom/.venv/lib/python3.10/site-packages (from matplotlib~=3.0->gradio) (1.0.7)\n",
      "Requirement already satisfied: fonttools>=4.22.0 in /home/work/Work/custom/.venv/lib/python3.10/site-packages (from matplotlib~=3.0->gradio) (4.39.3)\n",
      "Requirement already satisfied: cycler>=0.10 in /home/work/Work/custom/.venv/lib/python3.10/site-packages (from matplotlib~=3.0->gradio) (0.11.0)\n",
      "Requirement already satisfied: python-dateutil>=2.7 in /home/work/Work/custom/.venv/lib/python3.10/site-packages (from matplotlib~=3.0->gradio) (2.8.2)\n",
      "Requirement already satisfied: pytz>=2020.1 in /home/work/Work/custom/.venv/lib/python3.10/site-packages (from pandas<3.0,>=1.0->gradio) (2023.3)\n",
      "Requirement already satisfied: pydantic-core==2.16.1 in /home/work/Work/custom/.venv/lib/python3.10/site-packages (from pydantic!=1.8,!=1.8.1,!=2.0.0,!=2.0.1,<3.0.0,>=1.7.4->gradio) (2.16.1)\n",
      "Requirement already satisfied: annotated-types>=0.4.0 in /home/work/Work/custom/.venv/lib/python3.10/site-packages (from pydantic!=1.8,!=1.8.1,!=2.0.0,!=2.0.1,<3.0.0,>=1.7.4->gradio) (0.6.0)\n",
      "Requirement already satisfied: charset-normalizer<4,>=2 in /home/work/Work/custom/.venv/lib/python3.10/site-packages (from requests~=2.0->gradio) (3.1.0)\n",
      "Requirement already satisfied: certifi>=2017.4.17 in /home/work/Work/custom/.venv/lib/python3.10/site-packages (from requests~=2.0->gradio) (2022.12.7)\n",
      "Requirement already satisfied: urllib3<1.27,>=1.21.1 in /home/work/Work/custom/.venv/lib/python3.10/site-packages (from requests~=2.0->gradio) (1.26.15)\n",
      "Requirement already satisfied: idna<4,>=2.5 in /home/work/Work/custom/.venv/lib/python3.10/site-packages (from requests~=2.0->gradio) (3.4)\n",
      "Requirement already satisfied: h11>=0.8 in /home/work/Work/custom/.venv/lib/python3.10/site-packages (from uvicorn>=0.14.0->gradio) (0.14.0)\n",
      "Requirement already satisfied: click>=7.0 in /home/work/Work/custom/.venv/lib/python3.10/site-packages (from uvicorn>=0.14.0->gradio) (8.1.3)\n",
      "Requirement already satisfied: starlette<0.36.0,>=0.35.0 in /home/work/Work/custom/.venv/lib/python3.10/site-packages (from fastapi->gradio) (0.35.1)\n",
      "Requirement already satisfied: anyio in /home/work/Work/custom/.venv/lib/python3.10/site-packages (from httpx->gradio) (3.6.2)\n",
      "Requirement already satisfied: sniffio in /home/work/Work/custom/.venv/lib/python3.10/site-packages (from httpx->gradio) (1.3.0)\n",
      "Requirement already satisfied: httpcore==1.* in /home/work/Work/custom/.venv/lib/python3.10/site-packages (from httpx->gradio) (1.0.2)\n",
      "Requirement already satisfied: attrs>=17.4.0 in /home/work/Work/custom/.venv/lib/python3.10/site-packages (from jsonschema>=3.0->altair<6.0,>=4.2.0->gradio) (22.2.0)\n",
      "Requirement already satisfied: pyrsistent!=0.17.0,!=0.17.1,!=0.17.2,>=0.14.0 in /home/work/Work/custom/.venv/lib/python3.10/site-packages (from jsonschema>=3.0->altair<6.0,>=4.2.0->gradio) (0.19.3)\n",
      "Requirement already satisfied: six>=1.5 in /home/work/Work/custom/.venv/lib/python3.10/site-packages (from python-dateutil>=2.7->matplotlib~=3.0->gradio) (1.16.0)\n"
     ]
    }
   ],
   "source": [
    "!pip install gradio gradio_client"
   ]
  },
  {
   "cell_type": "markdown",
   "metadata": {},
   "source": [
    "Simple gradio widget:"
   ]
  },
  {
   "cell_type": "code",
   "execution_count": 2,
   "metadata": {},
   "outputs": [
    {
     "name": "stdout",
     "output_type": "stream",
     "text": [
      "Running on local URL:  http://127.0.0.1:7860\n",
      "\n",
      "To create a public link, set `share=True` in `launch()`.\n"
     ]
    },
    {
     "data": {
      "text/html": [
       "<div><iframe src=\"http://127.0.0.1:7860/\" width=\"100%\" height=\"500\" allow=\"autoplay; camera; microphone; clipboard-read; clipboard-write;\" frameborder=\"0\" allowfullscreen></iframe></div>"
      ],
      "text/plain": [
       "<IPython.core.display.HTML object>"
      ]
     },
     "metadata": {},
     "output_type": "display_data"
    },
    {
     "data": {
      "text/plain": []
     },
     "execution_count": 2,
     "metadata": {},
     "output_type": "execute_result"
    }
   ],
   "source": [
    "import gradio as gr\n",
    "\n",
    "\n",
    "def greet(name, intensity):\n",
    "    return \"Hello \" * intensity + name + \"!\"\n",
    "\n",
    "\n",
    "demo = gr.Interface(\n",
    "    fn=greet,\n",
    "    inputs=[\"text\", \"slider\"],\n",
    "    outputs=[\"text\"],\n",
    ")\n",
    "\n",
    "demo.launch()"
   ]
  },
  {
   "cell_type": "markdown",
   "metadata": {},
   "source": [
    "More advancet gradio widget with components:"
   ]
  },
  {
   "cell_type": "code",
   "execution_count": 3,
   "metadata": {},
   "outputs": [
    {
     "name": "stdout",
     "output_type": "stream",
     "text": [
      "Running on local URL:  http://127.0.0.1:7861\n",
      "\n",
      "To create a public link, set `share=True` in `launch()`.\n"
     ]
    },
    {
     "data": {
      "text/html": [
       "<div><iframe src=\"http://127.0.0.1:7861/\" width=\"100%\" height=\"500\" allow=\"autoplay; camera; microphone; clipboard-read; clipboard-write;\" frameborder=\"0\" allowfullscreen></iframe></div>"
      ],
      "text/plain": [
       "<IPython.core.display.HTML object>"
      ]
     },
     "metadata": {},
     "output_type": "display_data"
    }
   ],
   "source": [
    "import gradio as gr\n",
    "\n",
    "\n",
    "def sentence_builder(quantity, animal, countries, place, activity_list, morning):\n",
    "    return f\"\"\"The {quantity} {animal}s from {\" and \".join(countries)} went to the {place} where they {\" and \".join(activity_list)} until the {\"morning\" if morning else \"night\"}\"\"\"\n",
    "\n",
    "\n",
    "demo = gr.Interface(\n",
    "    sentence_builder,\n",
    "    [\n",
    "        gr.Slider(2, 20, value=4, label=\"Count\", info=\"Choose between 2 and 20\"),\n",
    "        gr.Dropdown(\n",
    "            [\"cat\", \"dog\", \"bird\"], label=\"Animal\", info=\"Will add more animals later!\"\n",
    "        ),\n",
    "        gr.CheckboxGroup([\"USA\", \"Japan\", \"Pakistan\"], label=\"Countries\", info=\"Where are they from?\"),\n",
    "        gr.Radio([\"park\", \"zoo\", \"road\"], label=\"Location\", info=\"Where did they go?\"),\n",
    "        gr.Dropdown(\n",
    "            [\"ran\", \"swam\", \"ate\", \"slept\"], value=[\"swam\", \"slept\"], multiselect=True, label=\"Activity\", info=\"Lorem ipsum dolor sit amet, consectetur adipiscing elit. Sed auctor, nisl eget ultricies aliquam, nunc nisl aliquet nunc, eget aliquam nisl nunc vel nisl.\"\n",
    "        ),\n",
    "        gr.Checkbox(label=\"Morning\", info=\"Did they do it in the morning?\"),\n",
    "    ],\n",
    "    \"text\",\n",
    "    examples=[\n",
    "        [2, \"cat\", [\"Japan\", \"Pakistan\"], \"park\", [\"ate\", \"swam\"], True],\n",
    "        [4, \"dog\", [\"Japan\"], \"zoo\", [\"ate\", \"swam\"], False],\n",
    "        [10, \"bird\", [\"USA\", \"Pakistan\"], \"road\", [\"ran\"], False],\n",
    "        [8, \"cat\", [\"Pakistan\"], \"zoo\", [\"ate\"], True],\n",
    "    ],\n",
    "    api_name='sentence_builder'\n",
    ")\n",
    "\n",
    "if __name__ == \"__main__\":\n",
    "    demo.launch()\n",
    "\n"
   ]
  },
  {
   "cell_type": "markdown",
   "metadata": {},
   "source": [
    "Loading gradio app from hugging face example:"
   ]
  },
  {
   "cell_type": "code",
   "execution_count": 4,
   "metadata": {},
   "outputs": [
    {
     "name": "stdout",
     "output_type": "stream",
     "text": [
      "Fetching model from: https://huggingface.co/google/vit-base-patch16-224\n",
      "Running on local URL:  http://127.0.0.1:7862\n",
      "\n",
      "To create a public link, set `share=True` in `launch()`.\n"
     ]
    },
    {
     "data": {
      "text/html": [
       "<div><iframe src=\"http://127.0.0.1:7862/\" width=\"100%\" height=\"500\" allow=\"autoplay; camera; microphone; clipboard-read; clipboard-write;\" frameborder=\"0\" allowfullscreen></iframe></div>"
      ],
      "text/plain": [
       "<IPython.core.display.HTML object>"
      ]
     },
     "metadata": {},
     "output_type": "display_data"
    },
    {
     "data": {
      "text/plain": []
     },
     "execution_count": 4,
     "metadata": {},
     "output_type": "execute_result"
    }
   ],
   "source": [
    "import gradio as gr\n",
    "\n",
    "gr.load(\"huggingface/google/vit-base-patch16-224\").launch()\n",
    "# OR\n",
    "# gr.load(\"google/vit-base-patch16-224\", src='huggingface').launch()\n",
    "# OR\n",
    "# gr.load(\"google/vit-base-patch16-224\", src='models').launch()"
   ]
  },
  {
   "cell_type": "markdown",
   "metadata": {},
   "source": [
    "Or from Hugging Face spaces:"
   ]
  },
  {
   "cell_type": "code",
   "execution_count": 15,
   "metadata": {},
   "outputs": [
    {
     "name": "stdout",
     "output_type": "stream",
     "text": [
      "Fetching Space from: https://huggingface.co/spaces/openai/whisper\n",
      "Loaded as API: https://openai-whisper.hf.space ✔\n",
      "Running on local URL:  http://127.0.0.1:7867\n",
      "\n",
      "To create a public link, set `share=True` in `launch()`.\n"
     ]
    },
    {
     "data": {
      "text/html": [
       "<div><iframe src=\"http://127.0.0.1:7867/\" width=\"100%\" height=\"500\" allow=\"autoplay; camera; microphone; clipboard-read; clipboard-write;\" frameborder=\"0\" allowfullscreen></iframe></div>"
      ],
      "text/plain": [
       "<IPython.core.display.HTML object>"
      ]
     },
     "metadata": {},
     "output_type": "display_data"
    },
    {
     "data": {
      "text/plain": []
     },
     "execution_count": 15,
     "metadata": {},
     "output_type": "execute_result"
    }
   ],
   "source": [
    "import gradio as gr\n",
    "\n",
    "\n",
    "gr.load('spaces/openai/whisper').launch()"
   ]
  },
  {
   "cell_type": "markdown",
   "metadata": {},
   "source": [
    "Chatbot example is [available here](gradio_demos/chatbot_demo.py).\n",
    "\n",
    "Example of gradio integration with [FastAPI is located here](gradio_demos/fastapi_integration.py)."
   ]
  },
  {
   "cell_type": "markdown",
   "metadata": {},
   "source": [
    "## Streamlit - another framework that allows to build web application."
   ]
  },
  {
   "cell_type": "markdown",
   "metadata": {},
   "source": [
    "# WebSockets"
   ]
  },
  {
   "cell_type": "markdown",
   "metadata": {},
   "source": [
    "The WebSocket API is an advanced technology that makes it possible to open a `two-way` interactive communication session between the user's browser and a server. With this API, you can send messages to a server and receive event-driven responses without having to poll the server for a reply."
   ]
  },
  {
   "cell_type": "markdown",
   "metadata": {},
   "source": [
    "Web Sockets architecture example:\n",
    "\n",
    "![Web Sockets architecture example](https://www-uploads.scaleway.com/blog-websockets-bigger-4.webp)"
   ]
  },
  {
   "cell_type": "markdown",
   "metadata": {},
   "source": [
    "WebSockets could be implemented via:\n",
    "\n",
    "- [FastAPI WebSockets](https://fastapi.tiangolo.com/advanced/websockets/)\n",
    "- [Flask Sockets](https://flask-socketio.readthedocs.io/en/latest/)"
   ]
  },
  {
   "cell_type": "code",
   "execution_count": null,
   "metadata": {},
   "outputs": [],
   "source": []
  },
  {
   "cell_type": "markdown",
   "metadata": {},
   "source": [
    "# Event-driven architecture"
   ]
  },
  {
   "cell_type": "markdown",
   "metadata": {},
   "source": [
    "APIs (Application Programming Interfaces) provide a way for different software systems to `communicate and interact with each other`. They define the methods and data formats that `applications can use to request and exchange information`. While APIs can facilitate data processing by allowing systems to request or send data, they are not inherently event-driven.\n",
    "\n",
    "An `event-driven approach` to data processing typically involves `responding to specific events or triggers` that occur within a system or environment. These events could include user actions, system notifications, or external inputs. In an event-driven architecture, data processing is driven by these events, leading to a more responsive and reactive system."
   ]
  },
  {
   "cell_type": "markdown",
   "metadata": {},
   "source": [
    "Event-driven architecture also have a structure similar to API that usually are deployed as `Client-Server` architecture. For event-driven architectures such structure is called `Producer-Consumer`.\n",
    "\n",
    "`Producer` is a role that generates messages (events) while `Consumer` is a role that reads and handles messages (events). Situations where some script handles both roles (Consumes from one process and Produces to another) also happen."
   ]
  },
  {
   "cell_type": "markdown",
   "metadata": {},
   "source": [
    "There're three approaches to the event-driven architecture:\n",
    "\n",
    "<img src=\"https://serverlessland.com/assets/visuals/eda/queues-vs-streams-vs-pubsub.png\" style=\"width: 80%\">"
   ]
  },
  {
   "cell_type": "markdown",
   "metadata": {},
   "source": [
    "<h3>Queues</h3>\n",
    "\n",
    "- Messages are put onto a queue and consumers consume the message to process them.\n",
    "- Messages are acknowledged as they are consumed and deleted after they a processed.\n",
    "- Messages can be consumed by many consumers giving you the ability to process messages in parallel.\n",
    "\n",
    "\n",
    "<h3>Streams</h3>\n",
    "\n",
    "- Event streams involve processing data as it happens. Event streams are a continuous flow of data that can be collected and processed in (near) real time.\n",
    "- Think of streams as a series of unbounded events (events that never end).\n",
    "- Typically, messages in streams are ordered (based on partition/topic), depending on solutions used.\n",
    "- Consumers can read events in the stream from a particular point in that topic/time.\n",
    "\n",
    "\n",
    "<h3>Pub/Sub (Publish/Subscribe)</h3>\n",
    "\n",
    "- Publish events to many downstream consumers.\n",
    "- Consumers get their own copy of the message to process (unlike queues, where messages are pulled from the queue).\n",
    "- Consumers (subscribers) come and go, producers (publishers) produce events often without knowing downstream consumers.\n"
   ]
  },
  {
   "cell_type": "markdown",
   "metadata": {},
   "source": [
    "Such platforms are used to implement event-driven architecture:\n",
    "\n",
    "- [Apache Kafka](https://kafka.apache.org/documentation/#gettingStarted) - have implementations of Queues and Topics (with `Producer/Consumer` interfaces) and Streams;\n",
    "- [RabbitMQ](https://www.rabbitmq.com/tutorials) - have implementations of Queues and Topics;\n",
    "- [Redis](https://redis.io/docs/about/) - have implementations of Queues (as List data structure) and Pub/Sub messaging.\n",
    "\n",
    "\n",
    "Each platform has Python library to access its API."
   ]
  },
  {
   "cell_type": "code",
   "execution_count": 1,
   "metadata": {},
   "outputs": [
    {
     "name": "stdout",
     "output_type": "stream",
     "text": [
      "Collecting kafka-python\n",
      "  Downloading kafka_python-2.0.2-py2.py3-none-any.whl (246 kB)\n",
      "\u001b[2K     \u001b[90m━━━━━━━━━━━━━━━━━━━━━━━━━━━━━━━━━━━━━━━\u001b[0m \u001b[32m246.5/246.5 KB\u001b[0m \u001b[31m2.6 MB/s\u001b[0m eta \u001b[36m0:00:00\u001b[0ma \u001b[36m0:00:01\u001b[0m\n",
      "\u001b[?25hInstalling collected packages: kafka-python\n",
      "Successfully installed kafka-python-2.0.2\n"
     ]
    }
   ],
   "source": [
    "# Kafka example\n",
    "# Install Kafka - https://kafka.apache.org/quickstart\n",
    "\n",
    "!pip install kafka-python"
   ]
  },
  {
   "cell_type": "markdown",
   "metadata": {},
   "source": [
    "Kafka could be started as [local server](https://kafka.apache.org/quickstart) (either by scripts or as Docker image).\n",
    "\n",
    "Steps to start it as Docker image:\n",
    "\n",
    "1. Run a Zookeeper instance:\n",
    "\n",
    "```bash\n",
    "docker run -d -p 2181:2181 ubuntu/zookeeper:edge\n",
    "```\n",
    "\n",
    "\n",
    "2. Run a Kafka instance:\n",
    "\n",
    "```bash\n",
    "docker run -d --name kafka-container -e TZ=UTC -p 9092:9092 -e ZOOKEEPER_HOST=localhost--net=host ubuntu/kafka:3.1-22.04_beta\n",
    "```\n",
    "\n",
    "3. Get into interactive shell:\n",
    "\n",
    "```bash\n",
    "docker exec -it kafka-container /bin/bash\n",
    "```\n",
    "\n",
    "4. Create topic:\n",
    "\n",
    "```bash\n",
    "kafka-topics.sh --create --topic quickstart-events --bootstrap-server localhost:9092\n",
    "```"
   ]
  },
  {
   "cell_type": "markdown",
   "metadata": {},
   "source": [
    "Producer script is [located here](./kafka_producer.py).\n",
    "\n",
    "Consumer script is [located here](./kafka_consumer.py)."
   ]
  },
  {
   "cell_type": "markdown",
   "metadata": {},
   "source": [
    "# Homework"
   ]
  },
  {
   "cell_type": "markdown",
   "metadata": {},
   "source": [
    "Make a simple computer vision solution and deploy it in any form described (API via FastAPI/Flask or Event-driven architecture).\n",
    "\n",
    "Evaluation criteria:\n",
    "\n",
    "1. Script with code of model deployment in chosen form.\n",
    "2. Description of implementation (as `README.md` in the folder of the solution):\n",
    "\n",
    "    - Overview;\n",
    "    - Deployment info;\n",
    "    - Installation instruction with requirements.txt;\n",
    "    - Modeling info;\n",
    "    - Interface description (list of endpoints/event handlers, it's input and output, short description of functionality);\n",
    "\n",
    "3. Example of processes (screenshot of communication or logs)."
   ]
  },
  {
   "cell_type": "markdown",
   "metadata": {},
   "source": [
    "# References:"
   ]
  },
  {
   "cell_type": "markdown",
   "metadata": {},
   "source": [
    "1. https://serverlessland.com/event-driven-architecture/visuals/batching-vs-event-streams\n",
    "2. https://serverlessland.com/event-driven-architecture/visuals/queues-vs-streams-vs-pubsub\n",
    "3. https://developer.mozilla.org/en-US/docs/Web/HTTP/Status\n",
    "4. https://fastapi.tiangolo.com/learn/\n",
    "5. https://flask.palletsprojects.com/en/3.0.x/quickstart/\n",
    "6. https://www.gradio.app/guides/quickstart\n",
    "7. https://kafka.apache.org/quickstart"
   ]
  }
 ],
 "metadata": {
  "kernelspec": {
   "display_name": ".venv",
   "language": "python",
   "name": "python3"
  },
  "language_info": {
   "codemirror_mode": {
    "name": "ipython",
    "version": 3
   },
   "file_extension": ".py",
   "mimetype": "text/x-python",
   "name": "python",
   "nbconvert_exporter": "python",
   "pygments_lexer": "ipython3",
   "version": "3.10.12"
  }
 },
 "nbformat": 4,
 "nbformat_minor": 2
}
