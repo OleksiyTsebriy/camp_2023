{
 "cells": [
  {
   "cell_type": "markdown",
   "metadata": {},
   "source": [
    "# Syllabys\n",
    "\n",
    "1. [Overview](#overview)\n",
    "2. [Tensors and accelerated software](#tensors-and-accelerated-software)\n",
    "3. [PyTorch data interfaces](#pytorch-data-interfaces)\n",
    "4. [Model structure](#model-structure)\n",
    "5. [Training process](#model-training)\n",
    "6. [References and materials](#materials-and-usefull-links)"
   ]
  },
  {
   "cell_type": "markdown",
   "metadata": {},
   "source": [
    "# Overview"
   ]
  },
  {
   "cell_type": "markdown",
   "metadata": {
    "slideshow": {
     "slide_type": "slide"
    }
   },
   "source": [
    "<h3>Neural network workflow</h3>\n",
    "\n",
    "![Neural network workflow](https://miro.medium.com/v2/resize:fit:1400/1*ZXAOUqmlyECgfVa81Sr6Ew.png)"
   ]
  },
  {
   "cell_type": "markdown",
   "metadata": {},
   "source": [
    "Neural network principles:\n",
    "\n",
    "1. Forward propagation:\n",
    "\n",
    "    1. Input\n",
    "    2. Hidden state\n",
    "    3. Activation function\n",
    "    4. Output\n",
    "\n",
    "<br/>\n",
    "\n",
    "2. Backward propagation:\n",
    "\n",
    "    1. Loss function\n",
    "    2. Optimization and weight update\n",
    "\n",
    "\n",
    "Iterative repetition of forward and backward propagation to minimize loss function and get optimal weights."
   ]
  },
  {
   "cell_type": "markdown",
   "metadata": {},
   "source": [
    "<h3>NumPy-based neural network (example on logistic regression)</h3>\n",
    "\n"
   ]
  },
  {
   "cell_type": "code",
   "execution_count": 1,
   "metadata": {},
   "outputs": [],
   "source": [
    "# Initialize required functions\n",
    "\n",
    "import numpy as np\n",
    "\n",
    "logistic_function = lambda x: 1/ (1 + np.exp(-x))\n",
    "\n",
    "\n",
    "def compute_cost(theta, x, y):\n",
    "    m = len(y)\n",
    "    y_pred = logistic_function(np.dot(x , theta))\n",
    "    error = (y * np.log(y_pred)) + ((1 - y) * np.log(1 - y_pred))\n",
    "    cost = -1 / m * sum(error)\n",
    "    gradient = 1 / m * np.dot(x.transpose(), (y_pred - y))\n",
    "    return cost[0] , gradient\n",
    "\n",
    "\n",
    "def gradient_descent(x, y, theta, alpha, iterations):\n",
    "    costs = []\n",
    "    for i in range(iterations):\n",
    "        cost, gradient = compute_cost(theta, x, y)\n",
    "        theta -= (alpha * gradient)\n",
    "        costs.append(cost)\n",
    "    return theta, costs\n"
   ]
  },
  {
   "cell_type": "code",
   "execution_count": 2,
   "metadata": {},
   "outputs": [
    {
     "name": "stdout",
     "output_type": "stream",
     "text": [
      "Cost at initialization 0.693147180559946\n",
      "Gradient at initialization: [[-0.4518845   0.4518845   0.4518845   0.4518845   0.4518845  -0.4518845\n",
      "  -0.4518845  -0.4518845  -0.4518845   0.4518845  -0.4518845   0.4518845\n",
      "  -0.4518845   0.4518845  -0.4518845  -0.4518845  -0.4518845   0.4518845\n",
      "  -0.4518845   0.4518845   0.4518845   0.4518845   0.4518845   0.4518845\n",
      "   0.4518845   0.4518845  -0.4518845  -0.4518845  -0.4518845   0.4518845\n",
      "  -0.4518845   0.4518845   0.4518845   0.4518845  -0.4518845  -0.4518845\n",
      "   0.4518845  -0.4518845  -0.4518845  -0.4518845  -0.4518845   0.4518845\n",
      "   0.4518845  -0.4518845   0.4518845   0.4518845   0.4518845   0.4518845\n",
      "  -0.4518845  -0.4518845  -0.4518845   0.4518845   0.4518845  -0.4518845\n",
      "  -0.4518845  -0.4518845  -0.4518845  -0.4518845  -0.4518845   0.4518845\n",
      "   0.4518845  -0.4518845   0.4518845  -0.4518845   0.4518845   0.4518845\n",
      "   0.4518845  -0.4518845  -0.4518845  -0.4518845   0.4518845   0.4518845\n",
      "   0.4518845  -0.4518845   0.4518845  -0.4518845   0.4518845   0.4518845\n",
      "  -0.4518845   0.4518845  -0.4518845  -0.4518845  -0.4518845   0.4518845\n",
      "  -0.4518845  -0.4518845  -0.4518845   0.4518845   0.4518845   0.4518845\n",
      "  -0.4518845  -0.4518845  -0.4518845   0.4518845   0.4518845  -0.4518845\n",
      "   0.4518845   0.4518845   0.4518845  -0.4518845 ]\n",
      " [-0.42632008  0.42632008  0.42632008  0.42632008  0.42632008 -0.42632008\n",
      "  -0.42632008 -0.42632008 -0.42632008  0.42632008 -0.42632008  0.42632008\n",
      "  -0.42632008  0.42632008 -0.42632008 -0.42632008 -0.42632008  0.42632008\n",
      "  -0.42632008  0.42632008  0.42632008  0.42632008  0.42632008  0.42632008\n",
      "   0.42632008  0.42632008 -0.42632008 -0.42632008 -0.42632008  0.42632008\n",
      "  -0.42632008  0.42632008  0.42632008  0.42632008 -0.42632008 -0.42632008\n",
      "   0.42632008 -0.42632008 -0.42632008 -0.42632008 -0.42632008  0.42632008\n",
      "   0.42632008 -0.42632008  0.42632008  0.42632008  0.42632008  0.42632008\n",
      "  -0.42632008 -0.42632008 -0.42632008  0.42632008  0.42632008 -0.42632008\n",
      "  -0.42632008 -0.42632008 -0.42632008 -0.42632008 -0.42632008  0.42632008\n",
      "   0.42632008 -0.42632008  0.42632008 -0.42632008  0.42632008  0.42632008\n",
      "   0.42632008 -0.42632008 -0.42632008 -0.42632008  0.42632008  0.42632008\n",
      "   0.42632008 -0.42632008  0.42632008 -0.42632008  0.42632008  0.42632008\n",
      "  -0.42632008  0.42632008 -0.42632008 -0.42632008 -0.42632008  0.42632008\n",
      "  -0.42632008 -0.42632008 -0.42632008  0.42632008  0.42632008  0.42632008\n",
      "  -0.42632008 -0.42632008 -0.42632008  0.42632008  0.42632008 -0.42632008\n",
      "   0.42632008  0.42632008  0.42632008 -0.42632008]\n",
      " [-0.98980913  0.98980913  0.98980913  0.98980913  0.98980913 -0.98980913\n",
      "  -0.98980913 -0.98980913 -0.98980913  0.98980913 -0.98980913  0.98980913\n",
      "  -0.98980913  0.98980913 -0.98980913 -0.98980913 -0.98980913  0.98980913\n",
      "  -0.98980913  0.98980913  0.98980913  0.98980913  0.98980913  0.98980913\n",
      "   0.98980913  0.98980913 -0.98980913 -0.98980913 -0.98980913  0.98980913\n",
      "  -0.98980913  0.98980913  0.98980913  0.98980913 -0.98980913 -0.98980913\n",
      "   0.98980913 -0.98980913 -0.98980913 -0.98980913 -0.98980913  0.98980913\n",
      "   0.98980913 -0.98980913  0.98980913  0.98980913  0.98980913  0.98980913\n",
      "  -0.98980913 -0.98980913 -0.98980913  0.98980913  0.98980913 -0.98980913\n",
      "  -0.98980913 -0.98980913 -0.98980913 -0.98980913 -0.98980913  0.98980913\n",
      "   0.98980913 -0.98980913  0.98980913 -0.98980913  0.98980913  0.98980913\n",
      "   0.98980913 -0.98980913 -0.98980913 -0.98980913  0.98980913  0.98980913\n",
      "   0.98980913 -0.98980913  0.98980913 -0.98980913  0.98980913  0.98980913\n",
      "  -0.98980913  0.98980913 -0.98980913 -0.98980913 -0.98980913  0.98980913\n",
      "  -0.98980913 -0.98980913 -0.98980913  0.98980913  0.98980913  0.98980913\n",
      "  -0.98980913 -0.98980913 -0.98980913  0.98980913  0.98980913 -0.98980913\n",
      "   0.98980913  0.98980913  0.98980913 -0.98980913]\n",
      " [-0.50771546  0.50771546  0.50771546  0.50771546  0.50771546 -0.50771546\n",
      "  -0.50771546 -0.50771546 -0.50771546  0.50771546 -0.50771546  0.50771546\n",
      "  -0.50771546  0.50771546 -0.50771546 -0.50771546 -0.50771546  0.50771546\n",
      "  -0.50771546  0.50771546  0.50771546  0.50771546  0.50771546  0.50771546\n",
      "   0.50771546  0.50771546 -0.50771546 -0.50771546 -0.50771546  0.50771546\n",
      "  -0.50771546  0.50771546  0.50771546  0.50771546 -0.50771546 -0.50771546\n",
      "   0.50771546 -0.50771546 -0.50771546 -0.50771546 -0.50771546  0.50771546\n",
      "   0.50771546 -0.50771546  0.50771546  0.50771546  0.50771546  0.50771546\n",
      "  -0.50771546 -0.50771546 -0.50771546  0.50771546  0.50771546 -0.50771546\n",
      "  -0.50771546 -0.50771546 -0.50771546 -0.50771546 -0.50771546  0.50771546\n",
      "   0.50771546 -0.50771546  0.50771546 -0.50771546  0.50771546  0.50771546\n",
      "   0.50771546 -0.50771546 -0.50771546 -0.50771546  0.50771546  0.50771546\n",
      "   0.50771546 -0.50771546  0.50771546 -0.50771546  0.50771546  0.50771546\n",
      "  -0.50771546  0.50771546 -0.50771546 -0.50771546 -0.50771546  0.50771546\n",
      "  -0.50771546 -0.50771546 -0.50771546  0.50771546  0.50771546  0.50771546\n",
      "  -0.50771546 -0.50771546 -0.50771546  0.50771546  0.50771546 -0.50771546\n",
      "   0.50771546  0.50771546  0.50771546 -0.50771546]]\n"
     ]
    }
   ],
   "source": [
    "# Initialize mock data\n",
    "\n",
    "from sklearn.datasets import make_classification\n",
    "\n",
    "X, y = make_classification(\n",
    "    n_features=4, n_redundant=0, n_informative=2, random_state=1, n_clusters_per_class=1\n",
    ")\n",
    "rng = np.random.RandomState(2)\n",
    "X += 2 * rng.uniform(size=X.shape)\n",
    "\n",
    "theta_init = np.zeros((X.shape[1], X.shape[0]))\n",
    "cost, gradient = compute_cost(theta_init, X, y)\n",
    "\n",
    "print(\"Cost at initialization\", cost)\n",
    "print(\"Gradient at initialization:\", gradient)"
   ]
  },
  {
   "cell_type": "code",
   "execution_count": 3,
   "metadata": {},
   "outputs": [
    {
     "name": "stdout",
     "output_type": "stream",
     "text": [
      "Theta after running gradient descent: [[ 0.84258378 -0.84258378 -0.84258378 -0.84258378 -0.84258378  0.84258378\n",
      "   0.84258378  0.84258378  0.84258378 -0.84258378  0.84258378 -0.84258378\n",
      "   0.84258378 -0.84258378  0.84258378  0.84258378  0.84258378 -0.84258378\n",
      "   0.84258378 -0.84258378 -0.84258378 -0.84258378 -0.84258378 -0.84258378\n",
      "  -0.84258378 -0.84258378  0.84258378  0.84258378  0.84258378 -0.84258378\n",
      "   0.84258378 -0.84258378 -0.84258378 -0.84258378  0.84258378  0.84258378\n",
      "  -0.84258378  0.84258378  0.84258378  0.84258378  0.84258378 -0.84258378\n",
      "  -0.84258378  0.84258378 -0.84258378 -0.84258378 -0.84258378 -0.84258378\n",
      "   0.84258378  0.84258378  0.84258378 -0.84258378 -0.84258378  0.84258378\n",
      "   0.84258378  0.84258378  0.84258378  0.84258378  0.84258378 -0.84258378\n",
      "  -0.84258378  0.84258378 -0.84258378  0.84258378 -0.84258378 -0.84258378\n",
      "  -0.84258378  0.84258378  0.84258378  0.84258378 -0.84258378 -0.84258378\n",
      "  -0.84258378  0.84258378 -0.84258378  0.84258378 -0.84258378 -0.84258378\n",
      "   0.84258378 -0.84258378  0.84258378  0.84258378  0.84258378 -0.84258378\n",
      "   0.84258378  0.84258378  0.84258378 -0.84258378 -0.84258378 -0.84258378\n",
      "   0.84258378  0.84258378  0.84258378 -0.84258378 -0.84258378  0.84258378\n",
      "  -0.84258378 -0.84258378 -0.84258378  0.84258378]\n",
      " [ 0.51131246 -0.51131246 -0.51131246 -0.51131246 -0.51131246  0.51131246\n",
      "   0.51131246  0.51131246  0.51131246 -0.51131246  0.51131246 -0.51131246\n",
      "   0.51131246 -0.51131246  0.51131246  0.51131246  0.51131246 -0.51131246\n",
      "   0.51131246 -0.51131246 -0.51131246 -0.51131246 -0.51131246 -0.51131246\n",
      "  -0.51131246 -0.51131246  0.51131246  0.51131246  0.51131246 -0.51131246\n",
      "   0.51131246 -0.51131246 -0.51131246 -0.51131246  0.51131246  0.51131246\n",
      "  -0.51131246  0.51131246  0.51131246  0.51131246  0.51131246 -0.51131246\n",
      "  -0.51131246  0.51131246 -0.51131246 -0.51131246 -0.51131246 -0.51131246\n",
      "   0.51131246  0.51131246  0.51131246 -0.51131246 -0.51131246  0.51131246\n",
      "   0.51131246  0.51131246  0.51131246  0.51131246  0.51131246 -0.51131246\n",
      "  -0.51131246  0.51131246 -0.51131246  0.51131246 -0.51131246 -0.51131246\n",
      "  -0.51131246  0.51131246  0.51131246  0.51131246 -0.51131246 -0.51131246\n",
      "  -0.51131246  0.51131246 -0.51131246  0.51131246 -0.51131246 -0.51131246\n",
      "   0.51131246 -0.51131246  0.51131246  0.51131246  0.51131246 -0.51131246\n",
      "   0.51131246  0.51131246  0.51131246 -0.51131246 -0.51131246 -0.51131246\n",
      "   0.51131246  0.51131246  0.51131246 -0.51131246 -0.51131246  0.51131246\n",
      "  -0.51131246 -0.51131246 -0.51131246  0.51131246]\n",
      " [ 3.34654108 -3.34654108 -3.34654108 -3.34654108 -3.34654108  3.34654108\n",
      "   3.34654108  3.34654108  3.34654108 -3.34654108  3.34654108 -3.34654108\n",
      "   3.34654108 -3.34654108  3.34654108  3.34654108  3.34654108 -3.34654108\n",
      "   3.34654108 -3.34654108 -3.34654108 -3.34654108 -3.34654108 -3.34654108\n",
      "  -3.34654108 -3.34654108  3.34654108  3.34654108  3.34654108 -3.34654108\n",
      "   3.34654108 -3.34654108 -3.34654108 -3.34654108  3.34654108  3.34654108\n",
      "  -3.34654108  3.34654108  3.34654108  3.34654108  3.34654108 -3.34654108\n",
      "  -3.34654108  3.34654108 -3.34654108 -3.34654108 -3.34654108 -3.34654108\n",
      "   3.34654108  3.34654108  3.34654108 -3.34654108 -3.34654108  3.34654108\n",
      "   3.34654108  3.34654108  3.34654108  3.34654108  3.34654108 -3.34654108\n",
      "  -3.34654108  3.34654108 -3.34654108  3.34654108 -3.34654108 -3.34654108\n",
      "  -3.34654108  3.34654108  3.34654108  3.34654108 -3.34654108 -3.34654108\n",
      "  -3.34654108  3.34654108 -3.34654108  3.34654108 -3.34654108 -3.34654108\n",
      "   3.34654108 -3.34654108  3.34654108  3.34654108  3.34654108 -3.34654108\n",
      "   3.34654108  3.34654108  3.34654108 -3.34654108 -3.34654108 -3.34654108\n",
      "   3.34654108  3.34654108  3.34654108 -3.34654108 -3.34654108  3.34654108\n",
      "  -3.34654108 -3.34654108 -3.34654108  3.34654108]\n",
      " [ 0.70179165 -0.70179165 -0.70179165 -0.70179165 -0.70179165  0.70179165\n",
      "   0.70179165  0.70179165  0.70179165 -0.70179165  0.70179165 -0.70179165\n",
      "   0.70179165 -0.70179165  0.70179165  0.70179165  0.70179165 -0.70179165\n",
      "   0.70179165 -0.70179165 -0.70179165 -0.70179165 -0.70179165 -0.70179165\n",
      "  -0.70179165 -0.70179165  0.70179165  0.70179165  0.70179165 -0.70179165\n",
      "   0.70179165 -0.70179165 -0.70179165 -0.70179165  0.70179165  0.70179165\n",
      "  -0.70179165  0.70179165  0.70179165  0.70179165  0.70179165 -0.70179165\n",
      "  -0.70179165  0.70179165 -0.70179165 -0.70179165 -0.70179165 -0.70179165\n",
      "   0.70179165  0.70179165  0.70179165 -0.70179165 -0.70179165  0.70179165\n",
      "   0.70179165  0.70179165  0.70179165  0.70179165  0.70179165 -0.70179165\n",
      "  -0.70179165  0.70179165 -0.70179165  0.70179165 -0.70179165 -0.70179165\n",
      "  -0.70179165  0.70179165  0.70179165  0.70179165 -0.70179165 -0.70179165\n",
      "  -0.70179165  0.70179165 -0.70179165  0.70179165 -0.70179165 -0.70179165\n",
      "   0.70179165 -0.70179165  0.70179165  0.70179165  0.70179165 -0.70179165\n",
      "   0.70179165  0.70179165  0.70179165 -0.70179165 -0.70179165 -0.70179165\n",
      "   0.70179165  0.70179165  0.70179165 -0.70179165 -0.70179165  0.70179165\n",
      "  -0.70179165 -0.70179165 -0.70179165  0.70179165]]\n",
      "Resulting cost: 0.0028598267679711166\n"
     ]
    }
   ],
   "source": [
    "theta, costs = gradient_descent(X, y, theta_init, 1, 200)\n",
    "\n",
    "print(\"Theta after running gradient descent:\", theta)\n",
    "print(\"Resulting cost:\", costs[-1])"
   ]
  },
  {
   "cell_type": "markdown",
   "metadata": {},
   "source": [
    "This is an implementation of the simplest one-layer model:\n",
    "\n",
    "![Logistic regression schema](https://media5.datahacker.rs/2021/01/83.jpg)"
   ]
  },
  {
   "cell_type": "markdown",
   "metadata": {},
   "source": [
    "While in real life actual DNN architectures will use more complex architectures:\n",
    "\n",
    "![More complex architectures](https://ascelibrary.org/cms/10.1061/(ASCE)ST.1943-541X.0003392/asset/176e59f6-aad9-4df8-9074-2b852e1155f0/assets/images/large/figure6.jpg)"
   ]
  },
  {
   "cell_type": "markdown",
   "metadata": {},
   "source": [
    "![ResNet architecture](https://www.researchgate.net/publication/322621180/figure/fig2/AS:584852684410885@1516451154473/The-representation-of-model-architecture-image-for-ResNet-152-VGG-19-and-two-layered.png)"
   ]
  },
  {
   "cell_type": "markdown",
   "metadata": {},
   "source": [
    "<h2>DL frameworks are the tools that make DL processes less difficult</h2>\n",
    "\n",
    "Frameworks offer:\n",
    "\n",
    "- abstraction from the low-level operation with matrices and complex math operation \n",
    "- high-level programming interface and tools for building blocks to design, train, and validate deep neural networks\n",
    "- parallelizing of the operation to accelerate processes\n",
    "- automation of optimization and backpropagation\n",
    "\n",
    "\n",
    "According to [Papers with code](https://paperswithcode.com/trends) among most implemented papers in Python at the moment there are next top-3 frameworks:\n",
    "\n",
    "\n",
    "![Framework trends](supplementary_data/frameworks_usage_trends.png)\n",
    "\n",
    "- PyTorch (60% of repositores with paper implementations)\n",
    "- TensorFlow (3% of repositores with paper implementations)\n",
    "- JAX (2% of repositores with paper implementations)\n",
    "\n",
    "\n",
    "On Sep 2020, the top was:\n",
    "\n",
    "- PyTorch (50%)\n",
    "- TensorFlow (20%)\n",
    "- JAX (0%)"
   ]
  },
  {
   "cell_type": "code",
   "execution_count": null,
   "metadata": {},
   "outputs": [],
   "source": []
  },
  {
   "cell_type": "markdown",
   "metadata": {},
   "source": [
    "# Tensors and accelerated software"
   ]
  },
  {
   "cell_type": "markdown",
   "metadata": {},
   "source": [
    "`Tensors` are a specialized `data structure` that are very similar to arrays and matrices. In PyTorch, tensors are used to `encode the inputs and outputs of a model`, as well as the `model’s parameters`.\n",
    "\n",
    "A tensor is the abstract version of nested lists of numbers. A 'vector' is a one-dimensional tensor. A 'matrix' is a two-dimensional tensor, and higher dimensions are referred to as 'n-dimensional tensors'.\n",
    "\n",
    "Tensors are similar to NumPy’s ndarrays, except that tensors can `run on GPUs` or other hardware accelerators. "
   ]
  },
  {
   "cell_type": "code",
   "execution_count": 4,
   "metadata": {},
   "outputs": [
    {
     "name": "stdout",
     "output_type": "stream",
     "text": [
      "Requirement already satisfied: torch in /home/work/Work/custom/.venv/lib/python3.10/site-packages (2.0.0)\n",
      "Requirement already satisfied: Pillow in /home/work/Work/custom/.venv/lib/python3.10/site-packages (9.5.0)\n",
      "Requirement already satisfied: networkx in /home/work/Work/custom/.venv/lib/python3.10/site-packages (from torch) (3.1)\n",
      "Requirement already satisfied: jinja2 in /home/work/Work/custom/.venv/lib/python3.10/site-packages (from torch) (3.1.2)\n",
      "Requirement already satisfied: nvidia-cuda-nvrtc-cu11==11.7.99 in /home/work/Work/custom/.venv/lib/python3.10/site-packages (from torch) (11.7.99)\n",
      "Requirement already satisfied: nvidia-cublas-cu11==11.10.3.66 in /home/work/Work/custom/.venv/lib/python3.10/site-packages (from torch) (11.10.3.66)\n",
      "Requirement already satisfied: nvidia-curand-cu11==10.2.10.91 in /home/work/Work/custom/.venv/lib/python3.10/site-packages (from torch) (10.2.10.91)\n",
      "Requirement already satisfied: nvidia-cusolver-cu11==11.4.0.1 in /home/work/Work/custom/.venv/lib/python3.10/site-packages (from torch) (11.4.0.1)\n",
      "Requirement already satisfied: nvidia-cusparse-cu11==11.7.4.91 in /home/work/Work/custom/.venv/lib/python3.10/site-packages (from torch) (11.7.4.91)\n",
      "Requirement already satisfied: nvidia-nvtx-cu11==11.7.91 in /home/work/Work/custom/.venv/lib/python3.10/site-packages (from torch) (11.7.91)\n",
      "Requirement already satisfied: typing-extensions in /home/work/Work/custom/.venv/lib/python3.10/site-packages (from torch) (4.5.0)\n",
      "Requirement already satisfied: nvidia-nccl-cu11==2.14.3 in /home/work/Work/custom/.venv/lib/python3.10/site-packages (from torch) (2.14.3)\n",
      "Requirement already satisfied: filelock in /home/work/Work/custom/.venv/lib/python3.10/site-packages (from torch) (3.12.0)\n",
      "Requirement already satisfied: nvidia-cudnn-cu11==8.5.0.96 in /home/work/Work/custom/.venv/lib/python3.10/site-packages (from torch) (8.5.0.96)\n",
      "Requirement already satisfied: nvidia-cuda-runtime-cu11==11.7.99 in /home/work/Work/custom/.venv/lib/python3.10/site-packages (from torch) (11.7.99)\n",
      "Requirement already satisfied: sympy in /home/work/Work/custom/.venv/lib/python3.10/site-packages (from torch) (1.11.1)\n",
      "Requirement already satisfied: nvidia-cufft-cu11==10.9.0.58 in /home/work/Work/custom/.venv/lib/python3.10/site-packages (from torch) (10.9.0.58)\n",
      "Requirement already satisfied: triton==2.0.0 in /home/work/Work/custom/.venv/lib/python3.10/site-packages (from torch) (2.0.0)\n",
      "Requirement already satisfied: nvidia-cuda-cupti-cu11==11.7.101 in /home/work/Work/custom/.venv/lib/python3.10/site-packages (from torch) (11.7.101)\n",
      "Requirement already satisfied: setuptools in /home/work/Work/custom/.venv/lib/python3.10/site-packages (from nvidia-cublas-cu11==11.10.3.66->torch) (59.6.0)\n",
      "Requirement already satisfied: wheel in /home/work/Work/custom/.venv/lib/python3.10/site-packages (from nvidia-cublas-cu11==11.10.3.66->torch) (0.40.0)\n",
      "Requirement already satisfied: cmake in /home/work/Work/custom/.venv/lib/python3.10/site-packages (from triton==2.0.0->torch) (3.26.3)\n",
      "Requirement already satisfied: lit in /home/work/Work/custom/.venv/lib/python3.10/site-packages (from triton==2.0.0->torch) (16.0.2)\n",
      "Requirement already satisfied: MarkupSafe>=2.0 in /home/work/Work/custom/.venv/lib/python3.10/site-packages (from jinja2->torch) (2.1.2)\n",
      "Requirement already satisfied: mpmath>=0.19 in /home/work/Work/custom/.venv/lib/python3.10/site-packages (from sympy->torch) (1.3.0)\n"
     ]
    }
   ],
   "source": [
    "!pip3 install torch Pillow"
   ]
  },
  {
   "cell_type": "code",
   "execution_count": 1,
   "metadata": {},
   "outputs": [],
   "source": [
    "import torch\n",
    "import numpy as np"
   ]
  },
  {
   "cell_type": "code",
   "execution_count": 3,
   "metadata": {},
   "outputs": [
    {
     "name": "stdout",
     "output_type": "stream",
     "text": [
      "tensor([[1, 2],\n",
      "        [3, 4]])\n",
      "tensor([[1, 2],\n",
      "        [3, 4]])\n",
      "Shape of tensor: torch.Size([2, 2])\n",
      "Datatype of tensor: torch.int64\n",
      "Device tensor is stored on: cpu\n"
     ]
    }
   ],
   "source": [
    "# Initialize a Tensor\n",
    "\n",
    "data = [[1, 2],[3, 4]]\n",
    "x_data = torch.tensor(data)\n",
    "print(x_data)\n",
    "\n",
    "np_array = np.array(data)\n",
    "x_np = torch.from_numpy(np_array)\n",
    "print(x_np)\n",
    "\n",
    "print(f\"Shape of tensor: {x_data.shape}\")\n",
    "print(f\"Datatype of tensor: {x_data.dtype}\")\n",
    "print(f\"Device tensor is stored on: {x_data.device}\")"
   ]
  },
  {
   "cell_type": "markdown",
   "metadata": {},
   "source": [
    "Over 100 tensor operations, including arithmetic, linear algebra, matrix manipulation (transposing, indexing, slicing), sampling and more are comprehensively described [here](https://pytorch.org/docs/stable/torch.html) or more generally [here](https://pytorch.org/tutorials/beginner/basics/tensorqs_tutorial.html#operations-on-tensors).\n",
    "\n"
   ]
  },
  {
   "cell_type": "markdown",
   "metadata": {},
   "source": [
    "<h3>CUDA</h3>\n",
    "\n",
    "CUDA® is a parallel computing platform and programming model developed by NVIDIA for general computing on graphical processing units (GPUs). With CUDA, developers are able to dramatically speed up computing applications by harnessing the power of GPUs.\n",
    "\n",
    "\n",
    "In GPU-accelerated applications, the sequential part of the workload runs on the CPU – which is optimized for single-threaded performance – while the compute intensive portion of the application runs on thousands of GPU cores in parallel. \n",
    "\n",
    "CUDA installation is available on [NVIDIA's official website](https://developer.nvidia.com/cuda-toolkit).\n"
   ]
  },
  {
   "cell_type": "markdown",
   "metadata": {},
   "source": [
    "`torch.cuda` is used to set up and run CUDA operations. It keeps track of the currently selected GPU, and all CUDA tensors you allocate will by default be created on that device. The selected device can be changed with a `torch.cuda.device` context manager.\n",
    "\n",
    "However, once a tensor is allocated, you can do operations on it irrespective of the selected device, and the results will be always placed on the same device as the tensor.\n",
    "\n"
   ]
  },
  {
   "cell_type": "code",
   "execution_count": 4,
   "metadata": {},
   "outputs": [
    {
     "name": "stdout",
     "output_type": "stream",
     "text": [
      "Device tensor is stored on: cuda:0\n"
     ]
    }
   ],
   "source": [
    "# We move our tensor to the GPU if available\n",
    "if torch.cuda.is_available():\n",
    "    x_data = x_data.to(\"cuda\")\n",
    "    print(f\"Device tensor is stored on: {x_data.device}\")\n",
    "\n",
    "# or use:\n",
    "\n",
    "device = torch.device('cuda' if torch.cuda.is_available() else 'cpu')\n",
    "x_data = x_data.to(device)\n",
    "\n",
    "# if more than one GPU is available, you can select the specific one (index starts from 0)\n",
    "cuda0 = torch.device('cuda:0')"
   ]
  },
  {
   "cell_type": "markdown",
   "metadata": {},
   "source": [
    "Usage of the CUDA significantly speeds up models processes, such as training or inferencing."
   ]
  },
  {
   "cell_type": "code",
   "execution_count": null,
   "metadata": {},
   "outputs": [],
   "source": []
  },
  {
   "cell_type": "markdown",
   "metadata": {},
   "source": [
    "# PyTorch data interfaces"
   ]
  },
  {
   "cell_type": "markdown",
   "metadata": {},
   "source": [
    "Usually data is the first step to all ML tasks. It defines the model's input and output.\n",
    "\n",
    "PyTorch provides two data primitives: `torch.utils.data.DataLoader` and `torch.utils.data.Dataset` that are designed to handle and manage data for training machine learning models and serve as high-level interface.\n",
    "\n",
    "`Dataset` stores the samples and their corresponding labels, and `DataLoader` wraps an iterable around the `Dataset` to enable easy access to the samples.\n",
    "\n",
    "PyTorch domain libraries provide a number of pre-loaded datasets and they could be used for prototyping DL models -  [Image Datasets](https://pytorch.org/vision/stable/datasets.html), [Text Datasets](https://pytorch.org/text/stable/datasets.html), and [Audio Datasets](https://pytorch.org/audio/stable/datasets.html)."
   ]
  },
  {
   "cell_type": "code",
   "execution_count": 18,
   "metadata": {},
   "outputs": [
    {
     "name": "stdout",
     "output_type": "stream",
     "text": [
      "Requirement already satisfied: torchvision in /home/work/Work/custom/.venv/lib/python3.10/site-packages (0.15.1)\n",
      "Requirement already satisfied: numpy in /home/work/Work/custom/.venv/lib/python3.10/site-packages (from torchvision) (1.24.2)\n",
      "Requirement already satisfied: pillow!=8.3.*,>=5.3.0 in /home/work/Work/custom/.venv/lib/python3.10/site-packages (from torchvision) (9.5.0)\n",
      "Requirement already satisfied: torch==2.0.0 in /home/work/Work/custom/.venv/lib/python3.10/site-packages (from torchvision) (2.0.0)\n",
      "Requirement already satisfied: requests in /home/work/Work/custom/.venv/lib/python3.10/site-packages (from torchvision) (2.28.2)\n",
      "Requirement already satisfied: sympy in /home/work/Work/custom/.venv/lib/python3.10/site-packages (from torch==2.0.0->torchvision) (1.11.1)\n",
      "Requirement already satisfied: networkx in /home/work/Work/custom/.venv/lib/python3.10/site-packages (from torch==2.0.0->torchvision) (3.1)\n",
      "Requirement already satisfied: nvidia-curand-cu11==10.2.10.91 in /home/work/Work/custom/.venv/lib/python3.10/site-packages (from torch==2.0.0->torchvision) (10.2.10.91)\n",
      "Requirement already satisfied: nvidia-cudnn-cu11==8.5.0.96 in /home/work/Work/custom/.venv/lib/python3.10/site-packages (from torch==2.0.0->torchvision) (8.5.0.96)\n",
      "Requirement already satisfied: nvidia-cusolver-cu11==11.4.0.1 in /home/work/Work/custom/.venv/lib/python3.10/site-packages (from torch==2.0.0->torchvision) (11.4.0.1)\n",
      "Requirement already satisfied: nvidia-cuda-cupti-cu11==11.7.101 in /home/work/Work/custom/.venv/lib/python3.10/site-packages (from torch==2.0.0->torchvision) (11.7.101)\n",
      "Requirement already satisfied: nvidia-nccl-cu11==2.14.3 in /home/work/Work/custom/.venv/lib/python3.10/site-packages (from torch==2.0.0->torchvision) (2.14.3)\n",
      "Requirement already satisfied: nvidia-cuda-nvrtc-cu11==11.7.99 in /home/work/Work/custom/.venv/lib/python3.10/site-packages (from torch==2.0.0->torchvision) (11.7.99)\n",
      "Requirement already satisfied: nvidia-nvtx-cu11==11.7.91 in /home/work/Work/custom/.venv/lib/python3.10/site-packages (from torch==2.0.0->torchvision) (11.7.91)\n",
      "Requirement already satisfied: typing-extensions in /home/work/Work/custom/.venv/lib/python3.10/site-packages (from torch==2.0.0->torchvision) (4.5.0)\n",
      "Requirement already satisfied: filelock in /home/work/Work/custom/.venv/lib/python3.10/site-packages (from torch==2.0.0->torchvision) (3.12.0)\n",
      "Requirement already satisfied: nvidia-cublas-cu11==11.10.3.66 in /home/work/Work/custom/.venv/lib/python3.10/site-packages (from torch==2.0.0->torchvision) (11.10.3.66)\n",
      "Requirement already satisfied: jinja2 in /home/work/Work/custom/.venv/lib/python3.10/site-packages (from torch==2.0.0->torchvision) (3.1.2)\n",
      "Requirement already satisfied: nvidia-cusparse-cu11==11.7.4.91 in /home/work/Work/custom/.venv/lib/python3.10/site-packages (from torch==2.0.0->torchvision) (11.7.4.91)\n",
      "Requirement already satisfied: nvidia-cuda-runtime-cu11==11.7.99 in /home/work/Work/custom/.venv/lib/python3.10/site-packages (from torch==2.0.0->torchvision) (11.7.99)\n",
      "Requirement already satisfied: nvidia-cufft-cu11==10.9.0.58 in /home/work/Work/custom/.venv/lib/python3.10/site-packages (from torch==2.0.0->torchvision) (10.9.0.58)\n",
      "Requirement already satisfied: triton==2.0.0 in /home/work/Work/custom/.venv/lib/python3.10/site-packages (from torch==2.0.0->torchvision) (2.0.0)\n",
      "Requirement already satisfied: setuptools in /home/work/Work/custom/.venv/lib/python3.10/site-packages (from nvidia-cublas-cu11==11.10.3.66->torch==2.0.0->torchvision) (59.6.0)\n",
      "Requirement already satisfied: wheel in /home/work/Work/custom/.venv/lib/python3.10/site-packages (from nvidia-cublas-cu11==11.10.3.66->torch==2.0.0->torchvision) (0.40.0)\n",
      "Requirement already satisfied: lit in /home/work/Work/custom/.venv/lib/python3.10/site-packages (from triton==2.0.0->torch==2.0.0->torchvision) (16.0.2)\n",
      "Requirement already satisfied: cmake in /home/work/Work/custom/.venv/lib/python3.10/site-packages (from triton==2.0.0->torch==2.0.0->torchvision) (3.26.3)\n",
      "Requirement already satisfied: charset-normalizer<4,>=2 in /home/work/Work/custom/.venv/lib/python3.10/site-packages (from requests->torchvision) (3.1.0)\n",
      "Requirement already satisfied: idna<4,>=2.5 in /home/work/Work/custom/.venv/lib/python3.10/site-packages (from requests->torchvision) (3.4)\n",
      "Requirement already satisfied: certifi>=2017.4.17 in /home/work/Work/custom/.venv/lib/python3.10/site-packages (from requests->torchvision) (2022.12.7)\n",
      "Requirement already satisfied: urllib3<1.27,>=1.21.1 in /home/work/Work/custom/.venv/lib/python3.10/site-packages (from requests->torchvision) (1.26.15)\n",
      "Requirement already satisfied: MarkupSafe>=2.0 in /home/work/Work/custom/.venv/lib/python3.10/site-packages (from jinja2->torch==2.0.0->torchvision) (2.1.2)\n",
      "Requirement already satisfied: mpmath>=0.19 in /home/work/Work/custom/.venv/lib/python3.10/site-packages (from sympy->torch==2.0.0->torchvision) (1.3.0)\n"
     ]
    }
   ],
   "source": [
    "# torchvision library to work with vision tasks (images, videos)\n",
    "!pip install torchvision \n",
    "\n",
    "# torchaudio library to work with audio tasks - !pip install torchaudio"
   ]
  },
  {
   "cell_type": "markdown",
   "metadata": {},
   "source": [
    "## Tabular datasets"
   ]
  },
  {
   "cell_type": "markdown",
   "metadata": {},
   "source": [
    "Tabular data can be fully loaded into the memory and usually doesn't require some complex pre-processing.\n",
    "So it simply can be loaded as Tensor objects without creation of interfaces."
   ]
  },
  {
   "cell_type": "code",
   "execution_count": 9,
   "metadata": {},
   "outputs": [
    {
     "data": {
      "text/plain": [
       "(torch.Size([7500, 4]), torch.Size([2500, 4]))"
      ]
     },
     "execution_count": 9,
     "metadata": {},
     "output_type": "execute_result"
    }
   ],
   "source": [
    "from sklearn.datasets import make_classification\n",
    "from sklearn.model_selection import train_test_split\n",
    "\n",
    "\n",
    "X, y = make_classification(\n",
    "    n_features=4, n_redundant=0, n_informative=2, random_state=1, n_clusters_per_class=1, n_samples=10000\n",
    ")\n",
    "\n",
    "X, y = torch.from_numpy(X), torch.from_numpy(y)\n",
    "\n",
    "X_train, X_test, y_train, y_test = train_test_split(X, y)\n",
    "X_train.shape, X_test.shape"
   ]
  },
  {
   "cell_type": "markdown",
   "metadata": {},
   "source": [
    "## Custom Datasets"
   ]
  },
  {
   "cell_type": "markdown",
   "metadata": {},
   "source": [
    "Usually it's datasets that cannot be loaded fully into memory and require special interface for reading/transforming operation, e.g., image data, audio data, etc.\n",
    "\n",
    "There are two types of datasets:\n",
    "\n",
    "- map-style datasets\n",
    "- iterable-style datasets"
   ]
  },
  {
   "cell_type": "code",
   "execution_count": null,
   "metadata": {},
   "outputs": [],
   "source": [
    "!wget http://pjreddie.com/media/files/cifar.tgz && tar xzf cifar.tgz"
   ]
  },
  {
   "cell_type": "code",
   "execution_count": null,
   "metadata": {},
   "outputs": [],
   "source": [
    "import random\n",
    "import os\n",
    "import matplotlib.pyplot as plt\n",
    "from PIL import Image\n",
    "\n",
    "\n",
    "with open(\"cifar/labels.txt\") as label_file:\n",
    "    labels = label_file.read().split()\n",
    "label_mapping = dict(zip(labels, list(range(len(labels)))))"
   ]
  },
  {
   "cell_type": "code",
   "execution_count": 12,
   "metadata": {},
   "outputs": [],
   "source": [
    "# Map-style datasets require implementation of the __getitem__() and __len__() methods\n",
    "\n",
    "class Cifar10Dataset(torch.utils.data.Dataset):\n",
    "    def __init__(self, data_dir, labels, data_size = 0, transforms = None):\n",
    "        files = os.listdir(data_dir)\n",
    "        files = [os.path.join(data_dir,x) for x in files]\n",
    "        \n",
    "        if data_size < 0 or data_size > len(files):\n",
    "            assert(\"Data size should be between 0 to number of files in the dataset\")\n",
    "        \n",
    "        if data_size == 0:\n",
    "            data_size = len(files)\n",
    "        \n",
    "        self.data_size = data_size\n",
    "        self.files = random.sample(files, self.data_size)\n",
    "        self.transforms = transforms\n",
    "        self.labels = labels\n",
    "        \n",
    "    def __len__(self):\n",
    "        return self.data_size\n",
    "    \n",
    "    def __getitem__(self, idx):\n",
    "        image_address = self.files[idx]\n",
    "        image = Image.open(image_address)\n",
    "        label_name = image_address[:-4].split(\"_\")[-1]\n",
    "        label = self.labels[label_name]\n",
    "                \n",
    "        if self.transforms:\n",
    "            image = self.transforms(image)\n",
    "        \n",
    "        if isinstance(image, Image.Image):\n",
    "            image = np.array(image)\n",
    "\n",
    "        if not isinstance(image, torch.Tensor):\n",
    "            image = torch.from_numpy(image)\n",
    "\n",
    "        return image, label\n"
   ]
  },
  {
   "cell_type": "code",
   "execution_count": 13,
   "metadata": {},
   "outputs": [
    {
     "name": "stdout",
     "output_type": "stream",
     "text": [
      "torch.Size([32, 32, 3])\n"
     ]
    },
    {
     "data": {
      "text/plain": [
       "<matplotlib.image.AxesImage at 0x7fe1654b3430>"
      ]
     },
     "execution_count": 13,
     "metadata": {},
     "output_type": "execute_result"
    },
    {
     "data": {
      "image/png": "[encoded data removed]",
      "text/plain": [
       "<Figure size 640x480 with 1 Axes>"
      ]
     },
     "metadata": {},
     "output_type": "display_data"
    }
   ],
   "source": [
    "train_set = Cifar10Dataset(data_dir=\"cifar/train/\", labels=label_mapping, transforms=None)\n",
    "first_img, first_label = train_set[0]\n",
    "\n",
    "print(first_img.shape)\n",
    "plt.imshow(first_img)"
   ]
  },
  {
   "cell_type": "code",
   "execution_count": 19,
   "metadata": {},
   "outputs": [
    {
     "name": "stdout",
     "output_type": "stream",
     "text": [
      "torch.Size([32, 32])\n"
     ]
    },
    {
     "data": {
      "text/plain": [
       "<matplotlib.image.AxesImage at 0x7fe145e5e2c0>"
      ]
     },
     "execution_count": 19,
     "metadata": {},
     "output_type": "execute_result"
    },
    {
     "data": {
      "image/png": "[encoded data removed]",
      "text/plain": [
       "<Figure size 640x480 with 1 Axes>"
      ]
     },
     "metadata": {},
     "output_type": "display_data"
    }
   ],
   "source": [
    "import torchvision.transforms as transforms\n",
    "\n",
    "\n",
    "train_set = Cifar10Dataset(data_dir=\"cifar/train/\", labels=label_mapping, transforms=transforms.Grayscale())\n",
    "first_img, first_label = train_set[0]\n",
    "\n",
    "print(first_img.shape)\n",
    "plt.imshow(first_img, cmap='gray')"
   ]
  },
  {
   "cell_type": "code",
   "execution_count": 20,
   "metadata": {},
   "outputs": [
    {
     "data": {
      "text/plain": [
       "['AugMix',\n",
       " 'AutoAugment',\n",
       " 'AutoAugmentPolicy',\n",
       " 'CenterCrop',\n",
       " 'ColorJitter',\n",
       " 'Compose',\n",
       " 'ConvertImageDtype',\n",
       " 'ElasticTransform',\n",
       " 'FiveCrop',\n",
       " 'GaussianBlur',\n",
       " 'Grayscale',\n",
       " 'InterpolationMode',\n",
       " 'Lambda',\n",
       " 'LinearTransformation',\n",
       " 'Normalize',\n",
       " 'PILToTensor',\n",
       " 'Pad',\n",
       " 'RandAugment',\n",
       " 'RandomAdjustSharpness',\n",
       " 'RandomAffine',\n",
       " 'RandomApply',\n",
       " 'RandomAutocontrast',\n",
       " 'RandomChoice',\n",
       " 'RandomCrop',\n",
       " 'RandomEqualize',\n",
       " 'RandomErasing',\n",
       " 'RandomGrayscale',\n",
       " 'RandomHorizontalFlip',\n",
       " 'RandomInvert',\n",
       " 'RandomOrder',\n",
       " 'RandomPerspective',\n",
       " 'RandomPosterize',\n",
       " 'RandomResizedCrop',\n",
       " 'RandomRotation',\n",
       " 'RandomSolarize',\n",
       " 'RandomVerticalFlip',\n",
       " 'Resize',\n",
       " 'TenCrop',\n",
       " 'ToPILImage',\n",
       " 'ToTensor',\n",
       " 'TrivialAugmentWide',\n",
       " '__builtins__',\n",
       " '__cached__',\n",
       " '__doc__',\n",
       " '__file__',\n",
       " '__loader__',\n",
       " '__name__',\n",
       " '__package__',\n",
       " '__path__',\n",
       " '__spec__',\n",
       " '_functional_pil',\n",
       " '_functional_tensor',\n",
       " '_presets',\n",
       " 'autoaugment',\n",
       " 'functional',\n",
       " 'transforms']"
      ]
     },
     "execution_count": 20,
     "metadata": {},
     "output_type": "execute_result"
    }
   ],
   "source": [
    "dir(transforms)"
   ]
  },
  {
   "cell_type": "code",
   "execution_count": null,
   "metadata": {},
   "outputs": [],
   "source": []
  },
  {
   "cell_type": "markdown",
   "metadata": {},
   "source": [
    "## DataLoaders"
   ]
  },
  {
   "cell_type": "markdown",
   "metadata": {},
   "source": [
    "DataLoader functions are:\n",
    "\n",
    "1. Batching of Data\n",
    "2. Shuffling of Data\n",
    "3. Loading multiple data at a single time using threads\n",
    "4. Prefetching, that is, while GPU processes the current batch, `DataLoader` can load the next batch into memory in meantime. This means GPU doesn't have to wait for the next batch and it speeds up training.\n",
    "\n",
    "`DataLoader` is instantiated with a `Dataset` object, then it can be iterated in the same way as `Dataset`."
   ]
  },
  {
   "cell_type": "code",
   "execution_count": 21,
   "metadata": {},
   "outputs": [],
   "source": [
    "train_loader = torch.utils.data.DataLoader(train_set, batch_size=8)"
   ]
  },
  {
   "cell_type": "code",
   "execution_count": 22,
   "metadata": {},
   "outputs": [
    {
     "name": "stdout",
     "output_type": "stream",
     "text": [
      "Feature batch shape: torch.Size([8, 32, 32])\n",
      "Labels batch shape: torch.Size([8])\n"
     ]
    }
   ],
   "source": [
    "train_features, train_labels = next(iter(train_loader))\n",
    "print(f\"Feature batch shape: {train_features.size()}\")\n",
    "print(f\"Labels batch shape: {train_labels.size()}\")"
   ]
  },
  {
   "cell_type": "code",
   "execution_count": 23,
   "metadata": {},
   "outputs": [
    {
     "name": "stdout",
     "output_type": "stream",
     "text": [
      "\u001b[0;31mInit signature:\u001b[0m\n",
      "\u001b[0mtorch\u001b[0m\u001b[0;34m.\u001b[0m\u001b[0mutils\u001b[0m\u001b[0;34m.\u001b[0m\u001b[0mdata\u001b[0m\u001b[0;34m.\u001b[0m\u001b[0mDataLoader\u001b[0m\u001b[0;34m(\u001b[0m\u001b[0;34m\u001b[0m\n",
      "\u001b[0;34m\u001b[0m    \u001b[0mdataset\u001b[0m\u001b[0;34m:\u001b[0m \u001b[0mtorch\u001b[0m\u001b[0;34m.\u001b[0m\u001b[0mutils\u001b[0m\u001b[0;34m.\u001b[0m\u001b[0mdata\u001b[0m\u001b[0;34m.\u001b[0m\u001b[0mdataset\u001b[0m\u001b[0;34m.\u001b[0m\u001b[0mDataset\u001b[0m\u001b[0;34m[\u001b[0m\u001b[0;34m+\u001b[0m\u001b[0mT_co\u001b[0m\u001b[0;34m]\u001b[0m\u001b[0;34m,\u001b[0m\u001b[0;34m\u001b[0m\n",
      "\u001b[0;34m\u001b[0m    \u001b[0mbatch_size\u001b[0m\u001b[0;34m:\u001b[0m \u001b[0mOptional\u001b[0m\u001b[0;34m[\u001b[0m\u001b[0mint\u001b[0m\u001b[0;34m]\u001b[0m \u001b[0;34m=\u001b[0m \u001b[0;36m1\u001b[0m\u001b[0;34m,\u001b[0m\u001b[0;34m\u001b[0m\n",
      "\u001b[0;34m\u001b[0m    \u001b[0mshuffle\u001b[0m\u001b[0;34m:\u001b[0m \u001b[0mOptional\u001b[0m\u001b[0;34m[\u001b[0m\u001b[0mbool\u001b[0m\u001b[0;34m]\u001b[0m \u001b[0;34m=\u001b[0m \u001b[0;32mNone\u001b[0m\u001b[0;34m,\u001b[0m\u001b[0;34m\u001b[0m\n",
      "\u001b[0;34m\u001b[0m    \u001b[0msampler\u001b[0m\u001b[0;34m:\u001b[0m \u001b[0mUnion\u001b[0m\u001b[0;34m[\u001b[0m\u001b[0mtorch\u001b[0m\u001b[0;34m.\u001b[0m\u001b[0mutils\u001b[0m\u001b[0;34m.\u001b[0m\u001b[0mdata\u001b[0m\u001b[0;34m.\u001b[0m\u001b[0msampler\u001b[0m\u001b[0;34m.\u001b[0m\u001b[0mSampler\u001b[0m\u001b[0;34m,\u001b[0m \u001b[0mIterable\u001b[0m\u001b[0;34m,\u001b[0m \u001b[0mNoneType\u001b[0m\u001b[0;34m]\u001b[0m \u001b[0;34m=\u001b[0m \u001b[0;32mNone\u001b[0m\u001b[0;34m,\u001b[0m\u001b[0;34m\u001b[0m\n",
      "\u001b[0;34m\u001b[0m    \u001b[0mbatch_sampler\u001b[0m\u001b[0;34m:\u001b[0m \u001b[0mUnion\u001b[0m\u001b[0;34m[\u001b[0m\u001b[0mtorch\u001b[0m\u001b[0;34m.\u001b[0m\u001b[0mutils\u001b[0m\u001b[0;34m.\u001b[0m\u001b[0mdata\u001b[0m\u001b[0;34m.\u001b[0m\u001b[0msampler\u001b[0m\u001b[0;34m.\u001b[0m\u001b[0mSampler\u001b[0m\u001b[0;34m[\u001b[0m\u001b[0mSequence\u001b[0m\u001b[0;34m]\u001b[0m\u001b[0;34m,\u001b[0m \u001b[0mIterable\u001b[0m\u001b[0;34m[\u001b[0m\u001b[0mSequence\u001b[0m\u001b[0;34m]\u001b[0m\u001b[0;34m,\u001b[0m \u001b[0mNoneType\u001b[0m\u001b[0;34m]\u001b[0m \u001b[0;34m=\u001b[0m \u001b[0;32mNone\u001b[0m\u001b[0;34m,\u001b[0m\u001b[0;34m\u001b[0m\n",
      "\u001b[0;34m\u001b[0m    \u001b[0mnum_workers\u001b[0m\u001b[0;34m:\u001b[0m \u001b[0mint\u001b[0m \u001b[0;34m=\u001b[0m \u001b[0;36m0\u001b[0m\u001b[0;34m,\u001b[0m\u001b[0;34m\u001b[0m\n",
      "\u001b[0;34m\u001b[0m    \u001b[0mcollate_fn\u001b[0m\u001b[0;34m:\u001b[0m \u001b[0mOptional\u001b[0m\u001b[0;34m[\u001b[0m\u001b[0mCallable\u001b[0m\u001b[0;34m[\u001b[0m\u001b[0;34m[\u001b[0m\u001b[0mList\u001b[0m\u001b[0;34m[\u001b[0m\u001b[0;34m~\u001b[0m\u001b[0mT\u001b[0m\u001b[0;34m]\u001b[0m\u001b[0;34m]\u001b[0m\u001b[0;34m,\u001b[0m \u001b[0mAny\u001b[0m\u001b[0;34m]\u001b[0m\u001b[0;34m]\u001b[0m \u001b[0;34m=\u001b[0m \u001b[0;32mNone\u001b[0m\u001b[0;34m,\u001b[0m\u001b[0;34m\u001b[0m\n",
      "\u001b[0;34m\u001b[0m    \u001b[0mpin_memory\u001b[0m\u001b[0;34m:\u001b[0m \u001b[0mbool\u001b[0m \u001b[0;34m=\u001b[0m \u001b[0;32mFalse\u001b[0m\u001b[0;34m,\u001b[0m\u001b[0;34m\u001b[0m\n",
      "\u001b[0;34m\u001b[0m    \u001b[0mdrop_last\u001b[0m\u001b[0;34m:\u001b[0m \u001b[0mbool\u001b[0m \u001b[0;34m=\u001b[0m \u001b[0;32mFalse\u001b[0m\u001b[0;34m,\u001b[0m\u001b[0;34m\u001b[0m\n",
      "\u001b[0;34m\u001b[0m    \u001b[0mtimeout\u001b[0m\u001b[0;34m:\u001b[0m \u001b[0mfloat\u001b[0m \u001b[0;34m=\u001b[0m \u001b[0;36m0\u001b[0m\u001b[0;34m,\u001b[0m\u001b[0;34m\u001b[0m\n",
      "\u001b[0;34m\u001b[0m    \u001b[0mworker_init_fn\u001b[0m\u001b[0;34m:\u001b[0m \u001b[0mOptional\u001b[0m\u001b[0;34m[\u001b[0m\u001b[0mCallable\u001b[0m\u001b[0;34m[\u001b[0m\u001b[0;34m[\u001b[0m\u001b[0mint\u001b[0m\u001b[0;34m]\u001b[0m\u001b[0;34m,\u001b[0m \u001b[0mNoneType\u001b[0m\u001b[0;34m]\u001b[0m\u001b[0;34m]\u001b[0m \u001b[0;34m=\u001b[0m \u001b[0;32mNone\u001b[0m\u001b[0;34m,\u001b[0m\u001b[0;34m\u001b[0m\n",
      "\u001b[0;34m\u001b[0m    \u001b[0mmultiprocessing_context\u001b[0m\u001b[0;34m=\u001b[0m\u001b[0;32mNone\u001b[0m\u001b[0;34m,\u001b[0m\u001b[0;34m\u001b[0m\n",
      "\u001b[0;34m\u001b[0m    \u001b[0mgenerator\u001b[0m\u001b[0;34m=\u001b[0m\u001b[0;32mNone\u001b[0m\u001b[0;34m,\u001b[0m\u001b[0;34m\u001b[0m\n",
      "\u001b[0;34m\u001b[0m    \u001b[0;34m*\u001b[0m\u001b[0;34m,\u001b[0m\u001b[0;34m\u001b[0m\n",
      "\u001b[0;34m\u001b[0m    \u001b[0mprefetch_factor\u001b[0m\u001b[0;34m:\u001b[0m \u001b[0mOptional\u001b[0m\u001b[0;34m[\u001b[0m\u001b[0mint\u001b[0m\u001b[0;34m]\u001b[0m \u001b[0;34m=\u001b[0m \u001b[0;32mNone\u001b[0m\u001b[0;34m,\u001b[0m\u001b[0;34m\u001b[0m\n",
      "\u001b[0;34m\u001b[0m    \u001b[0mpersistent_workers\u001b[0m\u001b[0;34m:\u001b[0m \u001b[0mbool\u001b[0m \u001b[0;34m=\u001b[0m \u001b[0;32mFalse\u001b[0m\u001b[0;34m,\u001b[0m\u001b[0;34m\u001b[0m\n",
      "\u001b[0;34m\u001b[0m    \u001b[0mpin_memory_device\u001b[0m\u001b[0;34m:\u001b[0m \u001b[0mstr\u001b[0m \u001b[0;34m=\u001b[0m \u001b[0;34m''\u001b[0m\u001b[0;34m,\u001b[0m\u001b[0;34m\u001b[0m\n",
      "\u001b[0;34m\u001b[0m\u001b[0;34m)\u001b[0m\u001b[0;34m\u001b[0m\u001b[0;34m\u001b[0m\u001b[0m\n",
      "\u001b[0;31mDocstring:\u001b[0m     \n",
      "Data loader. Combines a dataset and a sampler, and provides an iterable over\n",
      "the given dataset.\n",
      "\n",
      "The :class:`~torch.utils.data.DataLoader` supports both map-style and\n",
      "iterable-style datasets with single- or multi-process loading, customizing\n",
      "loading order and optional automatic batching (collation) and memory pinning.\n",
      "\n",
      "See :py:mod:`torch.utils.data` documentation page for more details.\n",
      "\n",
      "Args:\n",
      "    dataset (Dataset): dataset from which to load the data.\n",
      "    batch_size (int, optional): how many samples per batch to load\n",
      "        (default: ``1``).\n",
      "    shuffle (bool, optional): set to ``True`` to have the data reshuffled\n",
      "        at every epoch (default: ``False``).\n",
      "    sampler (Sampler or Iterable, optional): defines the strategy to draw\n",
      "        samples from the dataset. Can be any ``Iterable`` with ``__len__``\n",
      "        implemented. If specified, :attr:`shuffle` must not be specified.\n",
      "    batch_sampler (Sampler or Iterable, optional): like :attr:`sampler`, but\n",
      "        returns a batch of indices at a time. Mutually exclusive with\n",
      "        :attr:`batch_size`, :attr:`shuffle`, :attr:`sampler`,\n",
      "        and :attr:`drop_last`.\n",
      "    num_workers (int, optional): how many subprocesses to use for data\n",
      "        loading. ``0`` means that the data will be loaded in the main process.\n",
      "        (default: ``0``)\n",
      "    collate_fn (Callable, optional): merges a list of samples to form a\n",
      "        mini-batch of Tensor(s).  Used when using batched loading from a\n",
      "        map-style dataset.\n",
      "    pin_memory (bool, optional): If ``True``, the data loader will copy Tensors\n",
      "        into device/CUDA pinned memory before returning them.  If your data elements\n",
      "        are a custom type, or your :attr:`collate_fn` returns a batch that is a custom type,\n",
      "        see the example below.\n",
      "    drop_last (bool, optional): set to ``True`` to drop the last incomplete batch,\n",
      "        if the dataset size is not divisible by the batch size. If ``False`` and\n",
      "        the size of dataset is not divisible by the batch size, then the last batch\n",
      "        will be smaller. (default: ``False``)\n",
      "    timeout (numeric, optional): if positive, the timeout value for collecting a batch\n",
      "        from workers. Should always be non-negative. (default: ``0``)\n",
      "    worker_init_fn (Callable, optional): If not ``None``, this will be called on each\n",
      "        worker subprocess with the worker id (an int in ``[0, num_workers - 1]``) as\n",
      "        input, after seeding and before data loading. (default: ``None``)\n",
      "    generator (torch.Generator, optional): If not ``None``, this RNG will be used\n",
      "        by RandomSampler to generate random indexes and multiprocessing to generate\n",
      "        `base_seed` for workers. (default: ``None``)\n",
      "    prefetch_factor (int, optional, keyword-only arg): Number of batches loaded\n",
      "        in advance by each worker. ``2`` means there will be a total of\n",
      "        2 * num_workers batches prefetched across all workers. (default value depends\n",
      "        on the set value for num_workers. If value of num_workers=0 default is ``None``.\n",
      "        Otherwise if value of num_workers>0 default is ``2``).\n",
      "    persistent_workers (bool, optional): If ``True``, the data loader will not shutdown\n",
      "        the worker processes after a dataset has been consumed once. This allows to\n",
      "        maintain the workers `Dataset` instances alive. (default: ``False``)\n",
      "    pin_memory_device (str, optional): the data loader will copy Tensors\n",
      "        into device pinned memory before returning them if pin_memory is set to true.\n",
      "\n",
      "\n",
      ".. warning:: If the ``spawn`` start method is used, :attr:`worker_init_fn`\n",
      "             cannot be an unpicklable object, e.g., a lambda function. See\n",
      "             :ref:`multiprocessing-best-practices` on more details related\n",
      "             to multiprocessing in PyTorch.\n",
      "\n",
      ".. warning:: ``len(dataloader)`` heuristic is based on the length of the sampler used.\n",
      "             When :attr:`dataset` is an :class:`~torch.utils.data.IterableDataset`,\n",
      "             it instead returns an estimate based on ``len(dataset) / batch_size``, with proper\n",
      "             rounding depending on :attr:`drop_last`, regardless of multi-process loading\n",
      "             configurations. This represents the best guess PyTorch can make because PyTorch\n",
      "             trusts user :attr:`dataset` code in correctly handling multi-process\n",
      "             loading to avoid duplicate data.\n",
      "\n",
      "             However, if sharding results in multiple workers having incomplete last batches,\n",
      "             this estimate can still be inaccurate, because (1) an otherwise complete batch can\n",
      "             be broken into multiple ones and (2) more than one batch worth of samples can be\n",
      "             dropped when :attr:`drop_last` is set. Unfortunately, PyTorch can not detect such\n",
      "             cases in general.\n",
      "\n",
      "             See `Dataset Types`_ for more details on these two types of datasets and how\n",
      "             :class:`~torch.utils.data.IterableDataset` interacts with\n",
      "             `Multi-process data loading`_.\n",
      "\n",
      ".. warning:: See :ref:`reproducibility`, and :ref:`dataloader-workers-random-seed`, and\n",
      "             :ref:`data-loading-randomness` notes for random seed related questions.\n",
      "\u001b[0;31mFile:\u001b[0m           ~/Work/custom/.venv/lib/python3.10/site-packages/torch/utils/data/dataloader.py\n",
      "\u001b[0;31mType:\u001b[0m           type\n",
      "\u001b[0;31mSubclasses:\u001b[0m     "
     ]
    }
   ],
   "source": [
    "?torch.utils.data.DataLoader"
   ]
  },
  {
   "cell_type": "code",
   "execution_count": null,
   "metadata": {},
   "outputs": [],
   "source": []
  },
  {
   "cell_type": "markdown",
   "metadata": {},
   "source": [
    "## Community datasets could be loaded using special libraries such as `torchvision` for CV tasks, `torchaudio` for audio and signal processing tasks or `torchtext` for NLP tasks"
   ]
  },
  {
   "cell_type": "code",
   "execution_count": 26,
   "metadata": {},
   "outputs": [
    {
     "name": "stdout",
     "output_type": "stream",
     "text": [
      "Downloading https://www.cs.toronto.edu/~kriz/cifar-10-python.tar.gz to ./cifar/train/cifar-10-python.tar.gz\n"
     ]
    },
    {
     "name": "stderr",
     "output_type": "stream",
     "text": [
      "100%|██████████| 170498071/170498071 [00:12<00:00, 14150200.55it/s]\n"
     ]
    },
    {
     "name": "stdout",
     "output_type": "stream",
     "text": [
      "Extracting ./cifar/train/cifar-10-python.tar.gz to ./cifar/train/\n",
      "Downloading https://www.cs.toronto.edu/~kriz/cifar-10-python.tar.gz to ./cifar/test/cifar-10-python.tar.gz\n"
     ]
    },
    {
     "name": "stderr",
     "output_type": "stream",
     "text": [
      "100%|██████████| 170498071/170498071 [00:20<00:00, 8248464.42it/s]\n"
     ]
    },
    {
     "name": "stdout",
     "output_type": "stream",
     "text": [
      "Extracting ./cifar/test/cifar-10-python.tar.gz to ./cifar/test/\n"
     ]
    }
   ],
   "source": [
    "import torchvision\n",
    "import torchvision.transforms as transforms\n",
    "from torch.utils.data import DataLoader\n",
    "\n",
    "\n",
    "transform = transforms.Compose(\n",
    "    [transforms.ToTensor(),\n",
    "     transforms.Normalize((0.5, 0.5, 0.5), (0.5, 0.5, 0.5))])\n",
    "batch_size = 4\n",
    "\n",
    "trainset = torchvision.datasets.CIFAR10(root='./cifar/train/', transform=transform, download=True)\n",
    "trainloader = DataLoader(trainset, batch_size=batch_size,\n",
    "                         shuffle=True, num_workers=2)\n",
    "\n",
    "testset = torchvision.datasets.CIFAR10(root='./cifar/test/', transform=transform,  download=True)\n",
    "testloader = DataLoader(testset, batch_size=batch_size,\n",
    "                        shuffle=False, num_workers=2)"
   ]
  },
  {
   "cell_type": "code",
   "execution_count": null,
   "metadata": {},
   "outputs": [],
   "source": []
  },
  {
   "cell_type": "markdown",
   "metadata": {},
   "source": [
    "# Model Structure"
   ]
  },
  {
   "cell_type": "markdown",
   "metadata": {},
   "source": [
    "Single neuron:\n",
    "\n",
    "- takes some set of inputs\n",
    "- generates a corresponding scalar output\n",
    "- has a set of associated parameters that can be updated to optimize some objective function of interest\n",
    "\n",
    "\n",
    "In more complex network where multiple outputs are needed, the more complex subject is used - `layer`, a collection of multiple neurons:\n",
    "\n",
    "- take a set of inputs\n",
    "- generate corresponding outputs\n",
    "- are described by a set of tunable parameters\n",
    "\n",
    "\n",
    "Neural network:\n",
    "\n",
    "- complex of layers\n",
    "- takes in raw inputs (the features)\n",
    "- generates outputs (the predictions)\n",
    "- possesses parameters (the combined parameters from all constituent layers)\n",
    "\n",
    "\n",
    "\n",
    "To improve level of abstraction, the concept of `module` is introduced. \n",
    "A module could describe a single layer, a component consisting of multiple layers, or the entire model itself."
   ]
  },
  {
   "cell_type": "markdown",
   "metadata": {},
   "source": [
    "The PyTorch `nn` module is a core component facilitating the construction and training of neural networks. \n",
    "It provides a high-level abstraction for designing and implementing neural network architectures."
   ]
  },
  {
   "cell_type": "code",
   "execution_count": 27,
   "metadata": {},
   "outputs": [],
   "source": [
    "import torch\n",
    "from torch import nn\n",
    "import torch.nn.functional as F"
   ]
  },
  {
   "cell_type": "markdown",
   "metadata": {},
   "source": [
    "In PyTorch `nn` module could be split into next groups:\n",
    "\n",
    "- containers - Module, Sequential\n",
    "- linear - Linear\n",
    "- activations - non-linear units (ReLU, Sigmoid, LeakyReLU, Tanh, Softmax, etc.)\n",
    "- normalizations - BatchNorm, LayerNorm, different variations\n",
    "- loss functions - L1Loss, MSELoss, CrossEntropyLoss, etc.\n",
    "- matrix layers (usually for CV tasks) - convolutional, pooling, padding, dropout\n",
    "- sequential layers (usually for NLP tasks) - recurrent (RNN, LSTM, GRU), transformer (model, encoder, decoder), sparse\n",
    "\n",
    "\n",
    "Every module in PyTorch subclasses the `nn.Module`. A neural network is a module itself that consists of other modules (layers). This nested structure allows for building and managing complex architectures easily.\n",
    "\n",
    "Full list of possible modules is listed in [PyTorch nn documentation](https://pytorch.org/docs/stable/nn.html#)."
   ]
  },
  {
   "cell_type": "code",
   "execution_count": 28,
   "metadata": {},
   "outputs": [
    {
     "name": "stdout",
     "output_type": "stream",
     "text": [
      "NeuralNetwork(\n",
      "  (flatten): Flatten(start_dim=1, end_dim=-1)\n",
      "  (linear_1): Linear(in_features=784, out_features=512, bias=True)\n",
      "  (linear_2): Linear(in_features=512, out_features=512, bias=True)\n",
      "  (out_layer): Linear(in_features=512, out_features=10, bias=True)\n",
      ")\n"
     ]
    }
   ],
   "source": [
    "class NeuralNetwork(nn.Module):\n",
    "    def __init__(self):\n",
    "        super().__init__()\n",
    "        self.flatten = nn.Flatten()\n",
    "        self.linear_1 = nn.Linear(28*28, 512)\n",
    "        self.linear_2 = nn.Linear(512, 512)\n",
    "        self.out_layer = nn.Linear(512, 10)\n",
    "\n",
    "    def forward(self, x):\n",
    "        x = self.flatten(x)\n",
    "        x = F.relu(self.linear_1(x))\n",
    "        x = F.relu(self.linear_2(x))\n",
    "        \n",
    "        return self.out_layer(x)\n",
    "\n",
    "model = NeuralNetwork()\n",
    "\n",
    "# Note that functional modules that are used in forward-propogation are not displayed here; \n",
    "# only modules from constructor are displayed\n",
    "print(model)"
   ]
  },
  {
   "cell_type": "markdown",
   "metadata": {},
   "source": [
    "In cases similar to above where the output of previous layers go straight to the input of next layers without any additional processing - `Sequential` module could be used to design better network."
   ]
  },
  {
   "cell_type": "code",
   "execution_count": 29,
   "metadata": {},
   "outputs": [
    {
     "name": "stdout",
     "output_type": "stream",
     "text": [
      "NeuralNetwork_2(\n",
      "  (flatten): Flatten(start_dim=1, end_dim=-1)\n",
      "  (linear_relu_stack): Sequential(\n",
      "    (0): Linear(in_features=784, out_features=512, bias=True)\n",
      "    (1): ReLU()\n",
      "    (2): Linear(in_features=512, out_features=512, bias=True)\n",
      "    (3): ReLU()\n",
      "    (4): Linear(in_features=512, out_features=10, bias=True)\n",
      "  )\n",
      ")\n"
     ]
    }
   ],
   "source": [
    "class NeuralNetwork_2(nn.Module):\n",
    "    def __init__(self):\n",
    "        super().__init__()\n",
    "        self.flatten = nn.Flatten()\n",
    "        self.linear_relu_stack = nn.Sequential(\n",
    "            nn.Linear(28*28, 512),\n",
    "            nn.ReLU(),\n",
    "            nn.Linear(512, 512),\n",
    "            nn.ReLU(),\n",
    "            nn.Linear(512, 10),\n",
    "        )\n",
    "\n",
    "    def forward(self, x):\n",
    "        x = self.flatten(x)\n",
    "        logits = self.linear_relu_stack(x)\n",
    "        return logits\n",
    "    \n",
    "model_2 = NeuralNetwork_2()\n",
    "print(model_2)"
   ]
  },
  {
   "cell_type": "markdown",
   "metadata": {},
   "source": [
    "Some of modules could have alternative version with `Lazy` prefix in name.\n",
    "\n",
    "Modules that lazily initialize parameters, or “lazy modules”, derive the shapes of their parameters from the first input(s) to their forward method. Until that first forward they contain `torch.nn.UninitializedParameter`'s that should not be accessed or used, and afterward they contain regular `torch.nn.Parameter`'s."
   ]
  },
  {
   "cell_type": "code",
   "execution_count": 30,
   "metadata": {},
   "outputs": [
    {
     "name": "stdout",
     "output_type": "stream",
     "text": [
      "NeuralNetwork_3(\n",
      "  (flatten): Flatten(start_dim=1, end_dim=-1)\n",
      "  (linear_relu_stack): Sequential(\n",
      "    (0): LazyLinear(in_features=0, out_features=512, bias=True)\n",
      "    (1): ReLU()\n",
      "    (2): LazyLinear(in_features=0, out_features=512, bias=True)\n",
      "    (3): ReLU()\n",
      "    (4): LazyLinear(in_features=0, out_features=10, bias=True)\n",
      "  )\n",
      ")\n"
     ]
    },
    {
     "name": "stderr",
     "output_type": "stream",
     "text": [
      "/home/work/Work/custom/.venv/lib/python3.10/site-packages/torch/nn/modules/lazy.py:180: UserWarning: Lazy modules are a new feature under heavy development so changes to the API or functionality can happen at any moment.\n",
      "  warnings.warn('Lazy modules are a new feature under heavy development '\n"
     ]
    }
   ],
   "source": [
    "class NeuralNetwork_3(nn.Module):\n",
    "    def __init__(self):\n",
    "        super().__init__()\n",
    "        self.flatten = nn.Flatten()\n",
    "        self.linear_relu_stack = nn.Sequential(\n",
    "            nn.LazyLinear(512),\n",
    "            nn.ReLU(),\n",
    "            nn.LazyLinear(512),\n",
    "            nn.ReLU(),\n",
    "            nn.LazyLinear(10),\n",
    "        )\n",
    "\n",
    "    def forward(self, x):\n",
    "        x = self.flatten(x)\n",
    "        logits = self.linear_relu_stack(x)\n",
    "        return logits\n",
    "    \n",
    "model_3 = NeuralNetwork_3()\n",
    "print(model_3)"
   ]
  },
  {
   "cell_type": "markdown",
   "metadata": {},
   "source": [
    "Classification models above return `logits` - the vector of raw (non-normalized) predictions that a classification model generates, which is ordinarily then passed to a normalization function. \n",
    "\n",
    "If the model is solving a multi-class classification problem, logits typically become an input to the `Softmax` function. The softmax function then generates a vector of (normalized) probabilities with one value for each possible class.\n",
    "\n",
    "If only top class is needed from the output model - the normalization function could be swapped to `argmax` function.\n",
    "\n",
    "\n",
    "Customary, `logits` are the final output of the model and it's normalization is performed outside model structure."
   ]
  },
  {
   "cell_type": "markdown",
   "metadata": {},
   "source": [
    "## Custom layers"
   ]
  },
  {
   "cell_type": "code",
   "execution_count": 31,
   "metadata": {},
   "outputs": [
    {
     "data": {
      "text/plain": [
       "tensor([-2., -1.,  0.,  1.,  2.])"
      ]
     },
     "execution_count": 31,
     "metadata": {},
     "output_type": "execute_result"
    }
   ],
   "source": [
    "# Layer without parameters; used to implement functional modules like activation functions, etc\n",
    "\n",
    "class CenteredLayer(nn.Module):\n",
    "    def __init__(self):\n",
    "        super().__init__()\n",
    "\n",
    "    def forward(self, X):\n",
    "        return X - X.mean()\n",
    "    \n",
    "layer = CenteredLayer()\n",
    "layer(torch.tensor([1.0, 2, 3, 4, 5]))"
   ]
  },
  {
   "cell_type": "code",
   "execution_count": 32,
   "metadata": {},
   "outputs": [
    {
     "data": {
      "text/plain": [
       "tensor(-7.7998e-09, grad_fn=<MeanBackward0>)"
      ]
     },
     "execution_count": 32,
     "metadata": {},
     "output_type": "execute_result"
    }
   ],
   "source": [
    "net = nn.Sequential(nn.LazyLinear(128), CenteredLayer())\n",
    "Y = net(torch.rand(4, 8))\n",
    "Y.mean()"
   ]
  },
  {
   "cell_type": "code",
   "execution_count": 33,
   "metadata": {},
   "outputs": [
    {
     "data": {
      "text/plain": [
       "Parameter containing:\n",
       "tensor([[-1.0126,  0.6590, -0.4871],\n",
       "        [ 0.8025, -0.1942,  0.8908],\n",
       "        [ 0.0188, -0.1470, -1.4865],\n",
       "        [ 1.0358,  0.0047,  0.9329],\n",
       "        [-0.0488,  0.0264,  1.0749]], requires_grad=True)"
      ]
     },
     "execution_count": 33,
     "metadata": {},
     "output_type": "execute_result"
    }
   ],
   "source": [
    "# Layer with parameters that could be learned during back-propagation\n",
    "\n",
    "class MyLinear(nn.Module):\n",
    "    def __init__(self, in_units, units):\n",
    "        super().__init__()\n",
    "        self.weight = nn.Parameter(torch.randn(in_units, units))\n",
    "        self.bias = nn.Parameter(torch.randn(units,))\n",
    "\n",
    "    def forward(self, X):\n",
    "        linear = torch.matmul(X, self.weight.data) + self.bias.data\n",
    "        return F.relu(linear)\n",
    "    \n",
    "linear = MyLinear(5, 3)\n",
    "linear.weight"
   ]
  },
  {
   "cell_type": "code",
   "execution_count": 34,
   "metadata": {},
   "outputs": [
    {
     "data": {
      "text/plain": [
       "tensor([[0.6268, 0.0000, 0.0000],\n",
       "        [1.2272, 0.0000, 0.0000]])"
      ]
     },
     "execution_count": 34,
     "metadata": {},
     "output_type": "execute_result"
    }
   ],
   "source": [
    "linear(torch.rand(2, 5))"
   ]
  },
  {
   "cell_type": "code",
   "execution_count": 35,
   "metadata": {},
   "outputs": [
    {
     "data": {
      "text/plain": [
       "tensor([[3.0906],\n",
       "        [3.7883]])"
      ]
     },
     "execution_count": 35,
     "metadata": {},
     "output_type": "execute_result"
    }
   ],
   "source": [
    "net = nn.Sequential(MyLinear(64, 8), MyLinear(8, 1))\n",
    "net(torch.rand(2, 64))"
   ]
  },
  {
   "cell_type": "markdown",
   "metadata": {},
   "source": [
    "# Model training"
   ]
  },
  {
   "cell_type": "markdown",
   "metadata": {},
   "source": [
    "## Auto-differentiation"
   ]
  },
  {
   "cell_type": "markdown",
   "metadata": {},
   "source": [
    "<h3>Background</h3>\n",
    "\n",
    "Neural networks (NNs) are a collection of nested functions that are executed on some input data. These functions are defined by parameters (consisting of weights and biases), which in PyTorch are stored in tensors.\n",
    "\n",
    "Training a NN happens in two steps:\n",
    "\n",
    "`Forward Propagation`: In forward prop, the NN makes its best guess about the correct output. It runs the input data through each of its functions to make this guess.\n",
    "\n",
    "`Backward Propagation`: In backprop, the NN adjusts its parameters proportionate to the error in its guess. It does this by traversing backwards from the output, collecting the derivatives of the error with respect to the parameters of the functions (gradients), and optimizing the parameters using gradient descent. "
   ]
  },
  {
   "cell_type": "markdown",
   "metadata": {},
   "source": [
    "Simple NN with 5 neurons:\n",
    "\n",
    "![Network structure](./supplementary_data/graph_example.png)\n",
    "\n",
    "\n",
    "Plotting computational graphs helps us visualize the dependencies of operators and variables within the calculation.\n",
    "\n",
    "![Network backpropoogation graph](./supplementary_data/graph_backpropogation.png)"
   ]
  },
  {
   "cell_type": "markdown",
   "metadata": {},
   "source": [
    "To make work with model easier, the algorithm of `auto-differentiation` is introduced.\n",
    "\n",
    "To compute parameter gradients, PyTorch has a built-in differentiation engine called `torch.autograd`. It supports automatic computation of gradient for any `computational graph`."
   ]
  },
  {
   "cell_type": "code",
   "execution_count": 36,
   "metadata": {},
   "outputs": [],
   "source": [
    "import torch\n",
    "\n",
    "x = torch.ones(5)  # input tensor\n",
    "y = torch.zeros(3)  # expected output\n",
    "\n",
    "w1 = torch.randn(5, 3, requires_grad=True)\n",
    "w2 = torch.randn(5, 3, requires_grad=True)\n",
    "w3 = torch.randn(3, requires_grad=True)\n",
    "w4 = torch.randn(3, requires_grad=True)\n",
    "\n",
    "b = torch.matmul(x, w1)\n",
    "c = torch.matmul(x, w2)\n",
    "\n",
    "d = w3 * b + w4 * c\n",
    "\n",
    "loss = torch.nn.functional.binary_cross_entropy_with_logits(d, y)"
   ]
  },
  {
   "cell_type": "code",
   "execution_count": 37,
   "metadata": {},
   "outputs": [
    {
     "name": "stdout",
     "output_type": "stream",
     "text": [
      "Gradient function for d = <AddBackward0 object at 0x7fe145e98b50>\n",
      "Gradient function for loss = <BinaryCrossEntropyWithLogitsBackward0 object at 0x7fe145e98460>\n"
     ]
    }
   ],
   "source": [
    "print(f\"Gradient function for d = {d.grad_fn}\")\n",
    "print(f\"Gradient function for loss = {loss.grad_fn}\")"
   ]
  },
  {
   "cell_type": "markdown",
   "metadata": {},
   "source": [
    "To optimize weights of parameters in the neural network, we need to compute the derivatives of our loss function with respect to parameters.\n",
    "\n",
    "To compute those derivatives, we call `loss.backward()`, and then retrieve the values from corresponding parameters."
   ]
  },
  {
   "cell_type": "code",
   "execution_count": 38,
   "metadata": {},
   "outputs": [
    {
     "name": "stdout",
     "output_type": "stream",
     "text": [
      "tensor([[-0.5632, -0.0099,  0.4143],\n",
      "        [-0.5632, -0.0099,  0.4143],\n",
      "        [-0.5632, -0.0099,  0.4143],\n",
      "        [-0.5632, -0.0099,  0.4143],\n",
      "        [-0.5632, -0.0099,  0.4143]])\n",
      "tensor([[-0.8021,  0.0095, -0.1299],\n",
      "        [-0.8021,  0.0095, -0.1299],\n",
      "        [-0.8021,  0.0095, -0.1299],\n",
      "        [-0.8021,  0.0095, -0.1299],\n",
      "        [-0.8021,  0.0095, -0.1299]])\n",
      "tensor([0.6488, 0.0334, 0.0359])\n",
      "tensor([-0.8622, -0.0726,  0.0171])\n"
     ]
    }
   ],
   "source": [
    "loss.backward()\n",
    "print(w1.grad)\n",
    "print(w2.grad)\n",
    "print(w3.grad)\n",
    "print(w4.grad)"
   ]
  },
  {
   "cell_type": "markdown",
   "metadata": {},
   "source": [
    "By default, all tensors with `requires_grad=True` are tracking their computational history and support gradient computation. \n",
    "\n",
    "However, there are some cases when we do not need to do that. For example, when we have trained the model and just want to apply it to some input data, i.e. we only want to do forward computations through the network. \n",
    "\n",
    "Or to mark some parameters in your neural network as `frozen parameters`, so they won't change during training."
   ]
  },
  {
   "cell_type": "code",
   "execution_count": 39,
   "metadata": {},
   "outputs": [
    {
     "name": "stdout",
     "output_type": "stream",
     "text": [
      "True\n",
      "False\n",
      "False\n",
      "False\n",
      "False\n"
     ]
    }
   ],
   "source": [
    "b = torch.matmul(x, w1)\n",
    "print(b.requires_grad)\n",
    "\n",
    "\n",
    "# We can stop tracking computations by surrounding our computation code with `torch.no_grad()` block:\n",
    "\n",
    "with torch.no_grad():\n",
    "    b = torch.matmul(x, w1)\n",
    "print(b.requires_grad)\n",
    "\n",
    "\n",
    "# With `torch.inference_mode()` block:\n",
    "\n",
    "with torch.inference_mode():\n",
    "    b = torch.matmul(x, w1)\n",
    "print(b.requires_grad)\n",
    "\n",
    "\n",
    "# using `.detach()` method:\n",
    "\n",
    "b = torch.matmul(x, w1).detach()\n",
    "print(b.requires_grad)\n",
    "\n",
    "\n",
    "# disabling `requires_grad` flag \n",
    "b = torch.matmul(x, w1).detach()\n",
    "b.requires_grad = False\n",
    "print(b.requires_grad)"
   ]
  },
  {
   "cell_type": "markdown",
   "metadata": {},
   "source": [
    "More about disabling could be read on [PyTorch auto-grad documentation](https://pytorch.org/docs/stable/notes/autograd.html#locally-disabling-gradient-computation)."
   ]
  },
  {
   "cell_type": "code",
   "execution_count": null,
   "metadata": {},
   "outputs": [],
   "source": []
  },
  {
   "cell_type": "markdown",
   "metadata": {},
   "source": [
    "## Optimization loop"
   ]
  },
  {
   "cell_type": "markdown",
   "metadata": {},
   "source": [
    "The NN model is trained in the iteration of the loop that optimizes models' weights. Such iterations are called an `epoch`.\n",
    "\n",
    "Each epoch consists of two main parts:\n",
    "\n",
    "- `The Train Loop` - iterate over the training dataset and try to converge to optimal parameters.\n",
    "- `The Validation/Test Loop` - iterate over the test dataset to check if model performance is improving.\n",
    "\n",
    "\n",
    "When presented with some training data, the untrained network is likely not to give the correct answer. \n",
    "\n",
    "`Loss function` measures the degree of dissimilarity of obtained result to the target value, and it is the loss function that we want to minimize during training. To calculate the loss we make a prediction using the inputs of our given data sample and compare it against the true data label value.\n",
    "\n",
    "\n",
    "Common loss functions include `nn.MSELoss (Mean Square Error)` for `regression` tasks, and `nn.CrossEntropyLoss` for `classification` tasks.\n",
    "\n",
    "\n",
    "Optimization is the process of adjusting model parameters to reduce model error in each training step. `Optimization algorithms` define how this process is performed (e.g., `Stochastic Gradient Descent`, `Adam`, `RMSProp`, etc)."
   ]
  },
  {
   "cell_type": "markdown",
   "metadata": {},
   "source": [
    "Inside the training loop, optimization happens in three steps:\n",
    "\n",
    "- Call `optimizer.zero_grad()` to reset the gradients of model parameters. Gradients by default add up; to prevent double-counting, we explicitly zero them at each iteration.\n",
    "- Backpropagate the prediction loss with a call to `loss.backward()`. PyTorch deposits the gradients of the loss for each parameter.\n",
    "- Once we have our gradients, we call `optimizer.step()` to adjust the parameters by the gradients collected in the backward pass.\n",
    "\n"
   ]
  },
  {
   "cell_type": "code",
   "execution_count": 41,
   "metadata": {},
   "outputs": [],
   "source": [
    "import torchvision\n",
    "import torchvision.transforms as transforms\n",
    "from torch.utils.data import DataLoader\n",
    "\n",
    "\n",
    "transform = transforms.Compose([\n",
    "    transforms.ToTensor(),\n",
    "    transforms.Normalize((0.5, 0.5, 0.5), (0.5, 0.5, 0.5))\n",
    "])\n",
    "batch_size = 4\n",
    "\n",
    "trainset = torchvision.datasets.CIFAR10(root='./cifar/train/', transform=transform)\n",
    "train_loader = DataLoader(trainset, batch_size=batch_size,\n",
    "                          shuffle=True, num_workers=2)\n",
    "\n",
    "testset = torchvision.datasets.CIFAR10(root='./cifar/test/', transform=transform)\n",
    "test_loader = DataLoader(testset, batch_size=batch_size,\n",
    "                         shuffle=False, num_workers=2)"
   ]
  },
  {
   "cell_type": "code",
   "execution_count": 43,
   "metadata": {},
   "outputs": [],
   "source": [
    "with open(\"cifar/labels.txt\") as label_file:\n",
    "    labels = label_file.read().split()\n",
    "label_mapping = dict(zip(labels, list(range(len(labels)))))"
   ]
  },
  {
   "cell_type": "code",
   "execution_count": 50,
   "metadata": {},
   "outputs": [
    {
     "data": {
      "text/plain": [
       "(3072, 10)"
      ]
     },
     "execution_count": 50,
     "metadata": {},
     "output_type": "execute_result"
    }
   ],
   "source": [
    "input_size = torch.numel(trainset[0][0])\n",
    "output_size = len(label_mapping)\n",
    "\n",
    "input_size, output_size"
   ]
  },
  {
   "cell_type": "code",
   "execution_count": 51,
   "metadata": {},
   "outputs": [
    {
     "name": "stdout",
     "output_type": "stream",
     "text": [
      "CIFAR10Model(\n",
      "  (flatten): Flatten(start_dim=1, end_dim=-1)\n",
      "  (linear_relu_stack): Sequential(\n",
      "    (0): Linear(in_features=3072, out_features=512, bias=True)\n",
      "    (1): ReLU()\n",
      "    (2): Linear(in_features=512, out_features=512, bias=True)\n",
      "    (3): ReLU()\n",
      "    (4): Linear(in_features=512, out_features=10, bias=True)\n",
      "  )\n",
      ")\n"
     ]
    }
   ],
   "source": [
    "import torch\n",
    "from torch import nn\n",
    "from torch import  functional as F\n",
    "\n",
    "device = torch.device('cuda' if torch.cuda.is_available() else 'cpu')\n",
    "\n",
    "\n",
    "class CIFAR10Model(nn.Module):\n",
    "    def __init__(self, input_size, output_size):\n",
    "        super().__init__()\n",
    "        self.flatten = nn.Flatten()\n",
    "        self.linear_relu_stack = nn.Sequential(\n",
    "            nn.Linear(input_size, 512),\n",
    "            nn.ReLU(),\n",
    "            nn.Linear(512, 512),\n",
    "            nn.ReLU(),\n",
    "            nn.Linear(512, output_size),\n",
    "        )\n",
    "\n",
    "    def forward(self, x):\n",
    "        x = self.flatten(x)\n",
    "        logits = self.linear_relu_stack(x)\n",
    "        return logits\n",
    "    \n",
    "model = CIFAR10Model(input_size, output_size).to(device)\n",
    "print(model)"
   ]
  },
  {
   "cell_type": "code",
   "execution_count": 52,
   "metadata": {},
   "outputs": [],
   "source": [
    "learning_rate = 1e-3\n",
    "epochs = 10\n",
    "\n",
    "# Initialize the loss function; also called `criterion`\n",
    "loss_fn = nn.CrossEntropyLoss()\n",
    "\n",
    "# Initialize optimizer\n",
    "optimizer = torch.optim.SGD(model.parameters(), lr=learning_rate)"
   ]
  },
  {
   "cell_type": "code",
   "execution_count": 65,
   "metadata": {},
   "outputs": [],
   "source": [
    "from tqdm import tqdm"
   ]
  },
  {
   "cell_type": "code",
   "execution_count": 68,
   "metadata": {},
   "outputs": [],
   "source": [
    "def train_loop(dataloader, model, loss_fn, optimizer, epoch):\n",
    "    # Set the model to training mode - important for batch normalization and dropout layers\n",
    "    # Unnecessary in this situation but added for best practices\n",
    "    model.train()\n",
    "    \n",
    "    tqdm_loader = tqdm(dataloader, unit=\"batch\", desc=f\"Epoch {epoch}\", total=len(dataloader))\n",
    "    for batch, (X, y) in enumerate(tqdm_loader):\n",
    "        # Compute prediction and loss\n",
    "        X, y = X.to(device), y.to(device)\n",
    "        pred = model(X)\n",
    "        loss = loss_fn(pred, y)\n",
    "\n",
    "        # Backpropagation\n",
    "        loss.backward()\n",
    "        optimizer.step()\n",
    "        optimizer.zero_grad()\n",
    "\n",
    "        if batch % 1000 == 0:\n",
    "            tqdm_loader.set_postfix(loss=loss.item())\n",
    "\n",
    "\n",
    "def test_loop(dataloader, model, loss_fn):\n",
    "    # Set the model to evaluation mode - important for batch normalization and dropout layers\n",
    "    # Unnecessary in this situation but added for best practices\n",
    "    model.eval()\n",
    "    size = len(dataloader.dataset)\n",
    "    num_batches = len(dataloader)\n",
    "    test_loss, correct = 0, 0\n",
    "\n",
    "    # Evaluating the model with torch.no_grad() ensures that no gradients are computed during test mode\n",
    "    # also serves to reduce unnecessary gradient computations and memory usage for tensors with requires_grad=True\n",
    "\n",
    "    with torch.no_grad():\n",
    "        for X, y in dataloader:\n",
    "            X, y = X.to(device), y.to(device)\n",
    "            pred = model(X)\n",
    "            test_loss += loss_fn(pred, y).item()\n",
    "            correct += (pred.argmax(1) == y).type(torch.float).sum().item()\n",
    "\n",
    "    test_loss /= num_batches\n",
    "    correct /= size\n",
    "    print(f\"Test Error: \\n Accuracy: {(100*correct):>0.1f}%, Avg loss: {test_loss:>8f} \\n\")"
   ]
  },
  {
   "cell_type": "code",
   "execution_count": 69,
   "metadata": {},
   "outputs": [
    {
     "name": "stderr",
     "output_type": "stream",
     "text": [
      "Epoch 0: 100%|██████████| 12500/12500 [00:28<00:00, 437.19batch/s, loss=1.58] \n"
     ]
    },
    {
     "name": "stdout",
     "output_type": "stream",
     "text": [
      "Test Error: \n",
      " Accuracy: 71.4%, Avg loss: 0.839392 \n",
      "\n"
     ]
    },
    {
     "name": "stderr",
     "output_type": "stream",
     "text": [
      "Epoch 1: 100%|██████████| 12500/12500 [00:26<00:00, 464.76batch/s, loss=1.95] \n"
     ]
    },
    {
     "name": "stdout",
     "output_type": "stream",
     "text": [
      "Test Error: \n",
      " Accuracy: 72.2%, Avg loss: 0.818013 \n",
      "\n"
     ]
    },
    {
     "name": "stderr",
     "output_type": "stream",
     "text": [
      "Epoch 2: 100%|██████████| 12500/12500 [00:27<00:00, 460.47batch/s, loss=0.839]\n"
     ]
    },
    {
     "name": "stdout",
     "output_type": "stream",
     "text": [
      "Test Error: \n",
      " Accuracy: 74.7%, Avg loss: 0.753160 \n",
      "\n"
     ]
    },
    {
     "name": "stderr",
     "output_type": "stream",
     "text": [
      "Epoch 3: 100%|██████████| 12500/12500 [00:26<00:00, 466.69batch/s, loss=1.49] \n"
     ]
    },
    {
     "name": "stdout",
     "output_type": "stream",
     "text": [
      "Test Error: \n",
      " Accuracy: 75.4%, Avg loss: 0.733848 \n",
      "\n"
     ]
    },
    {
     "name": "stderr",
     "output_type": "stream",
     "text": [
      "Epoch 4: 100%|██████████| 12500/12500 [00:26<00:00, 471.05batch/s, loss=2.3]  \n"
     ]
    },
    {
     "name": "stdout",
     "output_type": "stream",
     "text": [
      "Test Error: \n",
      " Accuracy: 76.6%, Avg loss: 0.694875 \n",
      "\n"
     ]
    },
    {
     "name": "stderr",
     "output_type": "stream",
     "text": [
      "Epoch 5: 100%|██████████| 12500/12500 [00:26<00:00, 472.32batch/s, loss=0.746]\n"
     ]
    },
    {
     "name": "stdout",
     "output_type": "stream",
     "text": [
      "Test Error: \n",
      " Accuracy: 77.8%, Avg loss: 0.666101 \n",
      "\n"
     ]
    },
    {
     "name": "stderr",
     "output_type": "stream",
     "text": [
      "Epoch 6: 100%|██████████| 12500/12500 [00:26<00:00, 469.62batch/s, loss=0.322]\n"
     ]
    },
    {
     "name": "stdout",
     "output_type": "stream",
     "text": [
      "Test Error: \n",
      " Accuracy: 77.9%, Avg loss: 0.653447 \n",
      "\n"
     ]
    },
    {
     "name": "stderr",
     "output_type": "stream",
     "text": [
      "Epoch 7: 100%|██████████| 12500/12500 [00:26<00:00, 473.30batch/s, loss=0.521]\n"
     ]
    },
    {
     "name": "stdout",
     "output_type": "stream",
     "text": [
      "Test Error: \n",
      " Accuracy: 80.2%, Avg loss: 0.595254 \n",
      "\n"
     ]
    },
    {
     "name": "stderr",
     "output_type": "stream",
     "text": [
      "Epoch 8: 100%|██████████| 12500/12500 [00:26<00:00, 468.82batch/s, loss=0.699]\n"
     ]
    },
    {
     "name": "stdout",
     "output_type": "stream",
     "text": [
      "Test Error: \n",
      " Accuracy: 81.3%, Avg loss: 0.560835 \n",
      "\n"
     ]
    },
    {
     "name": "stderr",
     "output_type": "stream",
     "text": [
      "Epoch 9: 100%|██████████| 12500/12500 [00:26<00:00, 471.11batch/s, loss=1.06] \n"
     ]
    },
    {
     "name": "stdout",
     "output_type": "stream",
     "text": [
      "Test Error: \n",
      " Accuracy: 81.4%, Avg loss: 0.554592 \n",
      "\n"
     ]
    }
   ],
   "source": [
    "for t in range(epochs):\n",
    "    train_loop(train_loader, model, loss_fn, optimizer, epoch=t)\n",
    "    test_loop(test_loader, model, loss_fn)\n",
    "\n",
    "torch.save(model, 'model.pth')\n",
    "\n",
    "# OR\n",
    "\n",
    "torch.save(model.state_dict(), 'model_state.pth')"
   ]
  },
  {
   "cell_type": "code",
   "execution_count": 58,
   "metadata": {},
   "outputs": [
    {
     "data": {
      "text/plain": [
       "CIFAR10Model(\n",
       "  (flatten): Flatten(start_dim=1, end_dim=-1)\n",
       "  (linear_relu_stack): Sequential(\n",
       "    (0): Linear(in_features=3072, out_features=512, bias=True)\n",
       "    (1): ReLU()\n",
       "    (2): Linear(in_features=512, out_features=512, bias=True)\n",
       "    (3): ReLU()\n",
       "    (4): Linear(in_features=512, out_features=10, bias=True)\n",
       "  )\n",
       ")"
      ]
     },
     "execution_count": 58,
     "metadata": {},
     "output_type": "execute_result"
    }
   ],
   "source": [
    "loaded_model = torch.load('model.pth')\n",
    "loaded_model.eval()\n",
    "\n",
    "# OR\n",
    "\n",
    "loaded_model = CIFAR10Model(input_size, output_size)\n",
    "loaded_model.load_state_dict(torch.load('model_state.pth'))\n",
    "loaded_model.eval()"
   ]
  },
  {
   "cell_type": "markdown",
   "metadata": {},
   "source": [
    "`Note:` After loading saved model, `model.eval()` method is called to set specifics layers (such as, Dropout, Normalization, etc.) to inference mode"
   ]
  },
  {
   "cell_type": "code",
   "execution_count": null,
   "metadata": {},
   "outputs": [],
   "source": []
  },
  {
   "cell_type": "code",
   "execution_count": null,
   "metadata": {},
   "outputs": [],
   "source": []
  },
  {
   "cell_type": "markdown",
   "metadata": {},
   "source": [
    "# Materials and usefull links"
   ]
  },
  {
   "cell_type": "markdown",
   "metadata": {},
   "source": [
    "1. [PyTorch Basics tytorial](https://pytorch.org/tutorials/beginner/basics/intro.html)\n",
    "2. [PyTorch Data Interfaces](https://pytorch.org/docs/stable/data.html)\n",
    "3. [D2L Builders' Guide](https://d2l.ai/chapter_builders-guide/index.html)\n",
    "4. [PyTorch Auto-differentiation basics](https://pytorch.org/tutorials/beginner/basics/autogradqs_tutorial.html)\n",
    "5. [PyTorch Auto-differentiation intro](https://pytorch.org/tutorials/beginner/blitz/autograd_tutorial.html#)\n",
    "6. [PyTorch Auto-differentiation mechanics](https://pytorch.org/docs/stable/notes/autograd.html#)\n",
    "7. [D2L Propogation and graphs](https://d2l.ai/chapter_multilayer-perceptrons/backprop.html)\n",
    "8. [Understanding PyTorch graphs and autograd](https://blog.paperspace.com/pytorch-101-understanding-graphs-and-automatic-differentiation/)\n",
    "9. [PyTorch Optimization](https://pytorch.org/tutorials/beginner/basics/optimization_tutorial.html)\n",
    "10. Grokking Deep Learning by Andrew W. Trask\n",
    "11. [PyTorch models visualization](https://pytorch.org/tutorials/intermediate/tensorboard_tutorial.html)"
   ]
  },
  {
   "cell_type": "markdown",
   "metadata": {},
   "source": [
    "Tools:\n",
    "\n",
    "1. [PyTorch Lightning](https://lightning.ai/pytorch-lightning) - tool upon PyTorch to make training and model designing easier\n",
    "2. [Netron](https://netron.app/) - tool for visualizing the model architecture\n",
    "3. [PyTorch eco-system](https://pytorch.org/ecosystem/) - list of PyTorch tools\n",
    "4. [WandB](https://github.com/wandb/wandb) - tools for experementation tracking and its visualization\n"
   ]
  },
  {
   "cell_type": "code",
   "execution_count": null,
   "metadata": {},
   "outputs": [],
   "source": []
  },
  {
   "cell_type": "markdown",
   "metadata": {},
   "source": [
    "# Homework"
   ]
  },
  {
   "cell_type": "markdown",
   "metadata": {},
   "source": [
    "1. Train NN model with custom linear architecture on MNIST or on any dataset from Kaggle (image data with resolution not higher than 80x80 pixels - \n",
    "[Sign language MNIST](https://www.kaggle.com/datasets/datamunge/sign-language-mnist), \n",
    "[A-Z Handwritten Alphabet](https://www.kaggle.com/datasets/sachinpatel21/az-handwritten-alphabets-in-csv-format), etc.)\n",
    "2. Visualize epoch progress (loss and accuracy curves)\n",
    "3. Visualize 10 random elements from test set and model results for those elements"
   ]
  },
  {
   "cell_type": "code",
   "execution_count": null,
   "metadata": {},
   "outputs": [],
   "source": []
  }
 ],
 "metadata": {
  "kernelspec": {
   "display_name": ".venv",
   "language": "python",
   "name": "python3"
  },
  "language_info": {
   "codemirror_mode": {
    "name": "ipython",
    "version": 3
   },
   "file_extension": ".py",
   "mimetype": "text/x-python",
   "name": "python",
   "nbconvert_exporter": "python",
   "pygments_lexer": "ipython3",
   "version": "3.10.12"
  }
 },
 "nbformat": 4,
 "nbformat_minor": 2
}
