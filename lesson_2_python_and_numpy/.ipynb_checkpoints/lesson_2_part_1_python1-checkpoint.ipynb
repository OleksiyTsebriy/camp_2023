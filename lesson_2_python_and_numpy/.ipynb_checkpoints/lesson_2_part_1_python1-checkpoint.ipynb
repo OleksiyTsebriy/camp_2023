{
 "cells": [
  {
   "cell_type": "markdown",
   "metadata": {},
   "source": [
    "\n",
    "# <font color = green >Python Particularities\n",
    "</font>\n",
    "\n",
    "\n",
    "\n"
   ]
  },
  {
   "cell_type": "markdown",
   "metadata": {},
   "source": [
    "***\n",
    "### <font color = green >Determine the python version at runtime </font >"
   ]
  },
  {
   "cell_type": "code",
   "execution_count": 4,
   "metadata": {},
   "outputs": [
    {
     "data": {
      "text/plain": [
       "'3.9.13'"
      ]
     },
     "execution_count": 4,
     "metadata": {},
     "output_type": "execute_result"
    }
   ],
   "source": [
    "import platform\n",
    "platform.python_version()"
   ]
  },
  {
   "cell_type": "markdown",
   "metadata": {},
   "source": [
    "# Mutable vs. Immutable Objects in Python\n",
    "\n",
    "In Python, objects can be categorized as either **mutable** or **immutable** based on their ability to be changed after their creation. Let's dig deeper into these concepts:\n",
    "\n",
    "### 1. Mutable Objects:\n",
    "\n",
    "**Mutable objects** are those that can be changed or modified after they are created. This means that when we change the value of a mutable object, it doesn’t create a new object but rather modifies the existing one.\n",
    "\n",
    "Examples of mutable objects include:\n",
    "- Lists\n",
    "- Dictionaries\n",
    "- Sets\n",
    "\n",
    "### 2. Immutable Objects:\n",
    "\n",
    "**Immutable objects** cannot be changed or modified after they are created. When we try to change the value of an immutable object, Python creates a new object with the new value.\n",
    "\n",
    "Examples of immutable objects include:\n",
    "- Integers\n",
    "- Floats\n",
    "- Strings\n",
    "- Tuples\n"
   ]
  },
  {
   "cell_type": "code",
   "execution_count": 5,
   "metadata": {},
   "outputs": [
    {
     "name": "stdout",
     "output_type": "stream",
     "text": [
      "True\n",
      "True\n"
     ]
    }
   ],
   "source": [
    "x = 10\n",
    "y = x\n",
    "print (id(x) == id(y))\n",
    "print(id(y) == id(10))"
   ]
  },
  {
   "cell_type": "markdown",
   "metadata": {},
   "source": [
    "#### <font color= green>modify x</font>"
   ]
  },
  {
   "cell_type": "code",
   "execution_count": 6,
   "metadata": {},
   "outputs": [
    {
     "name": "stdout",
     "output_type": "stream",
     "text": [
      "False\n"
     ]
    }
   ],
   "source": [
    "x+= 1\n",
    "print (id(x) == id(y))"
   ]
  },
  {
   "cell_type": "markdown",
   "metadata": {},
   "source": [
    " ### <font color = green> Mutable sample </font>"
   ]
  },
  {
   "cell_type": "code",
   "execution_count": 7,
   "metadata": {},
   "outputs": [
    {
     "data": {
      "text/plain": [
       "True"
      ]
     },
     "execution_count": 7,
     "metadata": {},
     "output_type": "execute_result"
    }
   ],
   "source": [
    "m = list([1, 2, 3])\n",
    "n = m\n",
    "id(m) == id(n)"
   ]
  },
  {
   "cell_type": "markdown",
   "metadata": {},
   "source": [
    "#### <font color = green>modify m </font>"
   ]
  },
  {
   "cell_type": "code",
   "execution_count": 8,
   "metadata": {},
   "outputs": [
    {
     "data": {
      "text/plain": [
       "True"
      ]
     },
     "execution_count": 8,
     "metadata": {},
     "output_type": "execute_result"
    }
   ],
   "source": [
    "m.append(4)\n",
    "id(m) == id(n)"
   ]
  },
  {
   "cell_type": "markdown",
   "metadata": {},
   "source": [
    "#### <font color = green>  Immutable objects containing mutable parts </font>"
   ]
  },
  {
   "cell_type": "code",
   "execution_count": 9,
   "metadata": {},
   "outputs": [
    {
     "name": "stdout",
     "output_type": "stream",
     "text": [
      "<class 'list'>\n",
      "<class 'tuple'>\n"
     ]
    }
   ],
   "source": [
    "a=[1,2,3]\n",
    "b=(a)\n",
    "print (type(b))\n",
    "b=(a,134,123)\n",
    "print (type(b))"
   ]
  },
  {
   "cell_type": "markdown",
   "metadata": {},
   "source": [
    "#### <font color = green> function parameter gets the same object</font>\n",
    " "
   ]
  },
  {
   "cell_type": "code",
   "execution_count": 10,
   "metadata": {},
   "outputs": [
    {
     "name": "stdout",
     "output_type": "stream",
     "text": [
      "before calling function id= 140349859305904\n",
      "starting function id= 140349859305904\n",
      "ending function id= 140349859306224\n",
      "after calling function value= 5\n"
     ]
    }
   ],
   "source": [
    "def update_number(b):\n",
    "    print('starting function id= {}'.format(id(b)))\n",
    "    b = b + 10\n",
    "    print('ending function id= {}'.format(id(b)))\n",
    "\n",
    "b = 5\n",
    "print('before calling function id= {}'.format(id(b)))\n",
    "update_number(b)\n",
    "print('after calling function value= {}'.format(b)) "
   ]
  },
  {
   "cell_type": "markdown",
   "metadata": {},
   "source": [
    "#### <font color = green> Changing mutable object in function </font>\n",
    " "
   ]
  },
  {
   "cell_type": "code",
   "execution_count": 11,
   "metadata": {},
   "outputs": [
    {
     "name": "stdout",
     "output_type": "stream",
     "text": [
      "[1, 2, 'new el']\n"
     ]
    }
   ],
   "source": [
    "def update_list(m):\n",
    "    m+= ['new el']\n",
    "    # return # None\n",
    "\n",
    "a_list = [1,2]\n",
    "update_list (a_list)\n",
    "print(a_list) "
   ]
  },
  {
   "cell_type": "markdown",
   "metadata": {},
   "source": [
    "## <font color = green> Read file </font>"
   ]
  },
  {
   "cell_type": "markdown",
   "metadata": {},
   "source": [
    "<font color = green> \n",
    "    \n",
    "### Read text file\n",
    "</font>"
   ]
  },
  {
   "cell_type": "code",
   "execution_count": 13,
   "metadata": {},
   "outputs": [
    {
     "name": "stdout",
     "output_type": "stream",
     "text": [
      "/Users/oleksiy.tsebriy/local/camps/camp_2023/git/camp_2023/lesson_2_python_and_numpy\n",
      "Reading the regular text file\n",
      "It is easy :)\n",
      "Have a nice day!\n",
      "\n",
      "Display all chars: \n",
      "'Reading the regular text file\\nIt is easy :)\\nHave a nice day!'\n",
      "\n",
      "Read lines : \n",
      "'Reading the regular text file\\nIt is easy :)\\nHave a nice day!'\n",
      "\n",
      "'reading the regular text file\\n'\n",
      "'it is easy :)\\n'\n",
      "'have a nice day!'\n"
     ]
    }
   ],
   "source": [
    "import os\n",
    "cwd= os.getcwd() # current working directory\n",
    "print (cwd)\n",
    "# raise SystemExit('holdon')\n",
    "# file_name= os.path.join(cwd,'studies/otsebriy/data_science_camp/data/lesson_2.txt')\n",
    "file_name= os.path.join(cwd,'temp/lesson_2.txt')\n",
    "\n",
    "# full_path = os.path.realpath(__file__) # does not work in Jupyter\n",
    "# abs_path = os.path.dirname(os.path.abspath(__file__)) # does not work in Jupyter\n",
    "\n",
    "with open(file_name,'r') as f:\n",
    "    content = f.read()\n",
    "\n",
    "print (content)\n",
    "print ('\\nDisplay all chars: \\n{}'.format(repr(content)))\n",
    "\n",
    "print ('\\nRead lines : \\n{}\\n'.format(repr(content)))\n",
    "with open(file_name,'r') as f:\n",
    "    for line in f.readlines():\n",
    "        print (repr(line.lower()))\n"
   ]
  },
  {
   "cell_type": "markdown",
   "metadata": {},
   "source": [
    "<font color = green> \n",
    "    \n",
    "### Read zip file\n",
    "</font>"
   ]
  },
  {
   "cell_type": "code",
   "execution_count": 14,
   "metadata": {},
   "outputs": [
    {
     "name": "stdout",
     "output_type": "stream",
     "text": [
      "b\"Oct 12 2009 \\tNice trendy hotel location not too bad.\\tI stayed in this hotel for one night. As this is a fairly new place some of the taxi drivers did not know where it was and/or did not want to drive there. Once I have eventually arrived at the hotel, I was very pleasantly surprised with the decor of the lobby/ground floor area. It was very stylish and modern. I found the reception's staff geeting me with 'Aloha' a bit out of place, but I guess they are briefed to say that to keep up the coroporate image.As I have a Starwood Preferred Guest member, I was given a small gift upon-check in. It was only a couple of fridge magnets in a gift box, but nevertheless a nice gesture.My room was nice and roomy, there are tea and coffee facilities in each room and you get two complimentary bottles of water plus some toiletries by 'bliss'.The location is not great. It is at the last metro stop and you then need to take a taxi, but if you are not planning on going to see the historic sites in Beijing, then you will be ok.I chose to have some breakfast in the hotel, which was really tasty and there was a good selection of dishes. There are a couple of computers to use in the communal area, as well as a pool table. There is also a small swimming pool and a gym area.I would definitely stay in this hotel again, but only if I did not plan to travel to central Beijing, as it can take a long time. The location is ok if you plan to do a lot of shopping, as there is a big shopping centre just few minutes away from the hotel and there are plenty of eating options around, including restaurants that serve a dog meat!\\t\\r\\n\"\n"
     ]
    }
   ],
   "source": [
    "import gzip\n",
    "import os\n",
    " \n",
    "cwd= os.getcwd() # current working directory\n",
    "path = os.path.join(cwd,'temp/')\n",
    "file_name=  os.path.join(path , 'reviews_data.txt.gz')\n",
    "\n",
    "with gzip.open (file_name, 'rb') as f:\n",
    "    for i, line in enumerate(f):\n",
    "        print(line)\n",
    "        break"
   ]
  },
  {
   "cell_type": "markdown",
   "metadata": {},
   "source": [
    "<font color = green> \n",
    "    \n",
    "### Read pdf file \n",
    "</font>"
   ]
  },
  {
   "cell_type": "code",
   "execution_count": 15,
   "metadata": {},
   "outputs": [
    {
     "name": "stdout",
     "output_type": "stream",
     "text": [
      "len(all_pages)=512\n"
     ]
    }
   ],
   "source": [
    "import pdfreader\n",
    "from pdfreader import PDFDocument, SimplePDFViewer\n",
    "# fd = open(file_name, \"rb\")\n",
    "\n",
    "\n",
    "file_name = os.path.join(path , 'python_tutorial.pdf')\n",
    "file = open(file_name, 'rb')\n",
    "\n",
    "doc = PDFDocument(file)\n",
    "all_pages = [p for p in doc.pages()]\n",
    "print (f'len(all_pages)={len(all_pages)}')"
   ]
  },
  {
   "cell_type": "markdown",
   "metadata": {},
   "source": [
    "<font color = green> \n",
    "    \n",
    "### Read csv file \n",
    "</font>"
   ]
  },
  {
   "cell_type": "code",
   "execution_count": 16,
   "metadata": {},
   "outputs": [
    {
     "name": "stdout",
     "output_type": "stream",
     "text": [
      "{'1000': '1001', 'Apple': 'Apricot', '4': '5', '133': '175'}\n",
      "{'1000': '1002', 'Apple': 'Avocado', '4': '5', '133': '182'}\n",
      "{'1000': '1003', 'Apple': 'Banana', '4': '5', '133': '187'}\n",
      "{'1000': '1004', 'Apple': 'Bilberry', '4': '5', '133': '160'}\n",
      "{'1000': '1005', 'Apple': 'Blackberry', '4': '4', '133': '178'}\n"
     ]
    },
    {
     "data": {
      "text/plain": [
       "dict_keys(['1000', 'Apple', '4', '133'])"
      ]
     },
     "execution_count": 16,
     "metadata": {},
     "output_type": "execute_result"
    }
   ],
   "source": [
    "import csv\n",
    "file_name = file_name=  os.path.join(path , 'fruits.csv') \n",
    "input_file = csv.DictReader(open(file_name ))\n",
    "lines = list(input_file)[:5]\n",
    "for line in lines:\n",
    "    print (line)\n",
    "\n",
    "lines[0].keys()"
   ]
  },
  {
   "cell_type": "code",
   "execution_count": 17,
   "metadata": {},
   "outputs": [
    {
     "name": "stdout",
     "output_type": "stream",
     "text": [
      "Help on class DictReader in module csv:\n",
      "\n",
      "class DictReader(builtins.object)\n",
      " |  DictReader(f, fieldnames=None, restkey=None, restval=None, dialect='excel', *args, **kwds)\n",
      " |  \n",
      " |  Methods defined here:\n",
      " |  \n",
      " |  __init__(self, f, fieldnames=None, restkey=None, restval=None, dialect='excel', *args, **kwds)\n",
      " |      Initialize self.  See help(type(self)) for accurate signature.\n",
      " |  \n",
      " |  __iter__(self)\n",
      " |  \n",
      " |  __next__(self)\n",
      " |  \n",
      " |  ----------------------------------------------------------------------\n",
      " |  Data descriptors defined here:\n",
      " |  \n",
      " |  __dict__\n",
      " |      dictionary for instance variables (if defined)\n",
      " |  \n",
      " |  __weakref__\n",
      " |      list of weak references to the object (if defined)\n",
      " |  \n",
      " |  fieldnames\n",
      "\n"
     ]
    }
   ],
   "source": [
    "help(csv.DictReader)"
   ]
  },
  {
   "cell_type": "markdown",
   "metadata": {},
   "source": [
    "***\n",
    "## <font color = green> Write file </font>"
   ]
  },
  {
   "cell_type": "markdown",
   "metadata": {},
   "source": [
    "<font color = green> \n",
    "    \n",
    "### Write text file\n",
    "</font>"
   ]
  },
  {
   "cell_type": "code",
   "execution_count": 19,
   "metadata": {},
   "outputs": [],
   "source": [
    "file_name=  os.path.join(cwd,'temp/lesson_2_temp.txt')\n",
    "with open(file_name, 'a', encoding='utf-8') as f:\n",
    "    from time import gmtime, strftime\n",
    "    f.write('{}: {}'.format(strftime(\"%Y-%m-%d %H:%M:%S\", gmtime()), 'New log message'))\n",
    "\n",
    "import io  \n",
    "with io.open(file_name, 'a', encoding='utf-8') as f:\n",
    "    f.write('\\nWrite some specific chars')"
   ]
  },
  {
   "cell_type": "markdown",
   "metadata": {},
   "source": [
    "<font color = green> \n",
    "    \n",
    "### Write to xslx\n",
    "</font>"
   ]
  },
  {
   "cell_type": "code",
   "execution_count": 20,
   "metadata": {},
   "outputs": [],
   "source": [
    "import xlsxwriter\n",
    "file_name= os.path.join(path , 'output_custom.xlsx') \n",
    "\n",
    "# Create an new Excel file and add a worksheet.\n",
    "workbook = xlsxwriter.Workbook(file_name)\n",
    "worksheet = workbook.add_worksheet()\n",
    "\n",
    "# Widen the first column to make the text clearer.\n",
    "worksheet.set_column('A:A', 20)\n",
    "\n",
    "# Add a bold format to use to highlight cells.\n",
    "bold = workbook.add_format({'bold': True})\n",
    "\n",
    "# Write some simple text.\n",
    "worksheet.write('A1', 'Hello')\n",
    "\n",
    "# Text with formatting.\n",
    "worksheet.write('A2', 'World', bold)\n",
    "\n",
    "# Write some numbers, with row/column notation.\n",
    "worksheet.write(2, 0, 123)\n",
    "worksheet.write(3, 0, 123.456)\n",
    "workbook.close()\n"
   ]
  },
  {
   "cell_type": "markdown",
   "metadata": {},
   "source": [
    "***\n",
    "<font color = green> \n",
    "    \n",
    "### Pickle\n",
    "</font>"
   ]
  },
  {
   "cell_type": "code",
   "execution_count": 22,
   "metadata": {},
   "outputs": [
    {
     "data": {
      "text/plain": [
       "([1, 2, 3], 'hello', 'pickle')"
      ]
     },
     "execution_count": 22,
     "metadata": {},
     "output_type": "execute_result"
    }
   ],
   "source": [
    "import pickle\n",
    "\n",
    "artifacts= ([1,2,3], 'hello', 'pickle')\n",
    "file_name =os.path.join(path , 'artifact.pickle') \n",
    "with open( file_name , \"wb\") as f:\n",
    "    pickle.dump(artifacts, f, pickle.HIGHEST_PROTOCOL)\n",
    "\n",
    "with open(file_name, 'rb') as f:\n",
    "    artifacts_loaded = pickle.load(f)\n",
    "artifacts_loaded\n"
   ]
  },
  {
   "cell_type": "markdown",
   "metadata": {},
   "source": [
    "***\n",
    "<font color = green> \n",
    "    \n",
    "## if-else expression\n",
    "</font>"
   ]
  },
  {
   "cell_type": "code",
   "execution_count": 23,
   "metadata": {},
   "outputs": [
    {
     "data": {
      "text/plain": [
       "5"
      ]
     },
     "execution_count": 23,
     "metadata": {},
     "output_type": "execute_result"
    }
   ],
   "source": [
    "a= None\n",
    "a= 5 if not a else a\n",
    "a"
   ]
  },
  {
   "cell_type": "markdown",
   "metadata": {},
   "source": [
    "***\n",
    "<font color = green> \n",
    "    \n",
    "## Zip\n",
    "</font>"
   ]
  },
  {
   "cell_type": "code",
   "execution_count": 24,
   "metadata": {},
   "outputs": [
    {
     "name": "stdout",
     "output_type": "stream",
     "text": [
      "zipped: <zip object at 0x7fa5c621fe40>\n",
      "Iterate on zipped object ((1, 'a'), (2, 'b'), (3, 'c'), (4, 'd'))\n",
      "zipped_narrow:  [(1, 'm'), (2, 'n')]\n",
      "unzipped: [(1, 2), ('m', 'n')]\n"
     ]
    }
   ],
   "source": [
    "a= [1,2,3,4]\n",
    "b = ['a','b','c','d']\n",
    "zipped=  zip (a,b)\n",
    "print('zipped:',zipped) \n",
    "print('Iterate on zipped object', tuple(zipped))\n",
    "\n",
    "c= ['m', 'n']\n",
    "zipped_narrow=  list(zip (a,c))\n",
    "print('zipped_narrow: ', zipped_narrow)\n",
    "\n",
    "unzipped = list(zip (* zipped_narrow))\n",
    "print ('unzipped:', unzipped) "
   ]
  },
  {
   "cell_type": "markdown",
   "metadata": {},
   "source": [
    "***\n",
    "## <font color = green> Comprehensions </font>"
   ]
  },
  {
   "cell_type": "markdown",
   "metadata": {},
   "source": [
    "<font color = green> \n",
    "    \n",
    "### List comprehension\n",
    "</font>"
   ]
  },
  {
   "cell_type": "code",
   "execution_count": 25,
   "metadata": {},
   "outputs": [
    {
     "name": "stdout",
     "output_type": "stream",
     "text": [
      "['H', 'E', 'L', 'L', 'O', ' ', 'C', 'O', 'M', 'P', 'R', 'E', 'H', 'E', 'N', 'S', 'I', 'O', 'N']\n",
      "H_E_L_L_O_ _C_O_M_P_R_E_H_E_N_S_I_O_N\n"
     ]
    }
   ],
   "source": [
    "upper_list = [item.upper() for item in 'hello comprehension']\n",
    "print(upper_list)\n",
    "print ('_'.join(upper_list))"
   ]
  },
  {
   "cell_type": "markdown",
   "metadata": {},
   "source": [
    "<font color = green> \n",
    "    \n",
    "### Dictionary comprehension\n",
    "</font>"
   ]
  },
  {
   "cell_type": "code",
   "execution_count": 26,
   "metadata": {},
   "outputs": [
    {
     "data": {
      "text/plain": [
       "[(0, 'a'), (1, 'b'), (2, 'c')]"
      ]
     },
     "execution_count": 26,
     "metadata": {},
     "output_type": "execute_result"
    }
   ],
   "source": [
    "list(enumerate([\"a\", \"b\", \"c\"]))"
   ]
  },
  {
   "cell_type": "code",
   "execution_count": 27,
   "metadata": {},
   "outputs": [
    {
     "name": "stdout",
     "output_type": "stream",
     "text": [
      "{0: 'hello', 1: 'dict', 2: 'comprehension'}\n"
     ]
    }
   ],
   "source": [
    "i_dict = {i: v  for i, v in enumerate (['hello','dict', 'comprehension'])}\n",
    "print (i_dict)   "
   ]
  },
  {
   "cell_type": "markdown",
   "metadata": {},
   "source": [
    "<font color = green> \n",
    "    \n",
    "### Multi loops in list comprehension\n",
    "</font>"
   ]
  },
  {
   "cell_type": "code",
   "execution_count": 28,
   "metadata": {},
   "outputs": [
    {
     "name": "stdout",
     "output_type": "stream",
     "text": [
      "['a0', 'a1', 'a2', 'a3', 'b0', 'b1', 'b2', 'b3', 'c0', 'c1', 'c2', 'c3']\n",
      "['a0', 'a1', 'a2', 'a3', 'b0', 'b1', 'b2', 'b3', 'c0', 'c1', 'c2', 'c3']\n"
     ]
    }
   ],
   "source": [
    "print (['{}{}'.format(item,i) for item in ['a','b','c']  for i in range(4)])\n",
    "\n",
    "container_list= []\n",
    "for item in ['a','b','c'] :\n",
    "    for i in range(4):\n",
    "        container_list.append('{}{}'.format(item,i))\n",
    "print (container_list)    \n"
   ]
  },
  {
   "cell_type": "markdown",
   "metadata": {},
   "source": [
    "<font color = green> \n",
    "    \n",
    "### Two variables in loop in list comprehension\n",
    "</font>"
   ]
  },
  {
   "cell_type": "code",
   "execution_count": 29,
   "metadata": {},
   "outputs": [
    {
     "name": "stdout",
     "output_type": "stream",
     "text": [
      "['a3', 'b4', 'c5']\n",
      "{0: 'a', 1: 'b', 2: 'c'}\n"
     ]
    }
   ],
   "source": [
    "print (['{}{}'.format(item,i) for item, i in zip(['a','b','c'] , list(range(3,6)))])\n",
    "print ({i: v for i, v in enumerate(['a','b','c'])})"
   ]
  },
  {
   "cell_type": "markdown",
   "metadata": {},
   "source": [
    "<font color = green> \n",
    "    \n",
    "### if-else in comprehensions\n",
    "</font>"
   ]
  },
  {
   "cell_type": "code",
   "execution_count": 30,
   "metadata": {},
   "outputs": [
    {
     "data": {
      "text/plain": [
       "['Ternopil']"
      ]
     },
     "execution_count": 30,
     "metadata": {},
     "output_type": "execute_result"
    }
   ],
   "source": [
    "[item for item in ['Ternopil', 'KYIV', 'car', 1] if str(item).istitle()]"
   ]
  },
  {
   "cell_type": "code",
   "execution_count": 31,
   "metadata": {},
   "outputs": [
    {
     "name": "stdout",
     "output_type": "stream",
     "text": [
      "['even: 0', 'odd: 1', 'even: 2', 'odd: 3', 'even: 4', 'odd: 5', 'even: 6', 'odd: 7', 'even: 8', 'odd: 9', 'even: 10', 'odd: 11', 'even: 12', 'odd: 13', 'even: 14']\n"
     ]
    }
   ],
   "source": [
    "print (['even: {}'.format(i) if i%2 ==0 else 'odd: {}'.format(i) for i in range(15) ]) "
   ]
  },
  {
   "cell_type": "markdown",
   "metadata": {},
   "source": [
    "***\n",
    "<font color = green> \n",
    "    \n",
    "## Exponentiation operator\n",
    "</font>\n",
    "\n",
    "exponentiation operator  `**` is exception which runs from right to left "
   ]
  },
  {
   "cell_type": "code",
   "execution_count": 32,
   "metadata": {},
   "outputs": [
    {
     "data": {
      "text/plain": [
       "(512, 64, 512)"
      ]
     },
     "execution_count": 32,
     "metadata": {},
     "output_type": "execute_result"
    }
   ],
   "source": [
    "# 2 ** 3 ** 2  = 2 ** (3 ** 2 )\n",
    "2 ** 3 ** 2 , (2 ** 3) ** 2 , 2 ** (3 ** 2 )"
   ]
  },
  {
   "cell_type": "markdown",
   "metadata": {},
   "source": [
    "### Bitwise operators"
   ]
  },
  {
   "cell_type": "code",
   "execution_count": 33,
   "metadata": {},
   "outputs": [
    {
     "data": {
      "text/plain": [
       "('0b10100', '0b111')"
      ]
     },
     "execution_count": 33,
     "metadata": {},
     "output_type": "execute_result"
    }
   ],
   "source": [
    "a, b = 20, 7\n",
    "bin(a), bin(b)"
   ]
  },
  {
   "cell_type": "markdown",
   "metadata": {},
   "source": [
    "#### Bitwise `Or`\n",
    "```\n",
    "10100\n",
    "  111\n",
    "  111\n",
    "-----\n",
    "10111\n",
    "```"
   ]
  },
  {
   "cell_type": "code",
   "execution_count": 34,
   "metadata": {},
   "outputs": [
    {
     "data": {
      "text/plain": [
       "(23, '0b10111')"
      ]
     },
     "execution_count": 34,
     "metadata": {},
     "output_type": "execute_result"
    }
   ],
   "source": [
    "a|b, bin(a|b)"
   ]
  },
  {
   "cell_type": "markdown",
   "metadata": {},
   "source": [
    "#### Bitwise `and`"
   ]
  },
  {
   "cell_type": "code",
   "execution_count": 35,
   "metadata": {},
   "outputs": [],
   "source": [
    "if not True:\n",
    "    print(\"True!\")"
   ]
  },
  {
   "cell_type": "code",
   "execution_count": 36,
   "metadata": {},
   "outputs": [
    {
     "data": {
      "text/plain": [
       "(4, '0b100')"
      ]
     },
     "execution_count": 36,
     "metadata": {},
     "output_type": "execute_result"
    }
   ],
   "source": [
    "a&b, bin(a&b)"
   ]
  },
  {
   "cell_type": "markdown",
   "metadata": {},
   "source": [
    "#### Bitwise exclusive `or`"
   ]
  },
  {
   "cell_type": "code",
   "execution_count": 37,
   "metadata": {},
   "outputs": [
    {
     "data": {
      "text/plain": [
       "(19, '0b10011')"
      ]
     },
     "execution_count": 37,
     "metadata": {},
     "output_type": "execute_result"
    }
   ],
   "source": [
    "a^b, bin(a^b)"
   ]
  },
  {
   "cell_type": "markdown",
   "metadata": {},
   "source": [
    "####  Bitwise left shift"
   ]
  },
  {
   "cell_type": "code",
   "execution_count": 38,
   "metadata": {},
   "outputs": [
    {
     "data": {
      "text/plain": [
       "(40, '0b10100', '0b101000', 80, '0b1010000')"
      ]
     },
     "execution_count": 38,
     "metadata": {},
     "output_type": "execute_result"
    }
   ],
   "source": [
    "a<<1, bin(a), bin(a<<1), a<<2, bin(a<<2)"
   ]
  },
  {
   "cell_type": "markdown",
   "metadata": {},
   "source": [
    "#### Bitwise right shift"
   ]
  },
  {
   "cell_type": "code",
   "execution_count": 39,
   "metadata": {},
   "outputs": [
    {
     "data": {
      "text/plain": [
       "(10, '0b10100', '0b1010', 5, '0b101')"
      ]
     },
     "execution_count": 39,
     "metadata": {},
     "output_type": "execute_result"
    }
   ],
   "source": [
    "a>>1, bin(a), bin(a>>1), a>>2, bin(a>>2)"
   ]
  },
  {
   "cell_type": "markdown",
   "metadata": {},
   "source": [
    "#### Bitwise `not` \n",
    "\n",
    "e.g. \n",
    "```\n",
    " 3 = 011\n",
    "~3 = 100\n",
    "b100= -4 (in 2's complement form due to a signed binary number) \n",
    "-4 = -(4)= -b100\n",
    "\n",
    "2’s compliment 3 bit numbers:\n",
    "\n",
    "000 = 0\n",
    "001 = 1\n",
    "010 = 2\n",
    "011 = 3\n",
    "\n",
    "100 = -4\n",
    "101 = -3\n",
    "110 = -2\n",
    "111 = -1\n",
    "```"
   ]
  },
  {
   "cell_type": "code",
   "execution_count": 40,
   "metadata": {},
   "outputs": [
    {
     "data": {
      "text/plain": [
       "(-4, '-0b100')"
      ]
     },
     "execution_count": 40,
     "metadata": {},
     "output_type": "execute_result"
    }
   ],
   "source": [
    "~3 , bin(~3)"
   ]
  },
  {
   "cell_type": "code",
   "execution_count": 41,
   "metadata": {},
   "outputs": [
    {
     "data": {
      "text/plain": [
       "(-6, '-0b110', 5)"
      ]
     },
     "execution_count": 41,
     "metadata": {},
     "output_type": "execute_result"
    }
   ],
   "source": [
    "~5, bin(-6), ~(-6)\n",
    "# -6 = 0110 in 2's complement form => 1001 =5"
   ]
  },
  {
   "cell_type": "markdown",
   "metadata": {},
   "source": [
    "## platform "
   ]
  },
  {
   "cell_type": "code",
   "execution_count": 42,
   "metadata": {},
   "outputs": [
    {
     "data": {
      "text/plain": [
       "'macOS-10.16-x86_64-i386-64bit'"
      ]
     },
     "execution_count": 42,
     "metadata": {},
     "output_type": "execute_result"
    }
   ],
   "source": [
    "from platform import platform \n",
    "platform()"
   ]
  },
  {
   "cell_type": "code",
   "execution_count": 43,
   "metadata": {},
   "outputs": [
    {
     "data": {
      "text/plain": [
       "'x86_64'"
      ]
     },
     "execution_count": 43,
     "metadata": {},
     "output_type": "execute_result"
    }
   ],
   "source": [
    "from platform import machine\n",
    "machine()"
   ]
  },
  {
   "cell_type": "code",
   "execution_count": 44,
   "metadata": {},
   "outputs": [
    {
     "data": {
      "text/plain": [
       "'i386'"
      ]
     },
     "execution_count": 44,
     "metadata": {},
     "output_type": "execute_result"
    }
   ],
   "source": [
    "from platform import processor \n",
    "# returns a string filled with the real processor name (if possible)\n",
    "processor ()"
   ]
  },
  {
   "cell_type": "code",
   "execution_count": 45,
   "metadata": {},
   "outputs": [
    {
     "data": {
      "text/plain": [
       "'Darwin'"
      ]
     },
     "execution_count": 45,
     "metadata": {},
     "output_type": "execute_result"
    }
   ],
   "source": [
    "from platform import system\n",
    "# returns the generic OS name as a string\n",
    "system()"
   ]
  },
  {
   "cell_type": "code",
   "execution_count": 46,
   "metadata": {},
   "outputs": [
    {
     "data": {
      "text/plain": [
       "'Darwin Kernel Version 22.5.0: Mon Apr 24 20:51:50 PDT 2023; root:xnu-8796.121.2~5/RELEASE_X86_64'"
      ]
     },
     "execution_count": 46,
     "metadata": {},
     "output_type": "execute_result"
    }
   ],
   "source": [
    "from platform import version\n",
    "# The OS version is provided as a string \n",
    "version()"
   ]
  },
  {
   "cell_type": "code",
   "execution_count": 47,
   "metadata": {},
   "outputs": [
    {
     "data": {
      "text/plain": [
       "('3', '9', '13')"
      ]
     },
     "execution_count": 47,
     "metadata": {},
     "output_type": "execute_result"
    }
   ],
   "source": [
    "from platform import python_version_tuple\n",
    "python_version_tuple()"
   ]
  },
  {
   "cell_type": "code",
   "execution_count": 48,
   "metadata": {},
   "outputs": [
    {
     "data": {
      "text/plain": [
       "'3.9.13'"
      ]
     },
     "execution_count": 48,
     "metadata": {},
     "output_type": "execute_result"
    }
   ],
   "source": [
    "from platform import python_version\n",
    "python_version()"
   ]
  },
  {
   "cell_type": "markdown",
   "metadata": {},
   "source": [
    "# Classes"
   ]
  },
  {
   "cell_type": "markdown",
   "metadata": {},
   "source": [
    "The Python Class\n",
    "\n",
    "Almost everything in Python is an object. And naturally, every object comes with its own features, properties, and functions.\n",
    "\n",
    "We can think of a class as a “blueprint” for creating objects. Specifically, our very own custom-designed blueprint for an object. And since we’re the ones customizing it, we can give it whatever features, properties, and functions we want!\n",
    "Let’s start with a simple example. We’re going to create a class that has the property “x” where x=10. Here’s our class definition:\n"
   ]
  },
  {
   "cell_type": "code",
   "execution_count": 49,
   "metadata": {},
   "outputs": [
    {
     "name": "stdout",
     "output_type": "stream",
     "text": [
      "10\n"
     ]
    }
   ],
   "source": [
    "class my_class:\n",
    "    pass\n",
    "\n",
    "class my_class:\n",
    "    x = 10\n",
    "    \n",
    "a = my_class()\n",
    "\n",
    "print(a.x)"
   ]
  },
  {
   "cell_type": "markdown",
   "metadata": {},
   "source": [
    "That’s it! We’ve created our first Python class called my_class and that class has a property called x with a value of 10. To actually use our class we “call” our function and can then access any properties of the class individually."
   ]
  },
  {
   "cell_type": "code",
   "execution_count": 50,
   "metadata": {},
   "outputs": [
    {
     "name": "stdout",
     "output_type": "stream",
     "text": [
      "10\n"
     ]
    }
   ],
   "source": [
    "class my_class:\n",
    "    x = 10\n",
    "\n",
    "c_1 = my_class()\n",
    "print(c_1.x)"
   ]
  },
  {
   "cell_type": "markdown",
   "metadata": {},
   "source": [
    "The code above prints out the number 10. Easy!\n",
    "\n",
    "We can also modify that variable, simply by assigning it to a new value. Instead of having x be equal to 10, let’s make it equal to the string “Bob”."
   ]
  },
  {
   "cell_type": "code",
   "execution_count": 51,
   "metadata": {},
   "outputs": [
    {
     "name": "stdout",
     "output_type": "stream",
     "text": [
      "Bob\n"
     ]
    }
   ],
   "source": [
    "class my_class:\n",
    "    x = 10\n",
    "\n",
    "c_1 = my_class()\n",
    "c_1.x = \"Bob\"\n",
    "print(c_1.x)"
   ]
  },
  {
   "cell_type": "markdown",
   "metadata": {},
   "source": [
    "### The `__init__()` Function\n",
    "All classes have a function which we can modify at any time called __init__(). The __init__() function is always executed when an object is created from this class and can be used to initialize some class variables. So, __init__() becomes very useful when we want our Python class to always start out with certain properties.\n",
    "Let’s take the code below as an example.\n"
   ]
  },
  {
   "cell_type": "code",
   "execution_count": 52,
   "metadata": {},
   "outputs": [
    {
     "name": "stdout",
     "output_type": "stream",
     "text": [
      "Bob\n",
      "Male\n",
      "USA\n",
      "\n",
      "\n",
      "\n",
      "\n",
      "Kate\n",
      "Female\n",
      "USA\n"
     ]
    }
   ],
   "source": [
    "class Person:\n",
    "    def __init__(self, name, gender):\n",
    "        self.name = name\n",
    "        self.gender = gender\n",
    "        self.country = \"USA\"\n",
    "\n",
    "person_1 = Person(\"Bob\", \"Male\")\n",
    "person_2 = Person(\"Kate\", \"Female\")\n",
    "\n",
    "print(person_1.name)\n",
    "print(person_1.gender)\n",
    "print(person_1.country)\n",
    "\n",
    "print(\"\\n\"*3)\n",
    "\n",
    "print(person_2.name)\n",
    "print(person_2.gender)\n",
    "print(person_2.country)"
   ]
  },
  {
   "cell_type": "markdown",
   "metadata": {},
   "source": [
    "In the code above, we created 2 people with the “Person” class named Bob and Kate. In both cases, __init__() was executed, initializing class variables for the name, gender, and country of the person.\n",
    "\n",
    "For name and gender, we passed our own variables to the class which were taken in by the __init__(). In the case of the “country” variable, it was initialized on the creation of the object, also within __init__(). The only difference is that because it’s not a function variable of __init__(), it can’t be assigned from the outside — i.e all persons will have the country “USA”!"
   ]
  },
  {
   "cell_type": "markdown",
   "metadata": {},
   "source": [
    "### Class vs instance variables\n",
    "Class variables are declared inside a class but outside of any function. Instance variables are declared inside the constructor which is the __init__ method.\n",
    "\n",
    "The class variables are more general and likely to apply all of the instances of a class. On the other hand, instance variables are more specific and defined for each instance separately. Having a distinction between class and instance variables is quite useful."
   ]
  },
  {
   "cell_type": "code",
   "execution_count": null,
   "metadata": {},
   "outputs": [
    {
     "name": "stdout",
     "output_type": "stream",
     "text": [
      "Bob\n",
      "Male\n",
      "USA\n",
      "green\n"
     ]
    }
   ],
   "source": [
    "class Person:\n",
    "    \n",
    "    eyes_color = 'green'\n",
    "    \n",
    "    def __init__(self, name, gender, age):\n",
    "        self.name = name\n",
    "        self.gender = gender\n",
    "        self.age = age\n",
    "        self.country = \"USA\"\n",
    "        \n",
    "person_1 = Person(\"Bob\", \"Male\", 30)\n",
    "\n",
    "print(person_1.name)\n",
    "print(person_1.gender)\n",
    "print(person_1.country)\n",
    "print(person_1.eyes_color)"
   ]
  },
  {
   "cell_type": "markdown",
   "metadata": {},
   "source": [
    "### Class Functions\n",
    "Just like any object, Python classes can contain functions! The functions act and perform in the exact same way as those that would be outside of the class. The only real difference is that class functions are able to access class variables directly without having to take them on as arguments."
   ]
  },
  {
   "cell_type": "code",
   "execution_count": null,
   "metadata": {},
   "outputs": [
    {
     "name": "stdout",
     "output_type": "stream",
     "text": [
      "Name: Bob\n",
      "Gender: Male\n",
      "Age: 30\n",
      "Eyes_color: green\n",
      "Country: USA\n",
      "\n",
      "\n",
      "\n",
      "Name: Bob\n",
      "Gender: Male\n",
      "Age: 30\n",
      "Eyes_color: green\n",
      "Country: USA\n",
      "\n",
      "\n",
      "\n",
      "Name: Bob\n",
      "Gender: Male\n",
      "Age: 40\n",
      "Eyes_color: green\n",
      "Country: USA\n"
     ]
    }
   ],
   "source": [
    "class Person:\n",
    "    \n",
    "    eyes_color = 'green'\n",
    "    \n",
    "    def __init__(self, name, gender, age):\n",
    "        self.name = name\n",
    "        self.gender = gender\n",
    "        self.age = age\n",
    "        self.country = \"USA\"\n",
    "    \n",
    "    def print_info(self):\n",
    "        print(\"Name: {}\".format(self.name))\n",
    "        print(\"Gender: {}\".format(self.gender))\n",
    "        print(\"Age: {}\".format(self.age))\n",
    "        print(\"Eyes_color: {}\".format(self.eyes_color))\n",
    "        print(\"Country: {}\".format(self.country))\n",
    "    \n",
    "    def grow_person(self, years_of_growth):\n",
    "        self.age = self.age + years_of_growth\n",
    "    \n",
    "    \n",
    "def grow_person(current_age, years_of_growth):\n",
    "    return current_age + years_of_growth\n",
    "\n",
    "\n",
    "# Initialise the person\n",
    "person_1 = Person(\"Bob\", \"Male\", 30)\n",
    "\n",
    "# Print all information about Bob by grabbing each variable\n",
    "print(\"Name: {}\".format(person_1.name))\n",
    "print(\"Gender: {}\".format(person_1.gender))\n",
    "print(\"Age: {}\".format(person_1.age))\n",
    "print(\"Eyes_color: {}\".format(person_1.eyes_color))\n",
    "print(\"Country: {}\".format(person_1.country))\n",
    "print('\\n\\n')\n",
    "# Print all information about Bob using the class function\n",
    "person_1.print_info()\n",
    "\n",
    "# Use the external function\n",
    "person_1.age = grow_person(person_1.age, years_of_growth=5)\n",
    "\n",
    "# Use the class function\n",
    "person_1.grow_person(years_of_growth=5)\n",
    "\n",
    "print('\\n\\n')\n",
    "\n",
    "person_1.print_info()"
   ]
  },
  {
   "cell_type": "markdown",
   "metadata": {},
   "source": [
    "The first-class function is at line 9 called print_info() which prints all available information about our Person object. Notice how since we are using class variables with self, we’re able to access Bob’s information from anywhere in the class! This makes it super convenient to apply functions on your Python objects since you have all the data directly available.\n",
    "\n",
    "On the other hand, notice how much extra code we need to print out Bob’s information using Python print() externally. It’s also much more organized and clean to have functions which are specifically designed for a particular class-type to be defined within that class.\n",
    "\n",
    "The second function we wrote is called grow_person() which increases the age of the person by a user-specified number of years. Naturally, it makes more sense to have this as a class function since it’s mainly related to our Person class. The code also ends up looking a lot more human-readable and clean!"
   ]
  },
  {
   "cell_type": "markdown",
   "metadata": {},
   "source": [
    "### Creating a child class\n",
    "We can create a class based on a different class. Let’s create a class called “Worker” based on the “Person” class."
   ]
  },
  {
   "cell_type": "code",
   "execution_count": null,
   "metadata": {},
   "outputs": [
    {
     "name": "stdout",
     "output_type": "stream",
     "text": [
      "Name: Bob\n",
      "Gender: Male\n",
      "Age: 30\n",
      "Eyes_color: green\n",
      "Country: USA\n"
     ]
    }
   ],
   "source": [
    "class Worker(Person):\n",
    "    def __init__(self, name, gender, age, position):\n",
    "        Person.__init__(self, name, gender, age)\n",
    "        self.position = position\n",
    "        \n",
    "w_1 = Worker(\"Bob\", \"Male\", 30, \"Driver\")\n",
    "\n",
    "w_1.print_info()"
   ]
  },
  {
   "cell_type": "markdown",
   "metadata": {},
   "source": [
    "### Redifining functions  \n",
    "Ok, looks good. But why we don't see our new variable 'Position' after calling a print_info() function? That's because this variable doesn't exists in our parent class and we can't print it using parent class method. To fix that we can redefine this method in our child class."
   ]
  },
  {
   "cell_type": "code",
   "execution_count": null,
   "metadata": {},
   "outputs": [
    {
     "name": "stdout",
     "output_type": "stream",
     "text": [
      "Name: Bob\n",
      "Gender: Male\n",
      "Age: 30\n",
      "Eyes_color: green\n",
      "Country: USA\n",
      "Position: Driver\n"
     ]
    }
   ],
   "source": [
    "class Worker(Person):\n",
    "    def __init__(self, name, gender, age, position):\n",
    "        Person.__init__(self, name, gender, age)\n",
    "        self.position = position\n",
    "        \n",
    "    def print_info(self):\n",
    "        print(\"Name: {}\".format(self.name))\n",
    "        print(\"Gender: {}\".format(self.gender))\n",
    "        print(\"Age: {}\".format(self.age))\n",
    "        print(\"Eyes_color: {}\".format(self.eyes_color))\n",
    "        print(\"Country: {}\".format(self.country))\n",
    "        print(\"Position: {}\".format(self.position))\n",
    "\n",
    "        \n",
    "w_1 = Worker(\"Bob\", \"Male\", 30, \"Driver\")\n",
    "\n",
    "w_1.print_info()"
   ]
  },
  {
   "cell_type": "markdown",
   "metadata": {},
   "source": [
    "## There are also some very useful modules you can research by yourself:\n",
    "\n",
    "itertools - Functions creating iterators for efficient looping: https://docs.python.org/3/library/itertools.html <br/>\n",
    "functools - Higher-order functions and operations on callable objects: https://docs.python.org/3/library/functools.html <br/>\n",
    "collections - Container datatypes: https://docs.python.org/3/library/collections.html <br/>\n",
    "typing - Support for type hints: https://docs.python.org/3/library/typing.html <br/>\n",
    "glob - Unix style pathname pattern expansion: https://docs.python.org/3/library/glob.html <br/>\n",
    "asyncio - A library to write concurrent code using the async/await syntax: https://docs.python.org/3/library/asyncio.html <br/>\n",
    "abc — Abstract Base Classes: https://docs.python.org/3/library/abc.html"
   ]
  },
  {
   "cell_type": "code",
   "execution_count": null,
   "metadata": {},
   "outputs": [],
   "source": []
  }
 ],
 "metadata": {
  "kernelspec": {
   "display_name": "Python 3 (ipykernel)",
   "language": "python",
   "name": "python3"
  },
  "language_info": {
   "codemirror_mode": {
    "name": "ipython",
    "version": 3
   },
   "file_extension": ".py",
   "mimetype": "text/x-python",
   "name": "python",
   "nbconvert_exporter": "python",
   "pygments_lexer": "ipython3",
   "version": "3.9.13"
  }
 },
 "nbformat": 4,
 "nbformat_minor": 4
}
