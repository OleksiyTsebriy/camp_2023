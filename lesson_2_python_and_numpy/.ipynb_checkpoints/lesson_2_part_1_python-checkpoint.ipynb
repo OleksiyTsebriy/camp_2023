{
 "cells": [
  {
   "cell_type": "markdown",
   "metadata": {},
   "source": [
    "\n",
    "## <font color = green >Python Particularities\n",
    "</font>\n",
    "\n"
   ]
  },
  {
   "cell_type": "markdown",
   "metadata": {},
   "source": [
    "***\n",
    "### <font color = green >Determine the python version at runtime </font >"
   ]
  },
  {
   "cell_type": "code",
   "execution_count": 1,
   "metadata": {},
   "outputs": [
    {
     "data": {
      "text/plain": [
       "'3.9.13'"
      ]
     },
     "execution_count": 1,
     "metadata": {},
     "output_type": "execute_result"
    }
   ],
   "source": [
    "import platform\n",
    "platform.python_version()"
   ]
  },
  {
   "cell_type": "markdown",
   "metadata": {},
   "source": [
    "***\n",
    "### <font color = green >Mutable objects:</font>\n",
    "*list, dict, set, byte array*</font>\n",
    "### <font color = green >Immutable objects:</font>\n",
    "*int, float, complex, string, tuple, frozen set, bytes* </font>\n",
    " "
   ]
  },
  {
   "cell_type": "markdown",
   "metadata": {},
   "source": [
    "#### <font color= green>Immutable sample</font>"
   ]
  },
  {
   "cell_type": "code",
   "execution_count": 2,
   "metadata": {},
   "outputs": [
    {
     "name": "stdout",
     "output_type": "stream",
     "text": [
      "True\n",
      "True\n"
     ]
    }
   ],
   "source": [
    "x = 10\n",
    "y = x\n",
    "print (id(x) == id(y))\n",
    "print(id(y) == id(10))"
   ]
  },
  {
   "cell_type": "markdown",
   "metadata": {},
   "source": [
    "#### <font color= green>modify x</font>"
   ]
  },
  {
   "cell_type": "code",
   "execution_count": 3,
   "metadata": {},
   "outputs": [
    {
     "name": "stdout",
     "output_type": "stream",
     "text": [
      "False\n"
     ]
    }
   ],
   "source": [
    "x+= 1\n",
    "print (id(x) == id(y))"
   ]
  },
  {
   "cell_type": "markdown",
   "metadata": {},
   "source": [
    " ### <font color = green> Mutable sample </font>"
   ]
  },
  {
   "cell_type": "code",
   "execution_count": 4,
   "metadata": {},
   "outputs": [
    {
     "data": {
      "text/plain": [
       "True"
      ]
     },
     "execution_count": 4,
     "metadata": {},
     "output_type": "execute_result"
    }
   ],
   "source": [
    "m = list([1, 2, 3])\n",
    "n = m\n",
    "id(m) == id(n)"
   ]
  },
  {
   "cell_type": "markdown",
   "metadata": {},
   "source": [
    "#### <font color = green>modify m </font>"
   ]
  },
  {
   "cell_type": "code",
   "execution_count": 5,
   "metadata": {},
   "outputs": [
    {
     "data": {
      "text/plain": [
       "True"
      ]
     },
     "execution_count": 5,
     "metadata": {},
     "output_type": "execute_result"
    }
   ],
   "source": [
    "m.append(4)\n",
    "id(m) == id(n)"
   ]
  },
  {
   "cell_type": "markdown",
   "metadata": {},
   "source": [
    "#### <font color = green>  Immutable objects containing mutable parts </font>"
   ]
  },
  {
   "cell_type": "code",
   "execution_count": 6,
   "metadata": {},
   "outputs": [
    {
     "name": "stdout",
     "output_type": "stream",
     "text": [
      "<class 'list'>\n",
      "<class 'tuple'>\n"
     ]
    }
   ],
   "source": [
    "a=[1,2,3]\n",
    "b=(a)\n",
    "print (type(b))\n",
    "b=(a,)\n",
    "print (type(b))"
   ]
  },
  {
   "cell_type": "markdown",
   "metadata": {},
   "source": [
    "#### <font color = green> function parameter gets the same object</font>\n",
    " "
   ]
  },
  {
   "cell_type": "code",
   "execution_count": 7,
   "metadata": {},
   "outputs": [
    {
     "name": "stdout",
     "output_type": "stream",
     "text": [
      "before calling function id= 140305452112304\n",
      "starting function id= 140305452112304\n",
      "ending function id= 140305452112624\n",
      "after calling function value= 5\n"
     ]
    }
   ],
   "source": [
    "def update_number(b):\n",
    "    print('starting function id= {}'.format(id(b)))\n",
    "    b += 10\n",
    "    print('ending function id= {}'.format(id(b)))\n",
    "\n",
    "b = 5\n",
    "print('before calling function id= {}'.format(id(b)))\n",
    "update_number(b)\n",
    "print('after calling function value= {}'.format(b)) "
   ]
  },
  {
   "cell_type": "markdown",
   "metadata": {},
   "source": [
    "#### <font color = green> Changing mutable object in function </font>\n",
    " "
   ]
  },
  {
   "cell_type": "code",
   "execution_count": 8,
   "metadata": {},
   "outputs": [
    {
     "name": "stdout",
     "output_type": "stream",
     "text": [
      "[1, 2, 'new el']\n"
     ]
    }
   ],
   "source": [
    "def update_list(m):\n",
    "    m+= ['new el']\n",
    "    # return # None\n",
    "\n",
    "a_list = [1,2]\n",
    "update_list (a_list)\n",
    "print(a_list) "
   ]
  },
  {
   "cell_type": "markdown",
   "metadata": {},
   "source": [
    "<font color = green> \n",
    "\n",
    "### Read file \n",
    "</font>"
   ]
  },
  {
   "cell_type": "markdown",
   "metadata": {},
   "source": [
    "<font color = green> \n",
    "\n",
    "#### Read text file\n",
    "</font>"
   ]
  },
  {
   "cell_type": "code",
   "execution_count": 10,
   "metadata": {},
   "outputs": [
    {
     "name": "stdout",
     "output_type": "stream",
     "text": [
      "/Users/oleksiy.tsebriy/local/camps/camp_2023/git/camp_2023/lesson_2_python_and_numpy\n",
      "Reading the regular text file\n",
      "It is easy :)\n",
      "Have a nice day!\n",
      "\n",
      "Display all chars: \n",
      "'Reading the regular text file\\nIt is easy :)\\nHave a nice day!'\n",
      "\n",
      "Read lines : \n",
      "'Reading the regular text file\\nIt is easy :)\\nHave a nice day!'\n",
      "\n",
      "'reading the regular text file\\n'\n",
      "'it is easy :)\\n'\n",
      "'have a nice day!'\n"
     ]
    }
   ],
   "source": [
    "import os\n",
    "cwd= os.getcwd() # current working directory\n",
    "print (cwd)\n",
    "# raise SystemExit('holdon')\n",
    "# file_name= os.path.join(cwd,'studies/otsebriy/data_science_camp/data/lesson_2.txt')\n",
    "file_name= os.path.join(cwd,'temp/lesson_2.txt')\n",
    "\n",
    "# full_path = os.path.realpath(__file__) # does not work in Jupyter\n",
    "# abs_path = os.path.dirname(os.path.abspath(__file__)) # does not work in Jupyter\n",
    "\n",
    "with open(file_name,'r') as f:\n",
    "    content = f.read()\n",
    "\n",
    "print (content)\n",
    "print ('\\nDisplay all chars: \\n{}'.format(repr(content)))\n",
    "\n",
    "print ('\\nRead lines : \\n{}\\n'.format(repr(content)))\n",
    "with open(file_name,'r') as f:\n",
    "    for line in f.readlines():\n",
    "        print (repr(line.lower()))\n"
   ]
  },
  {
   "cell_type": "markdown",
   "metadata": {},
   "source": [
    "<font color = green> \n",
    "    \n",
    "#### Read zip file\n",
    "</font>"
   ]
  },
  {
   "cell_type": "code",
   "execution_count": 12,
   "metadata": {},
   "outputs": [
    {
     "name": "stdout",
     "output_type": "stream",
     "text": [
      "b\"Oct 12 2009 \\tNice trendy hotel location not too bad.\\tI stayed in this hotel for one night. As this is a fairly new place some of the taxi drivers did not know where it was and/or did not want to drive there. Once I have eventually arrived at the hotel, I was very pleasantly surprised with the decor of the lobby/ground floor area. It was very stylish and modern. I found the reception's staff geeting me with 'Aloha' a bit out of place, but I guess they are briefed to say that to keep up the coroporate image.As I have a Starwood Preferred Guest member, I was given a small gift upon-check in. It was only a couple of fridge magnets in a gift box, but nevertheless a nice gesture.My room was nice and roomy, there are tea and coffee facilities in each room and you get two complimentary bottles of water plus some toiletries by 'bliss'.The location is not great. It is at the last metro stop and you then need to take a taxi, but if you are not planning on going to see the historic sites in Beijing, then you will be ok.I chose to have some breakfast in the hotel, which was really tasty and there was a good selection of dishes. There are a couple of computers to use in the communal area, as well as a pool table. There is also a small swimming pool and a gym area.I would definitely stay in this hotel again, but only if I did not plan to travel to central Beijing, as it can take a long time. The location is ok if you plan to do a lot of shopping, as there is a big shopping centre just few minutes away from the hotel and there are plenty of eating options around, including restaurants that serve a dog meat!\\t\\r\\n\"\n"
     ]
    }
   ],
   "source": [
    "import gzip\n",
    "import os\n",
    " \n",
    "cwd= os.getcwd() # current working directory\n",
    "path = os.path.join(cwd,'temp/')\n",
    "file_name=  os.path.join(path , 'reviews_data.txt.gz')\n",
    "\n",
    "with gzip.open (file_name, 'rb') as f:\n",
    "    for i, line in enumerate(f):\n",
    "        print(line)\n",
    "        break"
   ]
  },
  {
   "cell_type": "markdown",
   "metadata": {},
   "source": [
    "<font color = green> \n",
    "    \n",
    "#### Read pdf file \n",
    "[pdfreader](https://pdfreader.readthedocs.io/en/latest/tutorial.html)\n",
    "    \n",
    "</font>"
   ]
  },
  {
   "cell_type": "code",
   "execution_count": 14,
   "metadata": {},
   "outputs": [
    {
     "name": "stdout",
     "output_type": "stream",
     "text": [
      "len(all_pages)=512\n"
     ]
    }
   ],
   "source": [
    "import pdfreader\n",
    "from pdfreader import PDFDocument, SimplePDFViewer\n",
    "# fd = open(file_name, \"rb\")\n",
    "\n",
    "\n",
    "file_name = os.path.join(path , 'python_tutorial.pdf')\n",
    "file = open(file_name, 'rb')\n",
    "\n",
    "doc = PDFDocument(file)\n",
    "all_pages = [p for p in doc.pages()]\n",
    "print (f'len(all_pages)={len(all_pages)}')\n",
    "\n"
   ]
  },
  {
   "cell_type": "markdown",
   "metadata": {},
   "source": [
    "<font color = green> \n",
    "    \n",
    "#### Read csv file \n",
    "</font>"
   ]
  },
  {
   "cell_type": "code",
   "execution_count": 17,
   "metadata": {},
   "outputs": [
    {
     "name": "stdout",
     "output_type": "stream",
     "text": [
      "{'1000': '1001', 'Apple': 'Apricot', '4': '5', '133': '175'}\n",
      "{'1000': '1002', 'Apple': 'Avocado', '4': '5', '133': '182'}\n",
      "{'1000': '1003', 'Apple': 'Banana', '4': '5', '133': '187'}\n",
      "{'1000': '1004', 'Apple': 'Bilberry', '4': '5', '133': '160'}\n",
      "{'1000': '1005', 'Apple': 'Blackberry', '4': '4', '133': '178'}\n"
     ]
    },
    {
     "data": {
      "text/plain": [
       "dict_keys(['1000', 'Apple', '4', '133'])"
      ]
     },
     "execution_count": 17,
     "metadata": {},
     "output_type": "execute_result"
    }
   ],
   "source": [
    "import csv\n",
    "file_name = file_name=  os.path.join(path , 'fruits.csv') \n",
    "input_file = csv.DictReader(open(file_name ))\n",
    "lines = list(input_file)[:5]\n",
    "for line in lines:\n",
    "    print (line)\n",
    "\n",
    "lines[0].keys()"
   ]
  },
  {
   "cell_type": "code",
   "execution_count": 18,
   "metadata": {},
   "outputs": [
    {
     "name": "stdout",
     "output_type": "stream",
     "text": [
      "Help on class DictReader in module csv:\n",
      "\n",
      "class DictReader(builtins.object)\n",
      " |  DictReader(f, fieldnames=None, restkey=None, restval=None, dialect='excel', *args, **kwds)\n",
      " |  \n",
      " |  Methods defined here:\n",
      " |  \n",
      " |  __init__(self, f, fieldnames=None, restkey=None, restval=None, dialect='excel', *args, **kwds)\n",
      " |      Initialize self.  See help(type(self)) for accurate signature.\n",
      " |  \n",
      " |  __iter__(self)\n",
      " |  \n",
      " |  __next__(self)\n",
      " |  \n",
      " |  ----------------------------------------------------------------------\n",
      " |  Data descriptors defined here:\n",
      " |  \n",
      " |  __dict__\n",
      " |      dictionary for instance variables (if defined)\n",
      " |  \n",
      " |  __weakref__\n",
      " |      list of weak references to the object (if defined)\n",
      " |  \n",
      " |  fieldnames\n",
      "\n"
     ]
    }
   ],
   "source": [
    "help(csv.DictReader)"
   ]
  },
  {
   "cell_type": "markdown",
   "metadata": {},
   "source": [
    "***\n",
    "<font color = green> \n",
    "    \n",
    "### Write file\n",
    "</font>"
   ]
  },
  {
   "cell_type": "markdown",
   "metadata": {},
   "source": [
    "<font color = green> \n",
    "    \n",
    "#### Write text file\n",
    "</font>"
   ]
  },
  {
   "cell_type": "code",
   "execution_count": 19,
   "metadata": {},
   "outputs": [],
   "source": [
    "file_name=  os.path.join(cwd,'temp/lesson_2_temp.txt')\n",
    "with open(file_name, 'a', encoding='utf-8') as f:\n",
    "    from time import gmtime, strftime\n",
    "    f.write('{}: {}'.format(strftime(\"%Y-%m-%d %H:%M:%S\", gmtime()), 'New log message'))\n",
    "\n",
    "import io  \n",
    "with io.open(file_name, 'a', encoding='utf-8') as f:\n",
    "    f.write('\\nWrite some specific chars')"
   ]
  },
  {
   "cell_type": "markdown",
   "metadata": {},
   "source": [
    "<font color = green> \n",
    "    \n",
    "#### Write to xslx\n",
    "</font>"
   ]
  },
  {
   "cell_type": "code",
   "execution_count": 20,
   "metadata": {},
   "outputs": [],
   "source": [
    "import xlsxwriter\n",
    "file_name= os.path.join(path , 'output_custom.xlsx') \n",
    "\n",
    "# Create an new Excel file and add a worksheet.\n",
    "workbook = xlsxwriter.Workbook(file_name)\n",
    "worksheet = workbook.add_worksheet()\n",
    "\n",
    "# Widen the first column to make the text clearer.\n",
    "worksheet.set_column('A:A', 20)\n",
    "\n",
    "# Add a bold format to use to highlight cells.\n",
    "bold = workbook.add_format({'bold': True})\n",
    "\n",
    "# Write some simple text.\n",
    "worksheet.write('A1', 'Hello')\n",
    "\n",
    "# Text with formatting.\n",
    "worksheet.write('A2', 'World', bold)\n",
    "\n",
    "# Write some numbers, with row/column notation.\n",
    "worksheet.write(2, 0, 123)\n",
    "worksheet.write(3, 0, 123.456)\n",
    "workbook.close()\n"
   ]
  },
  {
   "cell_type": "markdown",
   "metadata": {},
   "source": [
    "***\n",
    "<font color = green> \n",
    "    \n",
    "### Pickle\n",
    "</font>"
   ]
  },
  {
   "cell_type": "code",
   "execution_count": 21,
   "metadata": {},
   "outputs": [
    {
     "data": {
      "text/plain": [
       "([1, 2, 3], 'hello', 'pickle')"
      ]
     },
     "execution_count": 21,
     "metadata": {},
     "output_type": "execute_result"
    }
   ],
   "source": [
    "import pickle\n",
    "\n",
    "artifacts= ([1,2,3], 'hello', 'pickle')\n",
    "file_name =os.path.join(path , 'artifact.pickle') \n",
    "with open( file_name , \"wb\") as f:\n",
    "    pickle.dump(artifacts, f, pickle.HIGHEST_PROTOCOL)\n",
    "\n",
    "with open(file_name, 'rb') as f:\n",
    "    artifacts_loaded = pickle.load(f)\n",
    "artifacts_loaded\n"
   ]
  },
  {
   "cell_type": "markdown",
   "metadata": {},
   "source": [
    "***\n",
    "<font color = green> \n",
    "    \n",
    "### if-else expression\n",
    "</font>"
   ]
  },
  {
   "cell_type": "code",
   "execution_count": 22,
   "metadata": {},
   "outputs": [
    {
     "data": {
      "text/plain": [
       "5"
      ]
     },
     "execution_count": 22,
     "metadata": {},
     "output_type": "execute_result"
    }
   ],
   "source": [
    "a= None\n",
    "a= 5 if not a else a\n",
    "a"
   ]
  },
  {
   "cell_type": "markdown",
   "metadata": {},
   "source": [
    "***\n",
    "<font color = green> \n",
    "    \n",
    "### Zip\n",
    "</font>"
   ]
  },
  {
   "cell_type": "code",
   "execution_count": 23,
   "metadata": {},
   "outputs": [
    {
     "name": "stdout",
     "output_type": "stream",
     "text": [
      "zipped: <zip object at 0x7f9b70220e80>\n",
      "Iterate on zipped object ((1, 'a'), (2, 'b'), (3, 'c'), (4, 'd'))\n",
      "zipped_narrow:  [(1, 'm'), (2, 'n')]\n",
      "unzipped: [(1, 2), ('m', 'n')]\n"
     ]
    }
   ],
   "source": [
    "a= [1,2,3,4]\n",
    "b = ['a','b','c','d']\n",
    "zipped=  zip (a,b)\n",
    "print('zipped:',zipped) \n",
    "print('Iterate on zipped object', tuple(zipped))\n",
    "\n",
    "c= ['m', 'n']\n",
    "zipped_narrow=  list(zip (a,c))\n",
    "print('zipped_narrow: ', zipped_narrow)\n",
    "\n",
    "unzipped = list(zip (* zipped_narrow))\n",
    "print ('unzipped:', unzipped) "
   ]
  },
  {
   "cell_type": "markdown",
   "metadata": {},
   "source": [
    "***\n",
    "<font color = green> \n",
    "    \n",
    "### Comprehensions\n",
    "</font>"
   ]
  },
  {
   "cell_type": "markdown",
   "metadata": {},
   "source": [
    "<font color = green> \n",
    "    \n",
    "#### List comprehension\n",
    "</font>"
   ]
  },
  {
   "cell_type": "code",
   "execution_count": 24,
   "metadata": {},
   "outputs": [
    {
     "name": "stdout",
     "output_type": "stream",
     "text": [
      "H_E_L_L_O_ _C_O_M_P_R_E_H_E_N_S_I_O_N\n"
     ]
    }
   ],
   "source": [
    "upper_list = [item.upper() for item in 'hello comprehension']\n",
    "print ('_'.join(upper_list))"
   ]
  },
  {
   "cell_type": "markdown",
   "metadata": {},
   "source": [
    "<font color = green> \n",
    "    \n",
    "#### Dictionary comprehension\n",
    "</font>"
   ]
  },
  {
   "cell_type": "code",
   "execution_count": 25,
   "metadata": {},
   "outputs": [
    {
     "name": "stdout",
     "output_type": "stream",
     "text": [
      "{0: 'hello', 1: 'dict', 2: 'comprehension'}\n"
     ]
    }
   ],
   "source": [
    "i_dict = {i: v  for i, v in enumerate (['hello','dict', 'comprehension'])}\n",
    "print (i_dict)   \n"
   ]
  },
  {
   "cell_type": "markdown",
   "metadata": {},
   "source": [
    "<font color = green> \n",
    "    \n",
    "#### Multi loops in list comprehension\n",
    "</font>"
   ]
  },
  {
   "cell_type": "code",
   "execution_count": 26,
   "metadata": {},
   "outputs": [
    {
     "name": "stdout",
     "output_type": "stream",
     "text": [
      "['a0', 'a1', 'a2', 'a3', 'b0', 'b1', 'b2', 'b3', 'c0', 'c1', 'c2', 'c3']\n",
      "['a0', 'a1', 'a2', 'a3', 'b0', 'b1', 'b2', 'b3', 'c0', 'c1', 'c2', 'c3']\n"
     ]
    }
   ],
   "source": [
    "print (['{}{}'.format(item,i) for item in ['a','b','c']  for i in range(4)])\n",
    "\n",
    "container_list= []\n",
    "for item in ['a','b','c'] :\n",
    "    for i in range(4):\n",
    "        container_list.append('{}{}'.format(item,i))\n",
    "print (container_list)    \n"
   ]
  },
  {
   "cell_type": "markdown",
   "metadata": {},
   "source": [
    "<font color = green> \n",
    "    \n",
    "#### Two variables in loop in list comprehension\n",
    "</font>"
   ]
  },
  {
   "cell_type": "code",
   "execution_count": 27,
   "metadata": {},
   "outputs": [
    {
     "name": "stdout",
     "output_type": "stream",
     "text": [
      "['a3', 'b4', 'c5']\n",
      "{0: 'a', 1: 'b', 2: 'c'}\n"
     ]
    }
   ],
   "source": [
    "print (['{}{}'.format(item,i) for item, i in zip(['a','b','c'] , list(range(3,6)))])\n",
    "print ({i: v for i, v in enumerate(['a','b','c'])})"
   ]
  },
  {
   "cell_type": "markdown",
   "metadata": {},
   "source": [
    "<font color = green> \n",
    "    \n",
    "#### if-else in comprehensions\n",
    "</font>"
   ]
  },
  {
   "cell_type": "code",
   "execution_count": 28,
   "metadata": {},
   "outputs": [
    {
     "data": {
      "text/plain": [
       "['Ternopil']"
      ]
     },
     "execution_count": 28,
     "metadata": {},
     "output_type": "execute_result"
    }
   ],
   "source": [
    "[item for item in ['Ternopil', 'KYIV', 'car', 1] if str(item).istitle()]"
   ]
  },
  {
   "cell_type": "code",
   "execution_count": 29,
   "metadata": {},
   "outputs": [
    {
     "name": "stdout",
     "output_type": "stream",
     "text": [
      "['even: 0', 'odd: 1', 'even: 2', 'odd: 3', 'even: 4', 'odd: 5', 'even: 6', 'odd: 7', 'even: 8', 'odd: 9']\n"
     ]
    }
   ],
   "source": [
    "print (['even: {}'.format(i) if i%2 ==0 else 'odd: {}'.format(i) for i in range(10) ]) "
   ]
  },
  {
   "cell_type": "markdown",
   "metadata": {},
   "source": [
    "***\n",
    "<font color = green> \n",
    "## Any questions or suggestions?\n",
    "</font>"
   ]
  },
  {
   "cell_type": "code",
   "execution_count": null,
   "metadata": {},
   "outputs": [],
   "source": []
  },
  {
   "cell_type": "code",
   "execution_count": null,
   "metadata": {},
   "outputs": [],
   "source": []
  }
 ],
 "metadata": {
  "kernelspec": {
   "display_name": "Python 3 (ipykernel)",
   "language": "python",
   "name": "python3"
  },
  "language_info": {
   "codemirror_mode": {
    "name": "ipython",
    "version": 3
   },
   "file_extension": ".py",
   "mimetype": "text/x-python",
   "name": "python",
   "nbconvert_exporter": "python",
   "pygments_lexer": "ipython3",
   "version": "3.9.13"
  }
 },
 "nbformat": 4,
 "nbformat_minor": 1
}
