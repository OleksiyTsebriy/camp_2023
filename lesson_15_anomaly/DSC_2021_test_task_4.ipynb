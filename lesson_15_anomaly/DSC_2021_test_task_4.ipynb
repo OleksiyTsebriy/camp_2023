{
 "cells": [
  {
   "cell_type": "markdown",
   "metadata": {},
   "source": [
    "<font color='green'>\n",
    "    \n",
    "# Data Science Camp 2021 test task 4\n",
    "</font>    \n"
   ]
  },
  {
   "cell_type": "markdown",
   "metadata": {},
   "source": [
    "`data_housing.csv`contains records for 20,630 houses (it can be any accomodation e.g. appartments) in some city in some coutry. Attributes:  \n",
    "\n",
    "    - rent: amount of montly payment in USD\n",
    "    - dist: distance to center \n",
    "    - nrooms: number of rooms \n",
    "    - age: age of house \n",
    "    - size: are in sq.m\n",
    "    - noccup: number of people registered in the house\n",
    "    - price: price of the house in USD\n",
    " \n",
    "\n",
    "Task:    \n",
    "    1) The data is not completely clean. Look for anomaly values (e.g. outliers, non-number format, missed values) and try to handle them. Please describe your discovceries and selected approach.      <br>\n",
    "    2) Try to fill the missed values of 'price'. Feel free to apply any approach e.g. statistical analysis or machine learning        <br>\n",
    "    3) Provide csv file file with data keeping all indices as original dataset. 'price' column should be number format without missed values, but instead filled by values you could predict. You may also provide values of other columns you consider more accurate than in original dataset.    <br>\n",
    "    4) Provide explanation of all your findings and achievements\n",
    "    "
   ]
  },
  {
   "cell_type": "code",
   "execution_count": 1,
   "metadata": {},
   "outputs": [
    {
     "data": {
      "text/html": [
       "<div>\n",
       "<style scoped>\n",
       "    .dataframe tbody tr th:only-of-type {\n",
       "        vertical-align: middle;\n",
       "    }\n",
       "\n",
       "    .dataframe tbody tr th {\n",
       "        vertical-align: top;\n",
       "    }\n",
       "\n",
       "    .dataframe thead th {\n",
       "        text-align: right;\n",
       "    }\n",
       "</style>\n",
       "<table border=\"1\" class=\"dataframe\">\n",
       "  <thead>\n",
       "    <tr style=\"text-align: right;\">\n",
       "      <th></th>\n",
       "      <th>rent</th>\n",
       "      <th>dist</th>\n",
       "      <th>nrooms</th>\n",
       "      <th>age</th>\n",
       "      <th>size</th>\n",
       "      <th>noccup</th>\n",
       "      <th>price</th>\n",
       "    </tr>\n",
       "  </thead>\n",
       "  <tbody>\n",
       "    <tr>\n",
       "      <th>0</th>\n",
       "      <td>624</td>\n",
       "      <td>17.0</td>\n",
       "      <td>2.0</td>\n",
       "      <td>age:41</td>\n",
       "      <td>52</td>\n",
       "      <td>3</td>\n",
       "      <td>226300.0</td>\n",
       "    </tr>\n",
       "    <tr>\n",
       "      <th>1</th>\n",
       "      <td>622</td>\n",
       "      <td>17.0</td>\n",
       "      <td>2.0</td>\n",
       "      <td>21</td>\n",
       "      <td>43</td>\n",
       "      <td>3</td>\n",
       "      <td>NaN</td>\n",
       "    </tr>\n",
       "    <tr>\n",
       "      <th>2</th>\n",
       "      <td>544</td>\n",
       "      <td>NaN</td>\n",
       "      <td>2.0</td>\n",
       "      <td>52</td>\n",
       "      <td>57</td>\n",
       "      <td>3</td>\n",
       "      <td>176050.0</td>\n",
       "    </tr>\n",
       "    <tr>\n",
       "      <th>3</th>\n",
       "      <td>'423'</td>\n",
       "      <td>17.0</td>\n",
       "      <td>2.0</td>\n",
       "      <td>age:52</td>\n",
       "      <td>51</td>\n",
       "      <td>3</td>\n",
       "      <td>170650.0</td>\n",
       "    </tr>\n",
       "    <tr>\n",
       "      <th>4</th>\n",
       "      <td>288</td>\n",
       "      <td>to center = 17</td>\n",
       "      <td>2.0</td>\n",
       "      <td>52</td>\n",
       "      <td>44</td>\n",
       "      <td>3</td>\n",
       "      <td>171100.0</td>\n",
       "    </tr>\n",
       "    <tr>\n",
       "      <th>...</th>\n",
       "      <td>...</td>\n",
       "      <td>...</td>\n",
       "      <td>...</td>\n",
       "      <td>...</td>\n",
       "      <td>...</td>\n",
       "      <td>...</td>\n",
       "      <td>...</td>\n",
       "    </tr>\n",
       "    <tr>\n",
       "      <th>20635</th>\n",
       "      <td>117</td>\n",
       "      <td>20.0</td>\n",
       "      <td>2.0</td>\n",
       "      <td>25</td>\n",
       "      <td>52</td>\n",
       "      <td>3</td>\n",
       "      <td>39050.0</td>\n",
       "    </tr>\n",
       "    <tr>\n",
       "      <th>20636</th>\n",
       "      <td>'191'</td>\n",
       "      <td>20.0</td>\n",
       "      <td>2.0</td>\n",
       "      <td>mid</td>\n",
       "      <td>63</td>\n",
       "      <td>3</td>\n",
       "      <td>38550.0</td>\n",
       "    </tr>\n",
       "    <tr>\n",
       "      <th>20637</th>\n",
       "      <td>127</td>\n",
       "      <td>NaN</td>\n",
       "      <td>2.0</td>\n",
       "      <td>17</td>\n",
       "      <td>47</td>\n",
       "      <td>3</td>\n",
       "      <td>46150.0</td>\n",
       "    </tr>\n",
       "    <tr>\n",
       "      <th>20638</th>\n",
       "      <td>140</td>\n",
       "      <td>20.0</td>\n",
       "      <td>NaN</td>\n",
       "      <td>18</td>\n",
       "      <td>43</td>\n",
       "      <td>3</td>\n",
       "      <td>42350.0</td>\n",
       "    </tr>\n",
       "    <tr>\n",
       "      <th>20639</th>\n",
       "      <td>NaN</td>\n",
       "      <td>20.0</td>\n",
       "      <td>2.0</td>\n",
       "      <td>16</td>\n",
       "      <td>53</td>\n",
       "      <td>3</td>\n",
       "      <td>44700.0</td>\n",
       "    </tr>\n",
       "  </tbody>\n",
       "</table>\n",
       "<p>20630 rows × 7 columns</p>\n",
       "</div>"
      ],
      "text/plain": [
       "        rent            dist  nrooms     age size noccup     price\n",
       "0        624            17.0     2.0  age:41   52      3  226300.0\n",
       "1        622            17.0     2.0      21   43      3       NaN\n",
       "2        544             NaN     2.0      52   57      3  176050.0\n",
       "3      '423'            17.0     2.0  age:52   51      3  170650.0\n",
       "4        288  to center = 17     2.0      52   44      3  171100.0\n",
       "...      ...             ...     ...     ...  ...    ...       ...\n",
       "20635    117            20.0     2.0      25   52      3   39050.0\n",
       "20636  '191'            20.0     2.0     mid   63      3   38550.0\n",
       "20637    127             NaN     2.0      17   47      3   46150.0\n",
       "20638    140            20.0     NaN      18   43      3   42350.0\n",
       "20639    NaN            20.0     2.0      16   53      3   44700.0\n",
       "\n",
       "[20630 rows x 7 columns]"
      ]
     },
     "execution_count": 1,
     "metadata": {},
     "output_type": "execute_result"
    }
   ],
   "source": [
    "import pandas  as pd \n",
    "import numpy as np\n",
    "df_r= pd.read_csv('data_housing.csv', index_col=0)\n",
    "df_r"
   ]
  },
  {
   "cell_type": "code",
   "execution_count": 3,
   "metadata": {},
   "outputs": [
    {
     "data": {
      "text/plain": [
       "rent       object\n",
       "dist       object\n",
       "nrooms    float64\n",
       "age        object\n",
       "size       object\n",
       "noccup     object\n",
       "price     float64\n",
       "dtype: object"
      ]
     },
     "execution_count": 3,
     "metadata": {},
     "output_type": "execute_result"
    }
   ],
   "source": [
    "df_r.dtypes"
   ]
  },
  {
   "cell_type": "code",
   "execution_count": 4,
   "metadata": {},
   "outputs": [
    {
     "data": {
      "text/plain": [
       "rent      1250\n",
       "dist      1000\n",
       "nrooms    1000\n",
       "age        500\n",
       "size       250\n",
       "noccup     125\n",
       "price     1806\n",
       "dtype: int64"
      ]
     },
     "execution_count": 4,
     "metadata": {},
     "output_type": "execute_result"
    }
   ],
   "source": [
    "df_r.isnull().sum()"
   ]
  }
 ],
 "metadata": {
  "kernelspec": {
   "display_name": "Python 3 (ipykernel)",
   "language": "python",
   "name": "python3"
  },
  "language_info": {
   "codemirror_mode": {
    "name": "ipython",
    "version": 3
   },
   "file_extension": ".py",
   "mimetype": "text/x-python",
   "name": "python",
   "nbconvert_exporter": "python",
   "pygments_lexer": "ipython3",
   "version": "3.9.13"
  }
 },
 "nbformat": 4,
 "nbformat_minor": 4
}
